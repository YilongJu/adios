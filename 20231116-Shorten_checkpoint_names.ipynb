{
 "cells": [
  {
   "cell_type": "code",
   "execution_count": 18,
   "id": "a64a28e0-c868-444c-907d-4eb4ea00d571",
   "metadata": {},
   "outputs": [],
   "source": [
    "import os\n",
    "import shutil"
   ]
  },
  {
   "cell_type": "code",
   "execution_count": 26,
   "id": "a2658e05-9dd8-4c3d-8897-61c68dc849fe",
   "metadata": {},
   "outputs": [
    {
     "data": {
      "text/plain": [
       "(['cqpywv9j',\n",
       "  'fbmrv1zn',\n",
       "  'g09je3xq',\n",
       "  'jmc8vlus',\n",
       "  'ppmvi63y',\n",
       "  's565epz8',\n",
       "  's6qzuo6i',\n",
       "  'sbqkv8ud',\n",
       "  't2ykqoga'],\n",
       " 't2ykqoga',\n",
       " ['supervised-clocsCNN_1D-ECG_normalized-20230220_v30-deep_ensemble-maxep200-early_stopping_patience40-mixup-label_smoothing-aug_selected_20221029-prob1.25_2-t2ykqoga-epoch=00-val_auroc=0.2969.ckpt',\n",
       "  'supervised-clocsCNN_1D-ECG_normalized-20230220_v30-deep_ensemble-maxep200-early_stopping_patience40-mixup-label_smoothing-aug_selected_20221029-prob1.25_2-t2ykqoga-epoch=01-val_auroc=0.7916.ckpt',\n",
       "  'supervised-clocsCNN_1D-ECG_normalized-20230220_v30-deep_ensemble-maxep200-early_stopping_patience40-mixup-label_smoothing-aug_selected_20221029-prob1.25_2-t2ykqoga-epoch=02-val_auroc=0.8154.ckpt',\n",
       "  'supervised-clocsCNN_1D-ECG_normalized-20230220_v30-deep_ensemble-maxep200-early_stopping_patience40-mixup-label_smoothing-aug_selected_20221029-prob1.25_2-t2ykqoga-epoch=03-val_auroc=0.7190.ckpt',\n",
       "  'supervised-clocsCNN_1D-ECG_normalized-20230220_v30-deep_ensemble-maxep200-early_stopping_patience40-mixup-label_smoothing-aug_selected_20221029-prob1.25_2-t2ykqoga-epoch=04-val_auroc=0.8120.ckpt',\n",
       "  'supervised-clocsCNN_1D-ECG_normalized-20230220_v30-deep_ensemble-maxep200-early_stopping_patience40-mixup-label_smoothing-aug_selected_20221029-prob1.25_2-t2ykqoga-epoch=05-val_auroc=0.7191.ckpt',\n",
       "  'supervised-clocsCNN_1D-ECG_normalized-20230220_v30-deep_ensemble-maxep200-early_stopping_patience40-mixup-label_smoothing-aug_selected_20221029-prob1.25_2-t2ykqoga-epoch=06-val_auroc=0.8886.ckpt',\n",
       "  'supervised-clocsCNN_1D-ECG_normalized-20230220_v30-deep_ensemble-maxep200-early_stopping_patience40-mixup-label_smoothing-aug_selected_20221029-prob1.25_2-t2ykqoga-epoch=07-val_auroc=0.7133.ckpt',\n",
       "  'supervised-clocsCNN_1D-ECG_normalized-20230220_v30-deep_ensemble-maxep200-early_stopping_patience40-mixup-label_smoothing-aug_selected_20221029-prob1.25_2-t2ykqoga-epoch=08-val_auroc=0.7622.ckpt',\n",
       "  'supervised-clocsCNN_1D-ECG_normalized-20230220_v30-deep_ensemble-maxep200-early_stopping_patience40-mixup-label_smoothing-aug_selected_20221029-prob1.25_2-t2ykqoga-epoch=09-val_auroc=0.8727.ckpt',\n",
       "  'supervised-clocsCNN_1D-ECG_normalized-20230220_v30-deep_ensemble-maxep200-early_stopping_patience40-mixup-label_smoothing-aug_selected_20221029-prob1.25_2-t2ykqoga-epoch=10-val_auroc=0.7358.ckpt',\n",
       "  'supervised-clocsCNN_1D-ECG_normalized-20230220_v30-deep_ensemble-maxep200-early_stopping_patience40-mixup-label_smoothing-aug_selected_20221029-prob1.25_2-t2ykqoga-epoch=11-val_auroc=0.7085.ckpt',\n",
       "  'supervised-clocsCNN_1D-ECG_normalized-20230220_v30-deep_ensemble-maxep200-early_stopping_patience40-mixup-label_smoothing-aug_selected_20221029-prob1.25_2-t2ykqoga-epoch=12-val_auroc=0.8698.ckpt',\n",
       "  'supervised-clocsCNN_1D-ECG_normalized-20230220_v30-deep_ensemble-maxep200-early_stopping_patience40-mixup-label_smoothing-aug_selected_20221029-prob1.25_2-t2ykqoga-epoch=13-val_auroc=0.5507.ckpt',\n",
       "  'supervised-clocsCNN_1D-ECG_normalized-20230220_v30-deep_ensemble-maxep200-early_stopping_patience40-mixup-label_smoothing-aug_selected_20221029-prob1.25_2-t2ykqoga-epoch=14-val_auroc=0.8172.ckpt',\n",
       "  'supervised-clocsCNN_1D-ECG_normalized-20230220_v30-deep_ensemble-maxep200-early_stopping_patience40-mixup-label_smoothing-aug_selected_20221029-prob1.25_2-t2ykqoga-epoch=15-val_auroc=0.8903.ckpt',\n",
       "  'supervised-clocsCNN_1D-ECG_normalized-20230220_v30-deep_ensemble-maxep200-early_stopping_patience40-mixup-label_smoothing-aug_selected_20221029-prob1.25_2-t2ykqoga-epoch=16-val_auroc=0.8191.ckpt',\n",
       "  'supervised-clocsCNN_1D-ECG_normalized-20230220_v30-deep_ensemble-maxep200-early_stopping_patience40-mixup-label_smoothing-aug_selected_20221029-prob1.25_2-t2ykqoga-epoch=17-val_auroc=0.8250.ckpt',\n",
       "  'supervised-clocsCNN_1D-ECG_normalized-20230220_v30-deep_ensemble-maxep200-early_stopping_patience40-mixup-label_smoothing-aug_selected_20221029-prob1.25_2-t2ykqoga-epoch=18-val_auroc=0.7843.ckpt',\n",
       "  'supervised-clocsCNN_1D-ECG_normalized-20230220_v30-deep_ensemble-maxep200-early_stopping_patience40-mixup-label_smoothing-aug_selected_20221029-prob1.25_2-t2ykqoga-epoch=19-val_auroc=0.8737.ckpt',\n",
       "  'supervised-clocsCNN_1D-ECG_normalized-20230220_v30-deep_ensemble-maxep200-early_stopping_patience40-mixup-label_smoothing-aug_selected_20221029-prob1.25_2-t2ykqoga-epoch=20-val_auroc=0.8095.ckpt',\n",
       "  'supervised-clocsCNN_1D-ECG_normalized-20230220_v30-deep_ensemble-maxep200-early_stopping_patience40-mixup-label_smoothing-aug_selected_20221029-prob1.25_2-t2ykqoga-epoch=21-val_auroc=0.7017.ckpt',\n",
       "  'supervised-clocsCNN_1D-ECG_normalized-20230220_v30-deep_ensemble-maxep200-early_stopping_patience40-mixup-label_smoothing-aug_selected_20221029-prob1.25_2-t2ykqoga-epoch=22-val_auroc=0.8764.ckpt',\n",
       "  'supervised-clocsCNN_1D-ECG_normalized-20230220_v30-deep_ensemble-maxep200-early_stopping_patience40-mixup-label_smoothing-aug_selected_20221029-prob1.25_2-t2ykqoga-epoch=23-val_auroc=0.7666.ckpt',\n",
       "  'supervised-clocsCNN_1D-ECG_normalized-20230220_v30-deep_ensemble-maxep200-early_stopping_patience40-mixup-label_smoothing-aug_selected_20221029-prob1.25_2-t2ykqoga-epoch=24-val_auroc=0.8748.ckpt',\n",
       "  'supervised-clocsCNN_1D-ECG_normalized-20230220_v30-deep_ensemble-maxep200-early_stopping_patience40-mixup-label_smoothing-aug_selected_20221029-prob1.25_2-t2ykqoga-epoch=25-val_auroc=0.8922.ckpt',\n",
       "  'supervised-clocsCNN_1D-ECG_normalized-20230220_v30-deep_ensemble-maxep200-early_stopping_patience40-mixup-label_smoothing-aug_selected_20221029-prob1.25_2-t2ykqoga-epoch=26-val_auroc=0.7280.ckpt',\n",
       "  'supervised-clocsCNN_1D-ECG_normalized-20230220_v30-deep_ensemble-maxep200-early_stopping_patience40-mixup-label_smoothing-aug_selected_20221029-prob1.25_2-t2ykqoga-epoch=27-val_auroc=0.8137.ckpt',\n",
       "  'supervised-clocsCNN_1D-ECG_normalized-20230220_v30-deep_ensemble-maxep200-early_stopping_patience40-mixup-label_smoothing-aug_selected_20221029-prob1.25_2-t2ykqoga-epoch=28-val_auroc=0.8563.ckpt',\n",
       "  'supervised-clocsCNN_1D-ECG_normalized-20230220_v30-deep_ensemble-maxep200-early_stopping_patience40-mixup-label_smoothing-aug_selected_20221029-prob1.25_2-t2ykqoga-epoch=29-val_auroc=0.8949.ckpt',\n",
       "  'supervised-clocsCNN_1D-ECG_normalized-20230220_v30-deep_ensemble-maxep200-early_stopping_patience40-mixup-label_smoothing-aug_selected_20221029-prob1.25_2-t2ykqoga-epoch=30-val_auroc=0.8604.ckpt',\n",
       "  'supervised-clocsCNN_1D-ECG_normalized-20230220_v30-deep_ensemble-maxep200-early_stopping_patience40-mixup-label_smoothing-aug_selected_20221029-prob1.25_2-t2ykqoga-epoch=31-val_auroc=0.8348.ckpt',\n",
       "  'supervised-clocsCNN_1D-ECG_normalized-20230220_v30-deep_ensemble-maxep200-early_stopping_patience40-mixup-label_smoothing-aug_selected_20221029-prob1.25_2-t2ykqoga-epoch=32-val_auroc=0.7627.ckpt',\n",
       "  'supervised-clocsCNN_1D-ECG_normalized-20230220_v30-deep_ensemble-maxep200-early_stopping_patience40-mixup-label_smoothing-aug_selected_20221029-prob1.25_2-t2ykqoga-epoch=33-val_auroc=0.8476.ckpt',\n",
       "  'supervised-clocsCNN_1D-ECG_normalized-20230220_v30-deep_ensemble-maxep200-early_stopping_patience40-mixup-label_smoothing-aug_selected_20221029-prob1.25_2-t2ykqoga-epoch=34-val_auroc=0.8684.ckpt',\n",
       "  'supervised-clocsCNN_1D-ECG_normalized-20230220_v30-deep_ensemble-maxep200-early_stopping_patience40-mixup-label_smoothing-aug_selected_20221029-prob1.25_2-t2ykqoga-epoch=35-val_auroc=0.8753.ckpt',\n",
       "  'supervised-clocsCNN_1D-ECG_normalized-20230220_v30-deep_ensemble-maxep200-early_stopping_patience40-mixup-label_smoothing-aug_selected_20221029-prob1.25_2-t2ykqoga-epoch=36-val_auroc=0.8887.ckpt',\n",
       "  'supervised-clocsCNN_1D-ECG_normalized-20230220_v30-deep_ensemble-maxep200-early_stopping_patience40-mixup-label_smoothing-aug_selected_20221029-prob1.25_2-t2ykqoga-epoch=37-val_auroc=0.8300.ckpt',\n",
       "  'supervised-clocsCNN_1D-ECG_normalized-20230220_v30-deep_ensemble-maxep200-early_stopping_patience40-mixup-label_smoothing-aug_selected_20221029-prob1.25_2-t2ykqoga-epoch=38-val_auroc=0.8338.ckpt',\n",
       "  'supervised-clocsCNN_1D-ECG_normalized-20230220_v30-deep_ensemble-maxep200-early_stopping_patience40-mixup-label_smoothing-aug_selected_20221029-prob1.25_2-t2ykqoga-epoch=39-val_auroc=0.8338.ckpt',\n",
       "  'supervised-clocsCNN_1D-ECG_normalized-20230220_v30-deep_ensemble-maxep200-early_stopping_patience40-mixup-label_smoothing-aug_selected_20221029-prob1.25_2-t2ykqoga-epoch=40-val_auroc=0.8465.ckpt',\n",
       "  'supervised-clocsCNN_1D-ECG_normalized-20230220_v30-deep_ensemble-maxep200-early_stopping_patience40-mixup-label_smoothing-aug_selected_20221029-prob1.25_2-t2ykqoga-epoch=41-val_auroc=0.8292.ckpt',\n",
       "  'supervised-clocsCNN_1D-ECG_normalized-20230220_v30-deep_ensemble-maxep200-early_stopping_patience40-mixup-label_smoothing-aug_selected_20221029-prob1.25_2-t2ykqoga-epoch=42-val_auroc=0.8778.ckpt',\n",
       "  'supervised-clocsCNN_1D-ECG_normalized-20230220_v30-deep_ensemble-maxep200-early_stopping_patience40-mixup-label_smoothing-aug_selected_20221029-prob1.25_2-t2ykqoga-epoch=43-val_auroc=0.8615.ckpt',\n",
       "  'supervised-clocsCNN_1D-ECG_normalized-20230220_v30-deep_ensemble-maxep200-early_stopping_patience40-mixup-label_smoothing-aug_selected_20221029-prob1.25_2-t2ykqoga-epoch=44-val_auroc=0.7239.ckpt',\n",
       "  'supervised-clocsCNN_1D-ECG_normalized-20230220_v30-deep_ensemble-maxep200-early_stopping_patience40-mixup-label_smoothing-aug_selected_20221029-prob1.25_2-t2ykqoga-epoch=45-val_auroc=0.8463.ckpt',\n",
       "  'supervised-clocsCNN_1D-ECG_normalized-20230220_v30-deep_ensemble-maxep200-early_stopping_patience40-mixup-label_smoothing-aug_selected_20221029-prob1.25_2-t2ykqoga-epoch=46-val_auroc=0.8156.ckpt',\n",
       "  'supervised-clocsCNN_1D-ECG_normalized-20230220_v30-deep_ensemble-maxep200-early_stopping_patience40-mixup-label_smoothing-aug_selected_20221029-prob1.25_2-t2ykqoga-epoch=47-val_auroc=0.8346.ckpt',\n",
       "  'supervised-clocsCNN_1D-ECG_normalized-20230220_v30-deep_ensemble-maxep200-early_stopping_patience40-mixup-label_smoothing-aug_selected_20221029-prob1.25_2-t2ykqoga-epoch=48-val_auroc=0.7639.ckpt',\n",
       "  'supervised-clocsCNN_1D-ECG_normalized-20230220_v30-deep_ensemble-maxep200-early_stopping_patience40-mixup-label_smoothing-aug_selected_20221029-prob1.25_2-t2ykqoga-epoch=49-val_auroc=0.7665.ckpt',\n",
       "  'supervised-clocsCNN_1D-ECG_normalized-20230220_v30-deep_ensemble-maxep200-early_stopping_patience40-mixup-label_smoothing-aug_selected_20221029-prob1.25_2-t2ykqoga-epoch=50-val_auroc=0.8857.ckpt',\n",
       "  'supervised-clocsCNN_1D-ECG_normalized-20230220_v30-deep_ensemble-maxep200-early_stopping_patience40-mixup-label_smoothing-aug_selected_20221029-prob1.25_2-t2ykqoga-epoch=51-val_auroc=0.8457.ckpt',\n",
       "  'supervised-clocsCNN_1D-ECG_normalized-20230220_v30-deep_ensemble-maxep200-early_stopping_patience40-mixup-label_smoothing-aug_selected_20221029-prob1.25_2-t2ykqoga-epoch=52-val_auroc=0.8592.ckpt',\n",
       "  'supervised-clocsCNN_1D-ECG_normalized-20230220_v30-deep_ensemble-maxep200-early_stopping_patience40-mixup-label_smoothing-aug_selected_20221029-prob1.25_2-t2ykqoga-epoch=53-val_auroc=0.8764.ckpt',\n",
       "  'supervised-clocsCNN_1D-ECG_normalized-20230220_v30-deep_ensemble-maxep200-early_stopping_patience40-mixup-label_smoothing-aug_selected_20221029-prob1.25_2-t2ykqoga-epoch=54-val_auroc=0.8821.ckpt',\n",
       "  'supervised-clocsCNN_1D-ECG_normalized-20230220_v30-deep_ensemble-maxep200-early_stopping_patience40-mixup-label_smoothing-aug_selected_20221029-prob1.25_2-t2ykqoga-epoch=55-val_auroc=0.7522.ckpt',\n",
       "  'supervised-clocsCNN_1D-ECG_normalized-20230220_v30-deep_ensemble-maxep200-early_stopping_patience40-mixup-label_smoothing-aug_selected_20221029-prob1.25_2-t2ykqoga-epoch=56-val_auroc=0.7432.ckpt',\n",
       "  'supervised-clocsCNN_1D-ECG_normalized-20230220_v30-deep_ensemble-maxep200-early_stopping_patience40-mixup-label_smoothing-aug_selected_20221029-prob1.25_2-t2ykqoga-epoch=57-val_auroc=0.8797.ckpt',\n",
       "  'supervised-clocsCNN_1D-ECG_normalized-20230220_v30-deep_ensemble-maxep200-early_stopping_patience40-mixup-label_smoothing-aug_selected_20221029-prob1.25_2-t2ykqoga-epoch=58-val_auroc=0.8219.ckpt',\n",
       "  'supervised-clocsCNN_1D-ECG_normalized-20230220_v30-deep_ensemble-maxep200-early_stopping_patience40-mixup-label_smoothing-aug_selected_20221029-prob1.25_2-t2ykqoga-epoch=59-val_auroc=0.8580.ckpt',\n",
       "  'supervised-clocsCNN_1D-ECG_normalized-20230220_v30-deep_ensemble-maxep200-early_stopping_patience40-mixup-label_smoothing-aug_selected_20221029-prob1.25_2-t2ykqoga-epoch=60-val_auroc=0.8594.ckpt',\n",
       "  'supervised-clocsCNN_1D-ECG_normalized-20230220_v30-deep_ensemble-maxep200-early_stopping_patience40-mixup-label_smoothing-aug_selected_20221029-prob1.25_2-t2ykqoga-epoch=61-val_auroc=0.7705.ckpt',\n",
       "  'supervised-clocsCNN_1D-ECG_normalized-20230220_v30-deep_ensemble-maxep200-early_stopping_patience40-mixup-label_smoothing-aug_selected_20221029-prob1.25_2-t2ykqoga-epoch=62-val_auroc=0.7949.ckpt',\n",
       "  'supervised-clocsCNN_1D-ECG_normalized-20230220_v30-deep_ensemble-maxep200-early_stopping_patience40-mixup-label_smoothing-aug_selected_20221029-prob1.25_2-t2ykqoga-epoch=63-val_auroc=0.8178.ckpt',\n",
       "  'supervised-clocsCNN_1D-ECG_normalized-20230220_v30-deep_ensemble-maxep200-early_stopping_patience40-mixup-label_smoothing-aug_selected_20221029-prob1.25_2-t2ykqoga-epoch=64-val_auroc=0.8717.ckpt',\n",
       "  'supervised-clocsCNN_1D-ECG_normalized-20230220_v30-deep_ensemble-maxep200-early_stopping_patience40-mixup-label_smoothing-aug_selected_20221029-prob1.25_2-t2ykqoga-epoch=65-val_auroc=0.6903.ckpt',\n",
       "  'supervised-clocsCNN_1D-ECG_normalized-20230220_v30-deep_ensemble-maxep200-early_stopping_patience40-mixup-label_smoothing-aug_selected_20221029-prob1.25_2-t2ykqoga-epoch=66-val_auroc=0.8494.ckpt',\n",
       "  'supervised-clocsCNN_1D-ECG_normalized-20230220_v30-deep_ensemble-maxep200-early_stopping_patience40-mixup-label_smoothing-aug_selected_20221029-prob1.25_2-t2ykqoga-epoch=67-val_auroc=0.8595.ckpt',\n",
       "  'supervised-clocsCNN_1D-ECG_normalized-20230220_v30-deep_ensemble-maxep200-early_stopping_patience40-mixup-label_smoothing-aug_selected_20221029-prob1.25_2-t2ykqoga-epoch=68-val_auroc=0.8195.ckpt',\n",
       "  'supervised-clocsCNN_1D-ECG_normalized-20230220_v30-deep_ensemble-maxep200-early_stopping_patience40-mixup-label_smoothing-aug_selected_20221029-prob1.25_2-t2ykqoga-epoch=69-val_auroc=0.8428.ckpt'],\n",
       " 'trained_models\\\\linear\\\\Best-clocsCNNs\\\\checkpoints_shortened\\\\t2ykqoga',\n",
       " 'trained_models\\\\linear\\\\Best-clocsCNNs\\\\t2ykqoga\\\\supervised-clocsCNN_1D-ECG_normalized-20230220_v30-deep_ensemble-maxep200-early_stopping_patience40-mixup-label_smoothing-aug_selected_20221029-prob1.25_2-t2ykqoga-epoch=69-val_auroc=0.8428.ckpt',\n",
       " 'trained_models\\\\linear\\\\Best-clocsCNNs\\\\checkpoints_shortened\\\\t2ykqoga\\\\69-val_auroc=0.8428.ckpt')"
      ]
     },
     "execution_count": 26,
     "metadata": {},
     "output_type": "execute_result"
    }
   ],
   "source": [
    "short_checkpoint_folder_name = f\"checkpoints_shortened\"\n",
    "\n",
    "checkpoint_folder = os.path.normpath(f\"trained_models/linear/Best-clocsCNNs\")\n",
    "checkpoint_subfolder_list = [ele for ele in os.listdir(checkpoint_folder) if ele not in [short_checkpoint_folder_name]]\n",
    "for checkpoint_subfolder in checkpoint_subfolder_list:\n",
    "    # checkpoint_subfolder = checkpoint_subfolder_list[0]\n",
    "    \n",
    "    destination_folder = os.path.join(checkpoint_folder, short_checkpoint_folder_name, checkpoint_subfolder)\n",
    "    os.makedirs(destination_folder, exist_ok=True)\n",
    "    checkpoint_subfolder_path = os.path.join(checkpoint_folder, checkpoint_subfolder)\n",
    "    checkpoint_name_list = [ele for ele in os.listdir(checkpoint_subfolder_path) if ele[-5:] == \".ckpt\" and \"val_auroc\" in ele]\n",
    "\n",
    "    for checkpoint_name in checkpoint_name_list:\n",
    "    \n",
    "        # checkpoint_name = checkpoint_name_list[0]\n",
    "        checkpoint_path = os.path.join(checkpoint_subfolder_path, checkpoint_name)\n",
    "        \n",
    "        destination_path = os.path.join(destination_folder, \"=\".join(checkpoint_name.split(\"=\")[-2:]))\n",
    "        shutil.copyfile(checkpoint_path, destination_path)\n",
    "\n",
    "\n",
    "\n",
    "checkpoint_subfolder_list, checkpoint_subfolder, checkpoint_name_list, destination_folder, checkpoint_path, destination_path"
   ]
  },
  {
   "cell_type": "code",
   "execution_count": 23,
   "id": "671da7a8-3b94-4a04-ae3d-6f360e403212",
   "metadata": {},
   "outputs": [
    {
     "data": {
      "text/plain": [
       "'trained_models\\\\linear\\\\Best-clocsCNNs\\\\checkpoints_shortened'"
      ]
     },
     "execution_count": 23,
     "metadata": {},
     "output_type": "execute_result"
    }
   ],
   "source": [
    "checkpoint_subfolder_path"
   ]
  },
  {
   "cell_type": "code",
   "execution_count": null,
   "id": "a7a27564-9c7b-4ddc-9cee-538926c38906",
   "metadata": {},
   "outputs": [],
   "source": []
  },
  {
   "cell_type": "code",
   "execution_count": null,
   "id": "6e76473b-00d8-4d5e-a8aa-42270591f9fe",
   "metadata": {},
   "outputs": [],
   "source": []
  },
  {
   "cell_type": "code",
   "execution_count": null,
   "id": "a3a89b4c-830f-44a1-94e9-d57eb0b5653f",
   "metadata": {},
   "outputs": [],
   "source": []
  }
 ],
 "metadata": {
  "kernelspec": {
   "display_name": "Python 3 (ipykernel)",
   "language": "python",
   "name": "python3"
  },
  "language_info": {
   "codemirror_mode": {
    "name": "ipython",
    "version": 3
   },
   "file_extension": ".py",
   "mimetype": "text/x-python",
   "name": "python",
   "nbconvert_exporter": "python",
   "pygments_lexer": "ipython3",
   "version": "3.11.5"
  }
 },
 "nbformat": 4,
 "nbformat_minor": 5
}
