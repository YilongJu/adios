{
 "cells": [
  {
   "cell_type": "code",
   "execution_count": 18,
   "id": "a64a28e0-c868-444c-907d-4eb4ea00d571",
   "metadata": {},
   "outputs": [],
   "source": [
    "import os\n",
    "import shutil"
   ]
  },
  {
   "cell_type": "code",
   "execution_count": 25,
   "id": "a2658e05-9dd8-4c3d-8897-61c68dc849fe",
   "metadata": {},
   "outputs": [
    {
     "data": {
      "text/plain": [
       "(['cqpywv9j',\n",
       "  'fbmrv1zn',\n",
       "  'g09je3xq',\n",
       "  'jmc8vlus',\n",
       "  'ppmvi63y',\n",
       "  's565epz8',\n",
       "  's6qzuo6i',\n",
       "  'sbqkv8ud',\n",
       "  't2ykqoga'],\n",
       " 'cqpywv9j',\n",
       " ['supervised-clocsCNN_1D-ECG_normalized-20221202_v30-maxep200-early_stopping_patience40-mixup-label_smoothing-aug_selected_20221029_prob0__2-cqpywv9j-epoch=00-val_auroc=0.5774.ckpt',\n",
       "  'supervised-clocsCNN_1D-ECG_normalized-20221202_v30-maxep200-early_stopping_patience40-mixup-label_smoothing-aug_selected_20221029_prob0__2-cqpywv9j-epoch=01-val_auroc=0.3908.ckpt',\n",
       "  'supervised-clocsCNN_1D-ECG_normalized-20221202_v30-maxep200-early_stopping_patience40-mixup-label_smoothing-aug_selected_20221029_prob0__2-cqpywv9j-epoch=02-val_auroc=0.5586.ckpt',\n",
       "  'supervised-clocsCNN_1D-ECG_normalized-20221202_v30-maxep200-early_stopping_patience40-mixup-label_smoothing-aug_selected_20221029_prob0__2-cqpywv9j-epoch=03-val_auroc=0.6168.ckpt',\n",
       "  'supervised-clocsCNN_1D-ECG_normalized-20221202_v30-maxep200-early_stopping_patience40-mixup-label_smoothing-aug_selected_20221029_prob0__2-cqpywv9j-epoch=04-val_auroc=0.7893.ckpt',\n",
       "  'supervised-clocsCNN_1D-ECG_normalized-20221202_v30-maxep200-early_stopping_patience40-mixup-label_smoothing-aug_selected_20221029_prob0__2-cqpywv9j-epoch=05-val_auroc=0.8886.ckpt',\n",
       "  'supervised-clocsCNN_1D-ECG_normalized-20221202_v30-maxep200-early_stopping_patience40-mixup-label_smoothing-aug_selected_20221029_prob0__2-cqpywv9j-epoch=06-val_auroc=0.8261.ckpt',\n",
       "  'supervised-clocsCNN_1D-ECG_normalized-20221202_v30-maxep200-early_stopping_patience40-mixup-label_smoothing-aug_selected_20221029_prob0__2-cqpywv9j-epoch=07-val_auroc=0.8312.ckpt',\n",
       "  'supervised-clocsCNN_1D-ECG_normalized-20221202_v30-maxep200-early_stopping_patience40-mixup-label_smoothing-aug_selected_20221029_prob0__2-cqpywv9j-epoch=08-val_auroc=0.8738.ckpt',\n",
       "  'supervised-clocsCNN_1D-ECG_normalized-20221202_v30-maxep200-early_stopping_patience40-mixup-label_smoothing-aug_selected_20221029_prob0__2-cqpywv9j-epoch=09-val_auroc=0.8454.ckpt',\n",
       "  'supervised-clocsCNN_1D-ECG_normalized-20221202_v30-maxep200-early_stopping_patience40-mixup-label_smoothing-aug_selected_20221029_prob0__2-cqpywv9j-epoch=10-val_auroc=0.9302.ckpt',\n",
       "  'supervised-clocsCNN_1D-ECG_normalized-20221202_v30-maxep200-early_stopping_patience40-mixup-label_smoothing-aug_selected_20221029_prob0__2-cqpywv9j-epoch=11-val_auroc=0.9191.ckpt',\n",
       "  'supervised-clocsCNN_1D-ECG_normalized-20221202_v30-maxep200-early_stopping_patience40-mixup-label_smoothing-aug_selected_20221029_prob0__2-cqpywv9j-epoch=12-val_auroc=0.9078.ckpt',\n",
       "  'supervised-clocsCNN_1D-ECG_normalized-20221202_v30-maxep200-early_stopping_patience40-mixup-label_smoothing-aug_selected_20221029_prob0__2-cqpywv9j-epoch=13-val_auroc=0.9225.ckpt',\n",
       "  'supervised-clocsCNN_1D-ECG_normalized-20221202_v30-maxep200-early_stopping_patience40-mixup-label_smoothing-aug_selected_20221029_prob0__2-cqpywv9j-epoch=14-val_auroc=0.9379.ckpt',\n",
       "  'supervised-clocsCNN_1D-ECG_normalized-20221202_v30-maxep200-early_stopping_patience40-mixup-label_smoothing-aug_selected_20221029_prob0__2-cqpywv9j-epoch=15-val_auroc=0.9377.ckpt',\n",
       "  'supervised-clocsCNN_1D-ECG_normalized-20221202_v30-maxep200-early_stopping_patience40-mixup-label_smoothing-aug_selected_20221029_prob0__2-cqpywv9j-epoch=16-val_auroc=0.9390.ckpt',\n",
       "  'supervised-clocsCNN_1D-ECG_normalized-20221202_v30-maxep200-early_stopping_patience40-mixup-label_smoothing-aug_selected_20221029_prob0__2-cqpywv9j-epoch=17-val_auroc=0.9420.ckpt',\n",
       "  'supervised-clocsCNN_1D-ECG_normalized-20221202_v30-maxep200-early_stopping_patience40-mixup-label_smoothing-aug_selected_20221029_prob0__2-cqpywv9j-epoch=18-val_auroc=0.9306.ckpt',\n",
       "  'supervised-clocsCNN_1D-ECG_normalized-20221202_v30-maxep200-early_stopping_patience40-mixup-label_smoothing-aug_selected_20221029_prob0__2-cqpywv9j-epoch=19-val_auroc=0.9247.ckpt',\n",
       "  'supervised-clocsCNN_1D-ECG_normalized-20221202_v30-maxep200-early_stopping_patience40-mixup-label_smoothing-aug_selected_20221029_prob0__2-cqpywv9j-epoch=20-val_auroc=0.8624.ckpt',\n",
       "  'supervised-clocsCNN_1D-ECG_normalized-20221202_v30-maxep200-early_stopping_patience40-mixup-label_smoothing-aug_selected_20221029_prob0__2-cqpywv9j-epoch=21-val_auroc=0.9505.ckpt',\n",
       "  'supervised-clocsCNN_1D-ECG_normalized-20221202_v30-maxep200-early_stopping_patience40-mixup-label_smoothing-aug_selected_20221029_prob0__2-cqpywv9j-epoch=22-val_auroc=0.9422.ckpt',\n",
       "  'supervised-clocsCNN_1D-ECG_normalized-20221202_v30-maxep200-early_stopping_patience40-mixup-label_smoothing-aug_selected_20221029_prob0__2-cqpywv9j-epoch=23-val_auroc=0.9421.ckpt',\n",
       "  'supervised-clocsCNN_1D-ECG_normalized-20221202_v30-maxep200-early_stopping_patience40-mixup-label_smoothing-aug_selected_20221029_prob0__2-cqpywv9j-epoch=24-val_auroc=0.8986.ckpt',\n",
       "  'supervised-clocsCNN_1D-ECG_normalized-20221202_v30-maxep200-early_stopping_patience40-mixup-label_smoothing-aug_selected_20221029_prob0__2-cqpywv9j-epoch=25-val_auroc=0.9303.ckpt',\n",
       "  'supervised-clocsCNN_1D-ECG_normalized-20221202_v30-maxep200-early_stopping_patience40-mixup-label_smoothing-aug_selected_20221029_prob0__2-cqpywv9j-epoch=26-val_auroc=0.9401.ckpt',\n",
       "  'supervised-clocsCNN_1D-ECG_normalized-20221202_v30-maxep200-early_stopping_patience40-mixup-label_smoothing-aug_selected_20221029_prob0__2-cqpywv9j-epoch=27-val_auroc=0.8924.ckpt',\n",
       "  'supervised-clocsCNN_1D-ECG_normalized-20221202_v30-maxep200-early_stopping_patience40-mixup-label_smoothing-aug_selected_20221029_prob0__2-cqpywv9j-epoch=28-val_auroc=0.9301.ckpt',\n",
       "  'supervised-clocsCNN_1D-ECG_normalized-20221202_v30-maxep200-early_stopping_patience40-mixup-label_smoothing-aug_selected_20221029_prob0__2-cqpywv9j-epoch=29-val_auroc=0.9101.ckpt',\n",
       "  'supervised-clocsCNN_1D-ECG_normalized-20221202_v30-maxep200-early_stopping_patience40-mixup-label_smoothing-aug_selected_20221029_prob0__2-cqpywv9j-epoch=30-val_auroc=0.9296.ckpt',\n",
       "  'supervised-clocsCNN_1D-ECG_normalized-20221202_v30-maxep200-early_stopping_patience40-mixup-label_smoothing-aug_selected_20221029_prob0__2-cqpywv9j-epoch=31-val_auroc=0.9229.ckpt',\n",
       "  'supervised-clocsCNN_1D-ECG_normalized-20221202_v30-maxep200-early_stopping_patience40-mixup-label_smoothing-aug_selected_20221029_prob0__2-cqpywv9j-epoch=32-val_auroc=0.9039.ckpt',\n",
       "  'supervised-clocsCNN_1D-ECG_normalized-20221202_v30-maxep200-early_stopping_patience40-mixup-label_smoothing-aug_selected_20221029_prob0__2-cqpywv9j-epoch=33-val_auroc=0.8951.ckpt',\n",
       "  'supervised-clocsCNN_1D-ECG_normalized-20221202_v30-maxep200-early_stopping_patience40-mixup-label_smoothing-aug_selected_20221029_prob0__2-cqpywv9j-epoch=34-val_auroc=0.9189.ckpt',\n",
       "  'supervised-clocsCNN_1D-ECG_normalized-20221202_v30-maxep200-early_stopping_patience40-mixup-label_smoothing-aug_selected_20221029_prob0__2-cqpywv9j-epoch=35-val_auroc=0.9229.ckpt',\n",
       "  'supervised-clocsCNN_1D-ECG_normalized-20221202_v30-maxep200-early_stopping_patience40-mixup-label_smoothing-aug_selected_20221029_prob0__2-cqpywv9j-epoch=36-val_auroc=0.9162.ckpt',\n",
       "  'supervised-clocsCNN_1D-ECG_normalized-20221202_v30-maxep200-early_stopping_patience40-mixup-label_smoothing-aug_selected_20221029_prob0__2-cqpywv9j-epoch=37-val_auroc=0.9022.ckpt',\n",
       "  'supervised-clocsCNN_1D-ECG_normalized-20221202_v30-maxep200-early_stopping_patience40-mixup-label_smoothing-aug_selected_20221029_prob0__2-cqpywv9j-epoch=38-val_auroc=0.8862.ckpt',\n",
       "  'supervised-clocsCNN_1D-ECG_normalized-20221202_v30-maxep200-early_stopping_patience40-mixup-label_smoothing-aug_selected_20221029_prob0__2-cqpywv9j-epoch=39-val_auroc=0.9129.ckpt',\n",
       "  'supervised-clocsCNN_1D-ECG_normalized-20221202_v30-maxep200-early_stopping_patience40-mixup-label_smoothing-aug_selected_20221029_prob0__2-cqpywv9j-epoch=40-val_auroc=0.9176.ckpt',\n",
       "  'supervised-clocsCNN_1D-ECG_normalized-20221202_v30-maxep200-early_stopping_patience40-mixup-label_smoothing-aug_selected_20221029_prob0__2-cqpywv9j-epoch=41-val_auroc=0.9195.ckpt',\n",
       "  'supervised-clocsCNN_1D-ECG_normalized-20221202_v30-maxep200-early_stopping_patience40-mixup-label_smoothing-aug_selected_20221029_prob0__2-cqpywv9j-epoch=42-val_auroc=0.8991.ckpt',\n",
       "  'supervised-clocsCNN_1D-ECG_normalized-20221202_v30-maxep200-early_stopping_patience40-mixup-label_smoothing-aug_selected_20221029_prob0__2-cqpywv9j-epoch=43-val_auroc=0.8758.ckpt',\n",
       "  'supervised-clocsCNN_1D-ECG_normalized-20221202_v30-maxep200-early_stopping_patience40-mixup-label_smoothing-aug_selected_20221029_prob0__2-cqpywv9j-epoch=44-val_auroc=0.8830.ckpt',\n",
       "  'supervised-clocsCNN_1D-ECG_normalized-20221202_v30-maxep200-early_stopping_patience40-mixup-label_smoothing-aug_selected_20221029_prob0__2-cqpywv9j-epoch=45-val_auroc=0.8958.ckpt',\n",
       "  'supervised-clocsCNN_1D-ECG_normalized-20221202_v30-maxep200-early_stopping_patience40-mixup-label_smoothing-aug_selected_20221029_prob0__2-cqpywv9j-epoch=46-val_auroc=0.8889.ckpt',\n",
       "  'supervised-clocsCNN_1D-ECG_normalized-20221202_v30-maxep200-early_stopping_patience40-mixup-label_smoothing-aug_selected_20221029_prob0__2-cqpywv9j-epoch=47-val_auroc=0.9166.ckpt',\n",
       "  'supervised-clocsCNN_1D-ECG_normalized-20221202_v30-maxep200-early_stopping_patience40-mixup-label_smoothing-aug_selected_20221029_prob0__2-cqpywv9j-epoch=48-val_auroc=0.8521.ckpt',\n",
       "  'supervised-clocsCNN_1D-ECG_normalized-20221202_v30-maxep200-early_stopping_patience40-mixup-label_smoothing-aug_selected_20221029_prob0__2-cqpywv9j-epoch=49-val_auroc=0.9074.ckpt',\n",
       "  'supervised-clocsCNN_1D-ECG_normalized-20221202_v30-maxep200-early_stopping_patience40-mixup-label_smoothing-aug_selected_20221029_prob0__2-cqpywv9j-epoch=50-val_auroc=0.9094.ckpt',\n",
       "  'supervised-clocsCNN_1D-ECG_normalized-20221202_v30-maxep200-early_stopping_patience40-mixup-label_smoothing-aug_selected_20221029_prob0__2-cqpywv9j-epoch=51-val_auroc=0.9097.ckpt',\n",
       "  'supervised-clocsCNN_1D-ECG_normalized-20221202_v30-maxep200-early_stopping_patience40-mixup-label_smoothing-aug_selected_20221029_prob0__2-cqpywv9j-epoch=52-val_auroc=0.8724.ckpt',\n",
       "  'supervised-clocsCNN_1D-ECG_normalized-20221202_v30-maxep200-early_stopping_patience40-mixup-label_smoothing-aug_selected_20221029_prob0__2-cqpywv9j-epoch=53-val_auroc=0.9047.ckpt',\n",
       "  'supervised-clocsCNN_1D-ECG_normalized-20221202_v30-maxep200-early_stopping_patience40-mixup-label_smoothing-aug_selected_20221029_prob0__2-cqpywv9j-epoch=54-val_auroc=0.9063.ckpt',\n",
       "  'supervised-clocsCNN_1D-ECG_normalized-20221202_v30-maxep200-early_stopping_patience40-mixup-label_smoothing-aug_selected_20221029_prob0__2-cqpywv9j-epoch=55-val_auroc=0.9046.ckpt',\n",
       "  'supervised-clocsCNN_1D-ECG_normalized-20221202_v30-maxep200-early_stopping_patience40-mixup-label_smoothing-aug_selected_20221029_prob0__2-cqpywv9j-epoch=56-val_auroc=0.9027.ckpt',\n",
       "  'supervised-clocsCNN_1D-ECG_normalized-20221202_v30-maxep200-early_stopping_patience40-mixup-label_smoothing-aug_selected_20221029_prob0__2-cqpywv9j-epoch=57-val_auroc=0.8793.ckpt',\n",
       "  'supervised-clocsCNN_1D-ECG_normalized-20221202_v30-maxep200-early_stopping_patience40-mixup-label_smoothing-aug_selected_20221029_prob0__2-cqpywv9j-epoch=58-val_auroc=0.9031.ckpt',\n",
       "  'supervised-clocsCNN_1D-ECG_normalized-20221202_v30-maxep200-early_stopping_patience40-mixup-label_smoothing-aug_selected_20221029_prob0__2-cqpywv9j-epoch=59-val_auroc=0.9005.ckpt',\n",
       "  'supervised-clocsCNN_1D-ECG_normalized-20221202_v30-maxep200-early_stopping_patience40-mixup-label_smoothing-aug_selected_20221029_prob0__2-cqpywv9j-epoch=60-val_auroc=0.9193.ckpt',\n",
       "  'supervised-clocsCNN_1D-ECG_normalized-20221202_v30-maxep200-early_stopping_patience40-mixup-label_smoothing-aug_selected_20221029_prob0__2-cqpywv9j-epoch=61-val_auroc=0.9054.ckpt'],\n",
       " 'trained_models\\\\linear\\\\Best-clocsCNNs\\\\checkpoints_shortened\\\\cqpywv9j',\n",
       " 'trained_models\\\\linear\\\\Best-clocsCNNs\\\\cqpywv9j\\\\supervised-clocsCNN_1D-ECG_normalized-20221202_v30-maxep200-early_stopping_patience40-mixup-label_smoothing-aug_selected_20221029_prob0__2-cqpywv9j-epoch=00-val_auroc=0.5774.ckpt',\n",
       " 'trained_models\\\\linear\\\\Best-clocsCNNs\\\\checkpoints_shortened\\\\cqpywv9j\\\\00-val_auroc=0.5774.ckpt')"
      ]
     },
     "execution_count": 25,
     "metadata": {},
     "output_type": "execute_result"
    }
   ],
   "source": [
    "short_checkpoint_folder_name = f\"checkpoints_shortened\"\n",
    "\n",
    "checkpoint_folder = os.path.normpath(f\"trained_models/linear/Best-clocsCNNs\")\n",
    "checkpoint_subfolder_list = [ele for ele in os.listdir(checkpoint_folder) if ele not in [short_checkpoint_folder_name]]\n",
    "for checkpoint_subfolder in checkpoint_subfolder_list:\n",
    "    # checkpoint_subfolder = checkpoint_subfolder_list[0]\n",
    "    \n",
    "    destination_folder = os.path.join(checkpoint_folder, short_checkpoint_folder_name, checkpoint_subfolder)\n",
    "    os.makedirs(destination_folder, exist_ok=True)\n",
    "    checkpoint_subfolder_path = os.path.join(checkpoint_folder, checkpoint_subfolder)\n",
    "    checkpoint_name_list = [ele for ele in os.listdir(checkpoint_subfolder_path) if ele[-5:] == \".ckpt\" and \"val_auroc\" in ele]\n",
    "\n",
    "    for checkpoint_name in checkpoint_name_list:\n",
    "    \n",
    "        # checkpoint_name = checkpoint_name_list[0]\n",
    "        checkpoint_path = os.path.join(checkpoint_subfolder_path, checkpoint_name)\n",
    "        \n",
    "        destination_path = os.path.join(destination_folder, \"=\".join(checkpoint_name.split(\"=\")[-2:]))\n",
    "        shutil.copyfile(checkpoint_path, destination_path)\n",
    "\n",
    "\n",
    "\n",
    "checkpoint_subfolder_list, checkpoint_subfolder, checkpoint_name_list, destination_folder, checkpoint_path, destination_path"
   ]
  },
  {
   "cell_type": "code",
   "execution_count": 23,
   "id": "671da7a8-3b94-4a04-ae3d-6f360e403212",
   "metadata": {},
   "outputs": [
    {
     "data": {
      "text/plain": [
       "'trained_models\\\\linear\\\\Best-clocsCNNs\\\\checkpoints_shortened'"
      ]
     },
     "execution_count": 23,
     "metadata": {},
     "output_type": "execute_result"
    }
   ],
   "source": [
    "checkpoint_subfolder_path"
   ]
  },
  {
   "cell_type": "code",
   "execution_count": null,
   "id": "a7a27564-9c7b-4ddc-9cee-538926c38906",
   "metadata": {},
   "outputs": [],
   "source": []
  },
  {
   "cell_type": "code",
   "execution_count": null,
   "id": "6e76473b-00d8-4d5e-a8aa-42270591f9fe",
   "metadata": {},
   "outputs": [],
   "source": []
  },
  {
   "cell_type": "code",
   "execution_count": null,
   "id": "a3a89b4c-830f-44a1-94e9-d57eb0b5653f",
   "metadata": {},
   "outputs": [],
   "source": []
  }
 ],
 "metadata": {
  "kernelspec": {
   "display_name": "Python 3 (ipykernel)",
   "language": "python",
   "name": "python3"
  },
  "language_info": {
   "codemirror_mode": {
    "name": "ipython",
    "version": 3
   },
   "file_extension": ".py",
   "mimetype": "text/x-python",
   "name": "python",
   "nbconvert_exporter": "python",
   "pygments_lexer": "ipython3",
   "version": "3.11.5"
  }
 },
 "nbformat": 4,
 "nbformat_minor": 5
}
