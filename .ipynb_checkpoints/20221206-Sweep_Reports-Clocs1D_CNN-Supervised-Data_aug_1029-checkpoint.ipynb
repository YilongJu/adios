{
 "cells": [
  {
   "cell_type": "code",
   "execution_count": 16,
   "metadata": {
    "ExecuteTime": {
     "end_time": "2022-12-09T00:54:39.242381Z",
     "start_time": "2022-12-09T00:54:39.239083Z"
    }
   },
   "outputs": [],
   "source": [
    "import pandas as pd\n",
    "import numpy as np\n",
    "import matplotlib.pyplot as plt\n",
    "import matplotlib.cm as cm\n",
    "import seaborn as sns\n",
    "\n",
    "import os\n",
    "\n",
    "import statsmodels.formula.api as smf"
   ]
  },
  {
   "cell_type": "markdown",
   "metadata": {},
   "source": [
    "# Load data"
   ]
  },
  {
   "cell_type": "code",
   "execution_count": 17,
   "metadata": {
    "ExecuteTime": {
     "end_time": "2022-12-09T00:54:39.313504Z",
     "start_time": "2022-12-09T00:54:39.287056Z"
    }
   },
   "outputs": [
    {
     "data": {
      "text/html": [
       "<div>\n",
       "<style scoped>\n",
       "    .dataframe tbody tr th:only-of-type {\n",
       "        vertical-align: middle;\n",
       "    }\n",
       "\n",
       "    .dataframe tbody tr th {\n",
       "        vertical-align: top;\n",
       "    }\n",
       "\n",
       "    .dataframe thead th {\n",
       "        text-align: right;\n",
       "    }\n",
       "</style>\n",
       "<table border=\"1\" class=\"dataframe\">\n",
       "  <thead>\n",
       "    <tr style=\"text-align: right;\">\n",
       "      <th></th>\n",
       "      <th>Name</th>\n",
       "      <th>State</th>\n",
       "      <th>Created</th>\n",
       "      <th>End Time</th>\n",
       "      <th>Runtime</th>\n",
       "      <th>Sweep</th>\n",
       "      <th>Hostname</th>\n",
       "      <th>ID</th>\n",
       "      <th>lr</th>\n",
       "      <th>classifier_lr</th>\n",
       "      <th>embedding_dim</th>\n",
       "      <th>dim_feedforward</th>\n",
       "      <th>optimizer</th>\n",
       "      <th>seed</th>\n",
       "      <th>aug_prob</th>\n",
       "      <th>test_auroc</th>\n",
       "      <th>max_val_auroc</th>\n",
       "      <th>corresponding_train_auroc</th>\n",
       "      <th>epoch</th>\n",
       "    </tr>\n",
       "  </thead>\n",
       "  <tbody>\n",
       "    <tr>\n",
       "      <th>0</th>\n",
       "      <td>supervised-clocsCNN_1D-ECG_normalized-20221202...</td>\n",
       "      <td>finished</td>\n",
       "      <td>2022-12-04T06:03:57.000Z</td>\n",
       "      <td>2022-12-04T12:10:22.000Z</td>\n",
       "      <td>21985</td>\n",
       "      <td>fjtvwtqe</td>\n",
       "      <td>beast3</td>\n",
       "      <td>cqpywv9j</td>\n",
       "      <td>0.005</td>\n",
       "      <td>0.001</td>\n",
       "      <td>256</td>\n",
       "      <td>128</td>\n",
       "      <td>sgd</td>\n",
       "      <td>2</td>\n",
       "      <td>2.00</td>\n",
       "      <td>0.939464</td>\n",
       "      <td>0.950550</td>\n",
       "      <td>0.743956</td>\n",
       "      <td>61</td>\n",
       "    </tr>\n",
       "    <tr>\n",
       "      <th>1</th>\n",
       "      <td>supervised-clocsCNN_1D-ECG_normalized-20221202...</td>\n",
       "      <td>finished</td>\n",
       "      <td>2022-12-04T05:19:55.000Z</td>\n",
       "      <td>2022-12-04T13:01:23.000Z</td>\n",
       "      <td>27688</td>\n",
       "      <td>fjtvwtqe</td>\n",
       "      <td>beast1</td>\n",
       "      <td>g09je3xq</td>\n",
       "      <td>0.005</td>\n",
       "      <td>0.001</td>\n",
       "      <td>256</td>\n",
       "      <td>128</td>\n",
       "      <td>adam</td>\n",
       "      <td>4</td>\n",
       "      <td>2.00</td>\n",
       "      <td>0.951888</td>\n",
       "      <td>0.950173</td>\n",
       "      <td>0.739453</td>\n",
       "      <td>44</td>\n",
       "    </tr>\n",
       "    <tr>\n",
       "      <th>2</th>\n",
       "      <td>supervised-clocsCNN_1D-ECG_normalized-20221202...</td>\n",
       "      <td>finished</td>\n",
       "      <td>2022-12-03T06:01:52.000Z</td>\n",
       "      <td>2022-12-04T05:19:37.000Z</td>\n",
       "      <td>83865</td>\n",
       "      <td>fjtvwtqe</td>\n",
       "      <td>beast1</td>\n",
       "      <td>s6qzuo6i</td>\n",
       "      <td>0.005</td>\n",
       "      <td>0.001</td>\n",
       "      <td>256</td>\n",
       "      <td>128</td>\n",
       "      <td>adam</td>\n",
       "      <td>0</td>\n",
       "      <td>1.25</td>\n",
       "      <td>0.950647</td>\n",
       "      <td>0.949504</td>\n",
       "      <td>0.762973</td>\n",
       "      <td>199</td>\n",
       "    </tr>\n",
       "    <tr>\n",
       "      <th>3</th>\n",
       "      <td>supervised-clocsCNN_1D-ECG_normalized-20221202...</td>\n",
       "      <td>finished</td>\n",
       "      <td>2022-12-03T12:51:25.000Z</td>\n",
       "      <td>2022-12-03T21:38:59.000Z</td>\n",
       "      <td>31654</td>\n",
       "      <td>fjtvwtqe</td>\n",
       "      <td>ankitlab2</td>\n",
       "      <td>ln944xn9</td>\n",
       "      <td>0.005</td>\n",
       "      <td>0.001</td>\n",
       "      <td>256</td>\n",
       "      <td>128</td>\n",
       "      <td>sgd</td>\n",
       "      <td>2</td>\n",
       "      <td>1.50</td>\n",
       "      <td>0.913096</td>\n",
       "      <td>0.948688</td>\n",
       "      <td>0.755173</td>\n",
       "      <td>64</td>\n",
       "    </tr>\n",
       "    <tr>\n",
       "      <th>4</th>\n",
       "      <td>supervised-clocsCNN_1D-ECG_normalized-20221202...</td>\n",
       "      <td>finished</td>\n",
       "      <td>2022-12-04T08:30:30.000Z</td>\n",
       "      <td>2022-12-04T14:12:25.000Z</td>\n",
       "      <td>20515</td>\n",
       "      <td>fjtvwtqe</td>\n",
       "      <td>beast3</td>\n",
       "      <td>nd75tvsb</td>\n",
       "      <td>0.005</td>\n",
       "      <td>0.010</td>\n",
       "      <td>256</td>\n",
       "      <td>128</td>\n",
       "      <td>adam</td>\n",
       "      <td>1</td>\n",
       "      <td>2.00</td>\n",
       "      <td>0.935905</td>\n",
       "      <td>0.946020</td>\n",
       "      <td>0.749772</td>\n",
       "      <td>70</td>\n",
       "    </tr>\n",
       "    <tr>\n",
       "      <th>...</th>\n",
       "      <td>...</td>\n",
       "      <td>...</td>\n",
       "      <td>...</td>\n",
       "      <td>...</td>\n",
       "      <td>...</td>\n",
       "      <td>...</td>\n",
       "      <td>...</td>\n",
       "      <td>...</td>\n",
       "      <td>...</td>\n",
       "      <td>...</td>\n",
       "      <td>...</td>\n",
       "      <td>...</td>\n",
       "      <td>...</td>\n",
       "      <td>...</td>\n",
       "      <td>...</td>\n",
       "      <td>...</td>\n",
       "      <td>...</td>\n",
       "      <td>...</td>\n",
       "      <td>...</td>\n",
       "    </tr>\n",
       "    <tr>\n",
       "      <th>355</th>\n",
       "      <td>supervised-clocsCNN_1D-ECG_normalized-20221202...</td>\n",
       "      <td>finished</td>\n",
       "      <td>2022-12-02T21:30:14.000Z</td>\n",
       "      <td>2022-12-03T02:55:04.000Z</td>\n",
       "      <td>19490</td>\n",
       "      <td>fjtvwtqe</td>\n",
       "      <td>beast3</td>\n",
       "      <td>reayoylb</td>\n",
       "      <td>0.005</td>\n",
       "      <td>0.001</td>\n",
       "      <td>256</td>\n",
       "      <td>128</td>\n",
       "      <td>sgd</td>\n",
       "      <td>3</td>\n",
       "      <td>0.00</td>\n",
       "      <td>0.936111</td>\n",
       "      <td>0.674359</td>\n",
       "      <td>0.779431</td>\n",
       "      <td>98</td>\n",
       "    </tr>\n",
       "    <tr>\n",
       "      <th>356</th>\n",
       "      <td>supervised-clocsCNN_1D-ECG_normalized-20221202...</td>\n",
       "      <td>finished</td>\n",
       "      <td>2022-12-04T17:08:13.000Z</td>\n",
       "      <td>2022-12-04T20:17:59.000Z</td>\n",
       "      <td>11386</td>\n",
       "      <td>fjtvwtqe</td>\n",
       "      <td>ankitlab2</td>\n",
       "      <td>1jk7rr96</td>\n",
       "      <td>0.005</td>\n",
       "      <td>0.001</td>\n",
       "      <td>256</td>\n",
       "      <td>128</td>\n",
       "      <td>sgd</td>\n",
       "      <td>2</td>\n",
       "      <td>0.00</td>\n",
       "      <td>0.462983</td>\n",
       "      <td>0.661115</td>\n",
       "      <td>0.510673</td>\n",
       "      <td>40</td>\n",
       "    </tr>\n",
       "    <tr>\n",
       "      <th>357</th>\n",
       "      <td>supervised-clocsCNN_1D-ECG_normalized-20221202...</td>\n",
       "      <td>finished</td>\n",
       "      <td>2022-12-04T16:58:53.000Z</td>\n",
       "      <td>2022-12-04T18:41:27.000Z</td>\n",
       "      <td>6154</td>\n",
       "      <td>fjtvwtqe</td>\n",
       "      <td>beast3</td>\n",
       "      <td>dswvngnt</td>\n",
       "      <td>0.001</td>\n",
       "      <td>0.001</td>\n",
       "      <td>256</td>\n",
       "      <td>128</td>\n",
       "      <td>sgd</td>\n",
       "      <td>2</td>\n",
       "      <td>0.00</td>\n",
       "      <td>0.888334</td>\n",
       "      <td>0.617412</td>\n",
       "      <td>0.774837</td>\n",
       "      <td>56</td>\n",
       "    </tr>\n",
       "    <tr>\n",
       "      <th>358</th>\n",
       "      <td>supervised-clocsCNN_1D-ECG_normalized-20221202...</td>\n",
       "      <td>finished</td>\n",
       "      <td>2022-12-04T03:37:55.000Z</td>\n",
       "      <td>2022-12-04T07:14:42.000Z</td>\n",
       "      <td>13007</td>\n",
       "      <td>fjtvwtqe</td>\n",
       "      <td>beast3</td>\n",
       "      <td>gtb1crpw</td>\n",
       "      <td>0.001</td>\n",
       "      <td>0.001</td>\n",
       "      <td>256</td>\n",
       "      <td>128</td>\n",
       "      <td>sgd</td>\n",
       "      <td>1</td>\n",
       "      <td>2.00</td>\n",
       "      <td>0.502832</td>\n",
       "      <td>0.611221</td>\n",
       "      <td>0.506287</td>\n",
       "      <td>40</td>\n",
       "    </tr>\n",
       "    <tr>\n",
       "      <th>359</th>\n",
       "      <td>supervised-clocsCNN_1D-ECG_normalized-20221202...</td>\n",
       "      <td>finished</td>\n",
       "      <td>2022-12-03T05:25:48.000Z</td>\n",
       "      <td>2022-12-03T09:33:29.000Z</td>\n",
       "      <td>14861</td>\n",
       "      <td>fjtvwtqe</td>\n",
       "      <td>ankitlab2</td>\n",
       "      <td>9zbptn09</td>\n",
       "      <td>0.001</td>\n",
       "      <td>0.001</td>\n",
       "      <td>256</td>\n",
       "      <td>128</td>\n",
       "      <td>sgd</td>\n",
       "      <td>1</td>\n",
       "      <td>1.25</td>\n",
       "      <td>0.392397</td>\n",
       "      <td>0.540650</td>\n",
       "      <td>0.576670</td>\n",
       "      <td>41</td>\n",
       "    </tr>\n",
       "  </tbody>\n",
       "</table>\n",
       "<p>360 rows × 19 columns</p>\n",
       "</div>"
      ],
      "text/plain": [
       "                                                  Name     State  \\\n",
       "0    supervised-clocsCNN_1D-ECG_normalized-20221202...  finished   \n",
       "1    supervised-clocsCNN_1D-ECG_normalized-20221202...  finished   \n",
       "2    supervised-clocsCNN_1D-ECG_normalized-20221202...  finished   \n",
       "3    supervised-clocsCNN_1D-ECG_normalized-20221202...  finished   \n",
       "4    supervised-clocsCNN_1D-ECG_normalized-20221202...  finished   \n",
       "..                                                 ...       ...   \n",
       "355  supervised-clocsCNN_1D-ECG_normalized-20221202...  finished   \n",
       "356  supervised-clocsCNN_1D-ECG_normalized-20221202...  finished   \n",
       "357  supervised-clocsCNN_1D-ECG_normalized-20221202...  finished   \n",
       "358  supervised-clocsCNN_1D-ECG_normalized-20221202...  finished   \n",
       "359  supervised-clocsCNN_1D-ECG_normalized-20221202...  finished   \n",
       "\n",
       "                      Created                  End Time  Runtime     Sweep  \\\n",
       "0    2022-12-04T06:03:57.000Z  2022-12-04T12:10:22.000Z    21985  fjtvwtqe   \n",
       "1    2022-12-04T05:19:55.000Z  2022-12-04T13:01:23.000Z    27688  fjtvwtqe   \n",
       "2    2022-12-03T06:01:52.000Z  2022-12-04T05:19:37.000Z    83865  fjtvwtqe   \n",
       "3    2022-12-03T12:51:25.000Z  2022-12-03T21:38:59.000Z    31654  fjtvwtqe   \n",
       "4    2022-12-04T08:30:30.000Z  2022-12-04T14:12:25.000Z    20515  fjtvwtqe   \n",
       "..                        ...                       ...      ...       ...   \n",
       "355  2022-12-02T21:30:14.000Z  2022-12-03T02:55:04.000Z    19490  fjtvwtqe   \n",
       "356  2022-12-04T17:08:13.000Z  2022-12-04T20:17:59.000Z    11386  fjtvwtqe   \n",
       "357  2022-12-04T16:58:53.000Z  2022-12-04T18:41:27.000Z     6154  fjtvwtqe   \n",
       "358  2022-12-04T03:37:55.000Z  2022-12-04T07:14:42.000Z    13007  fjtvwtqe   \n",
       "359  2022-12-03T05:25:48.000Z  2022-12-03T09:33:29.000Z    14861  fjtvwtqe   \n",
       "\n",
       "      Hostname        ID     lr  classifier_lr  embedding_dim  \\\n",
       "0       beast3  cqpywv9j  0.005          0.001            256   \n",
       "1       beast1  g09je3xq  0.005          0.001            256   \n",
       "2       beast1  s6qzuo6i  0.005          0.001            256   \n",
       "3    ankitlab2  ln944xn9  0.005          0.001            256   \n",
       "4       beast3  nd75tvsb  0.005          0.010            256   \n",
       "..         ...       ...    ...            ...            ...   \n",
       "355     beast3  reayoylb  0.005          0.001            256   \n",
       "356  ankitlab2  1jk7rr96  0.005          0.001            256   \n",
       "357     beast3  dswvngnt  0.001          0.001            256   \n",
       "358     beast3  gtb1crpw  0.001          0.001            256   \n",
       "359  ankitlab2  9zbptn09  0.001          0.001            256   \n",
       "\n",
       "     dim_feedforward optimizer  seed  aug_prob  test_auroc  max_val_auroc  \\\n",
       "0                128       sgd     2      2.00    0.939464       0.950550   \n",
       "1                128      adam     4      2.00    0.951888       0.950173   \n",
       "2                128      adam     0      1.25    0.950647       0.949504   \n",
       "3                128       sgd     2      1.50    0.913096       0.948688   \n",
       "4                128      adam     1      2.00    0.935905       0.946020   \n",
       "..               ...       ...   ...       ...         ...            ...   \n",
       "355              128       sgd     3      0.00    0.936111       0.674359   \n",
       "356              128       sgd     2      0.00    0.462983       0.661115   \n",
       "357              128       sgd     2      0.00    0.888334       0.617412   \n",
       "358              128       sgd     1      2.00    0.502832       0.611221   \n",
       "359              128       sgd     1      1.25    0.392397       0.540650   \n",
       "\n",
       "     corresponding_train_auroc  epoch  \n",
       "0                     0.743956     61  \n",
       "1                     0.739453     44  \n",
       "2                     0.762973    199  \n",
       "3                     0.755173     64  \n",
       "4                     0.749772     70  \n",
       "..                         ...    ...  \n",
       "355                   0.779431     98  \n",
       "356                   0.510673     40  \n",
       "357                   0.774837     56  \n",
       "358                   0.506287     40  \n",
       "359                   0.576670     41  \n",
       "\n",
       "[360 rows x 19 columns]"
      ]
     },
     "execution_count": 17,
     "metadata": {},
     "output_type": "execute_result"
    }
   ],
   "source": [
    "report_folder = \"Reports\"\n",
    "report_name = \"wandb_export_2022-12-06T18_41_14.378-05_00.csv\"\n",
    "# sweep_name = \"20221004-ecg_p40-sup-clocs1d-bayes-norm01-wd-b4.yaml\"\n",
    "report_df = pd.read_csv(os.path.join(report_folder, report_name))\n",
    "report_df"
   ]
  },
  {
   "cell_type": "code",
   "execution_count": 18,
   "metadata": {
    "ExecuteTime": {
     "end_time": "2022-12-09T00:54:39.321375Z",
     "start_time": "2022-12-09T00:54:39.315597Z"
    }
   },
   "outputs": [
    {
     "name": "stdout",
     "output_type": "stream",
     "text": [
      "lr 2 [0.005 0.001]\n",
      "classifier_lr 2 [0.001 0.01 ]\n",
      "optimizer 2 ['sgd' 'adam']\n",
      "aug_prob 9 [2.   1.25 1.5  1.75 0.5  0.75 0.25 1.   0.  ]\n",
      "seed 5 [2 4 0 1 3]\n"
     ]
    }
   ],
   "source": [
    "for column in [\"lr\", \"classifier_lr\", \"optimizer\", \"aug_prob\", \"seed\"]:\n",
    "    print(column, len(report_df[column].unique()), report_df[column].unique())"
   ]
  },
  {
   "cell_type": "markdown",
   "metadata": {},
   "source": [
    "# Analyze Results"
   ]
  },
  {
   "cell_type": "code",
   "execution_count": 19,
   "metadata": {
    "ExecuteTime": {
     "end_time": "2022-12-09T00:54:39.337188Z",
     "start_time": "2022-12-09T00:54:39.333929Z"
    }
   },
   "outputs": [],
   "source": [
    "selected_columns = [\"lr\", \"classifier_lr\", \"optimizer\", \"aug_prob\", \"seed\", \"max_val_auroc\", \"test_auroc\"]\n",
    "report_df_selected = report_df[selected_columns]"
   ]
  },
  {
   "cell_type": "code",
   "execution_count": 20,
   "metadata": {
    "ExecuteTime": {
     "end_time": "2022-12-09T00:54:39.351984Z",
     "start_time": "2022-12-09T00:54:39.339554Z"
    }
   },
   "outputs": [
    {
     "data": {
      "text/html": [
       "<div>\n",
       "<style scoped>\n",
       "    .dataframe tbody tr th:only-of-type {\n",
       "        vertical-align: middle;\n",
       "    }\n",
       "\n",
       "    .dataframe tbody tr th {\n",
       "        vertical-align: top;\n",
       "    }\n",
       "\n",
       "    .dataframe thead th {\n",
       "        text-align: right;\n",
       "    }\n",
       "</style>\n",
       "<table border=\"1\" class=\"dataframe\">\n",
       "  <thead>\n",
       "    <tr style=\"text-align: right;\">\n",
       "      <th></th>\n",
       "      <th>lr</th>\n",
       "      <th>classifier_lr</th>\n",
       "      <th>optimizer</th>\n",
       "      <th>aug_prob</th>\n",
       "      <th>seed</th>\n",
       "      <th>max_val_auroc</th>\n",
       "      <th>test_auroc</th>\n",
       "    </tr>\n",
       "  </thead>\n",
       "  <tbody>\n",
       "    <tr>\n",
       "      <th>0</th>\n",
       "      <td>0.005</td>\n",
       "      <td>0.001</td>\n",
       "      <td>sgd</td>\n",
       "      <td>2.00</td>\n",
       "      <td>2</td>\n",
       "      <td>0.950550</td>\n",
       "      <td>0.939464</td>\n",
       "    </tr>\n",
       "    <tr>\n",
       "      <th>1</th>\n",
       "      <td>0.005</td>\n",
       "      <td>0.001</td>\n",
       "      <td>adam</td>\n",
       "      <td>2.00</td>\n",
       "      <td>4</td>\n",
       "      <td>0.950173</td>\n",
       "      <td>0.951888</td>\n",
       "    </tr>\n",
       "    <tr>\n",
       "      <th>2</th>\n",
       "      <td>0.005</td>\n",
       "      <td>0.001</td>\n",
       "      <td>adam</td>\n",
       "      <td>1.25</td>\n",
       "      <td>0</td>\n",
       "      <td>0.949504</td>\n",
       "      <td>0.950647</td>\n",
       "    </tr>\n",
       "    <tr>\n",
       "      <th>3</th>\n",
       "      <td>0.005</td>\n",
       "      <td>0.001</td>\n",
       "      <td>sgd</td>\n",
       "      <td>1.50</td>\n",
       "      <td>2</td>\n",
       "      <td>0.948688</td>\n",
       "      <td>0.913096</td>\n",
       "    </tr>\n",
       "    <tr>\n",
       "      <th>4</th>\n",
       "      <td>0.005</td>\n",
       "      <td>0.010</td>\n",
       "      <td>adam</td>\n",
       "      <td>2.00</td>\n",
       "      <td>1</td>\n",
       "      <td>0.946020</td>\n",
       "      <td>0.935905</td>\n",
       "    </tr>\n",
       "    <tr>\n",
       "      <th>...</th>\n",
       "      <td>...</td>\n",
       "      <td>...</td>\n",
       "      <td>...</td>\n",
       "      <td>...</td>\n",
       "      <td>...</td>\n",
       "      <td>...</td>\n",
       "      <td>...</td>\n",
       "    </tr>\n",
       "    <tr>\n",
       "      <th>355</th>\n",
       "      <td>0.005</td>\n",
       "      <td>0.001</td>\n",
       "      <td>sgd</td>\n",
       "      <td>0.00</td>\n",
       "      <td>3</td>\n",
       "      <td>0.674359</td>\n",
       "      <td>0.936111</td>\n",
       "    </tr>\n",
       "    <tr>\n",
       "      <th>356</th>\n",
       "      <td>0.005</td>\n",
       "      <td>0.001</td>\n",
       "      <td>sgd</td>\n",
       "      <td>0.00</td>\n",
       "      <td>2</td>\n",
       "      <td>0.661115</td>\n",
       "      <td>0.462983</td>\n",
       "    </tr>\n",
       "    <tr>\n",
       "      <th>357</th>\n",
       "      <td>0.001</td>\n",
       "      <td>0.001</td>\n",
       "      <td>sgd</td>\n",
       "      <td>0.00</td>\n",
       "      <td>2</td>\n",
       "      <td>0.617412</td>\n",
       "      <td>0.888334</td>\n",
       "    </tr>\n",
       "    <tr>\n",
       "      <th>358</th>\n",
       "      <td>0.001</td>\n",
       "      <td>0.001</td>\n",
       "      <td>sgd</td>\n",
       "      <td>2.00</td>\n",
       "      <td>1</td>\n",
       "      <td>0.611221</td>\n",
       "      <td>0.502832</td>\n",
       "    </tr>\n",
       "    <tr>\n",
       "      <th>359</th>\n",
       "      <td>0.001</td>\n",
       "      <td>0.001</td>\n",
       "      <td>sgd</td>\n",
       "      <td>1.25</td>\n",
       "      <td>1</td>\n",
       "      <td>0.540650</td>\n",
       "      <td>0.392397</td>\n",
       "    </tr>\n",
       "  </tbody>\n",
       "</table>\n",
       "<p>360 rows × 7 columns</p>\n",
       "</div>"
      ],
      "text/plain": [
       "        lr  classifier_lr optimizer  aug_prob  seed  max_val_auroc  test_auroc\n",
       "0    0.005          0.001       sgd      2.00     2       0.950550    0.939464\n",
       "1    0.005          0.001      adam      2.00     4       0.950173    0.951888\n",
       "2    0.005          0.001      adam      1.25     0       0.949504    0.950647\n",
       "3    0.005          0.001       sgd      1.50     2       0.948688    0.913096\n",
       "4    0.005          0.010      adam      2.00     1       0.946020    0.935905\n",
       "..     ...            ...       ...       ...   ...            ...         ...\n",
       "355  0.005          0.001       sgd      0.00     3       0.674359    0.936111\n",
       "356  0.005          0.001       sgd      0.00     2       0.661115    0.462983\n",
       "357  0.001          0.001       sgd      0.00     2       0.617412    0.888334\n",
       "358  0.001          0.001       sgd      2.00     1       0.611221    0.502832\n",
       "359  0.001          0.001       sgd      1.25     1       0.540650    0.392397\n",
       "\n",
       "[360 rows x 7 columns]"
      ]
     },
     "execution_count": 20,
     "metadata": {},
     "output_type": "execute_result"
    }
   ],
   "source": [
    "report_df_selected"
   ]
  },
  {
   "cell_type": "markdown",
   "metadata": {},
   "source": [
    "## Find the best performing runs based on `max_val_auroc` for each (`aug_prob`, `seed`)"
   ]
  },
  {
   "cell_type": "code",
   "execution_count": 21,
   "metadata": {
    "ExecuteTime": {
     "end_time": "2022-12-09T00:54:39.384566Z",
     "start_time": "2022-12-09T00:54:39.382609Z"
    }
   },
   "outputs": [],
   "source": [
    "# report_df_selected_summary = report_df_selected.groupby([\"aug_prob\", \"seed\"]).agg({\"max_val_auroc\": \"max\"})\n",
    "# report_df_selected_summary_sorted = report_df_selected_summary.sort_values(by=[\"max_val_auroc\"], ascending=False).reset_index()\n",
    "# report_df_selected_summary\n",
    "# best_lr = report_df_selected_summary_sorted.reset_index()[\"lr\"].values[0]\n",
    "# best_classifier_lr = report_df_selected_summary_sorted.reset_index()[\"classifier_lr\"].values[0]\n",
    "# best_optimizer = report_df_selected_summary_sorted.reset_index()[\"optimizer\"].values[0]\n",
    "# # best_lr, best_classifier_lr, best_optimizer\n",
    "# report_df_selected_summary_sorted"
   ]
  },
  {
   "cell_type": "code",
   "execution_count": 22,
   "metadata": {
    "ExecuteTime": {
     "end_time": "2022-12-09T00:54:39.411505Z",
     "start_time": "2022-12-09T00:54:39.388343Z"
    }
   },
   "outputs": [
    {
     "data": {
      "text/html": [
       "<div>\n",
       "<style scoped>\n",
       "    .dataframe tbody tr th:only-of-type {\n",
       "        vertical-align: middle;\n",
       "    }\n",
       "\n",
       "    .dataframe tbody tr th {\n",
       "        vertical-align: top;\n",
       "    }\n",
       "\n",
       "    .dataframe thead th {\n",
       "        text-align: right;\n",
       "    }\n",
       "</style>\n",
       "<table border=\"1\" class=\"dataframe\">\n",
       "  <thead>\n",
       "    <tr style=\"text-align: right;\">\n",
       "      <th></th>\n",
       "      <th>lr</th>\n",
       "      <th>classifier_lr</th>\n",
       "      <th>optimizer</th>\n",
       "      <th>aug_prob</th>\n",
       "      <th>seed</th>\n",
       "      <th>max_val_auroc</th>\n",
       "      <th>test_auroc</th>\n",
       "    </tr>\n",
       "  </thead>\n",
       "  <tbody>\n",
       "    <tr>\n",
       "      <th>251</th>\n",
       "      <td>0.001</td>\n",
       "      <td>0.001</td>\n",
       "      <td>adam</td>\n",
       "      <td>0.00</td>\n",
       "      <td>0</td>\n",
       "      <td>0.886137</td>\n",
       "      <td>0.930457</td>\n",
       "    </tr>\n",
       "    <tr>\n",
       "      <th>226</th>\n",
       "      <td>0.001</td>\n",
       "      <td>0.010</td>\n",
       "      <td>adam</td>\n",
       "      <td>0.00</td>\n",
       "      <td>1</td>\n",
       "      <td>0.896627</td>\n",
       "      <td>0.907046</td>\n",
       "    </tr>\n",
       "    <tr>\n",
       "      <th>255</th>\n",
       "      <td>0.001</td>\n",
       "      <td>0.001</td>\n",
       "      <td>adam</td>\n",
       "      <td>0.00</td>\n",
       "      <td>2</td>\n",
       "      <td>0.884389</td>\n",
       "      <td>0.897124</td>\n",
       "    </tr>\n",
       "    <tr>\n",
       "      <th>272</th>\n",
       "      <td>0.005</td>\n",
       "      <td>0.001</td>\n",
       "      <td>adam</td>\n",
       "      <td>0.00</td>\n",
       "      <td>3</td>\n",
       "      <td>0.872796</td>\n",
       "      <td>0.909950</td>\n",
       "    </tr>\n",
       "    <tr>\n",
       "      <th>299</th>\n",
       "      <td>0.005</td>\n",
       "      <td>0.010</td>\n",
       "      <td>adam</td>\n",
       "      <td>0.00</td>\n",
       "      <td>4</td>\n",
       "      <td>0.847382</td>\n",
       "      <td>0.906333</td>\n",
       "    </tr>\n",
       "    <tr>\n",
       "      <th>18</th>\n",
       "      <td>0.005</td>\n",
       "      <td>0.001</td>\n",
       "      <td>adam</td>\n",
       "      <td>0.25</td>\n",
       "      <td>0</td>\n",
       "      <td>0.937522</td>\n",
       "      <td>0.926578</td>\n",
       "    </tr>\n",
       "    <tr>\n",
       "      <th>125</th>\n",
       "      <td>0.001</td>\n",
       "      <td>0.010</td>\n",
       "      <td>adam</td>\n",
       "      <td>0.25</td>\n",
       "      <td>1</td>\n",
       "      <td>0.918226</td>\n",
       "      <td>0.914997</td>\n",
       "    </tr>\n",
       "    <tr>\n",
       "      <th>93</th>\n",
       "      <td>0.005</td>\n",
       "      <td>0.001</td>\n",
       "      <td>adam</td>\n",
       "      <td>0.25</td>\n",
       "      <td>2</td>\n",
       "      <td>0.922634</td>\n",
       "      <td>0.933512</td>\n",
       "    </tr>\n",
       "    <tr>\n",
       "      <th>118</th>\n",
       "      <td>0.001</td>\n",
       "      <td>0.010</td>\n",
       "      <td>adam</td>\n",
       "      <td>0.25</td>\n",
       "      <td>3</td>\n",
       "      <td>0.919538</td>\n",
       "      <td>0.922155</td>\n",
       "    </tr>\n",
       "    <tr>\n",
       "      <th>169</th>\n",
       "      <td>0.005</td>\n",
       "      <td>0.010</td>\n",
       "      <td>adam</td>\n",
       "      <td>0.25</td>\n",
       "      <td>4</td>\n",
       "      <td>0.911630</td>\n",
       "      <td>0.934401</td>\n",
       "    </tr>\n",
       "    <tr>\n",
       "      <th>8</th>\n",
       "      <td>0.001</td>\n",
       "      <td>0.001</td>\n",
       "      <td>adam</td>\n",
       "      <td>0.50</td>\n",
       "      <td>0</td>\n",
       "      <td>0.940850</td>\n",
       "      <td>0.930311</td>\n",
       "    </tr>\n",
       "    <tr>\n",
       "      <th>57</th>\n",
       "      <td>0.005</td>\n",
       "      <td>0.010</td>\n",
       "      <td>adam</td>\n",
       "      <td>0.50</td>\n",
       "      <td>1</td>\n",
       "      <td>0.928260</td>\n",
       "      <td>0.926983</td>\n",
       "    </tr>\n",
       "    <tr>\n",
       "      <th>172</th>\n",
       "      <td>0.001</td>\n",
       "      <td>0.001</td>\n",
       "      <td>adam</td>\n",
       "      <td>0.50</td>\n",
       "      <td>2</td>\n",
       "      <td>0.911183</td>\n",
       "      <td>0.895741</td>\n",
       "    </tr>\n",
       "    <tr>\n",
       "      <th>85</th>\n",
       "      <td>0.001</td>\n",
       "      <td>0.010</td>\n",
       "      <td>adam</td>\n",
       "      <td>0.50</td>\n",
       "      <td>3</td>\n",
       "      <td>0.923216</td>\n",
       "      <td>0.939375</td>\n",
       "    </tr>\n",
       "    <tr>\n",
       "      <th>167</th>\n",
       "      <td>0.001</td>\n",
       "      <td>0.001</td>\n",
       "      <td>adam</td>\n",
       "      <td>0.50</td>\n",
       "      <td>4</td>\n",
       "      <td>0.911805</td>\n",
       "      <td>0.920304</td>\n",
       "    </tr>\n",
       "    <tr>\n",
       "      <th>132</th>\n",
       "      <td>0.001</td>\n",
       "      <td>0.001</td>\n",
       "      <td>adam</td>\n",
       "      <td>0.75</td>\n",
       "      <td>0</td>\n",
       "      <td>0.917530</td>\n",
       "      <td>0.935799</td>\n",
       "    </tr>\n",
       "    <tr>\n",
       "      <th>14</th>\n",
       "      <td>0.005</td>\n",
       "      <td>0.001</td>\n",
       "      <td>adam</td>\n",
       "      <td>0.75</td>\n",
       "      <td>1</td>\n",
       "      <td>0.938168</td>\n",
       "      <td>0.935852</td>\n",
       "    </tr>\n",
       "    <tr>\n",
       "      <th>80</th>\n",
       "      <td>0.005</td>\n",
       "      <td>0.001</td>\n",
       "      <td>adam</td>\n",
       "      <td>0.75</td>\n",
       "      <td>2</td>\n",
       "      <td>0.924158</td>\n",
       "      <td>0.914378</td>\n",
       "    </tr>\n",
       "    <tr>\n",
       "      <th>137</th>\n",
       "      <td>0.005</td>\n",
       "      <td>0.010</td>\n",
       "      <td>adam</td>\n",
       "      <td>0.75</td>\n",
       "      <td>3</td>\n",
       "      <td>0.916791</td>\n",
       "      <td>0.934024</td>\n",
       "    </tr>\n",
       "    <tr>\n",
       "      <th>23</th>\n",
       "      <td>0.001</td>\n",
       "      <td>0.001</td>\n",
       "      <td>adam</td>\n",
       "      <td>0.75</td>\n",
       "      <td>4</td>\n",
       "      <td>0.936991</td>\n",
       "      <td>0.932228</td>\n",
       "    </tr>\n",
       "    <tr>\n",
       "      <th>28</th>\n",
       "      <td>0.005</td>\n",
       "      <td>0.001</td>\n",
       "      <td>adam</td>\n",
       "      <td>1.00</td>\n",
       "      <td>0</td>\n",
       "      <td>0.934471</td>\n",
       "      <td>0.948422</td>\n",
       "    </tr>\n",
       "    <tr>\n",
       "      <th>100</th>\n",
       "      <td>0.001</td>\n",
       "      <td>0.001</td>\n",
       "      <td>adam</td>\n",
       "      <td>1.00</td>\n",
       "      <td>1</td>\n",
       "      <td>0.921396</td>\n",
       "      <td>0.939593</td>\n",
       "    </tr>\n",
       "    <tr>\n",
       "      <th>32</th>\n",
       "      <td>0.001</td>\n",
       "      <td>0.001</td>\n",
       "      <td>adam</td>\n",
       "      <td>1.00</td>\n",
       "      <td>2</td>\n",
       "      <td>0.933017</td>\n",
       "      <td>0.904439</td>\n",
       "    </tr>\n",
       "    <tr>\n",
       "      <th>110</th>\n",
       "      <td>0.001</td>\n",
       "      <td>0.010</td>\n",
       "      <td>adam</td>\n",
       "      <td>1.00</td>\n",
       "      <td>3</td>\n",
       "      <td>0.920015</td>\n",
       "      <td>0.940529</td>\n",
       "    </tr>\n",
       "    <tr>\n",
       "      <th>136</th>\n",
       "      <td>0.001</td>\n",
       "      <td>0.001</td>\n",
       "      <td>adam</td>\n",
       "      <td>1.00</td>\n",
       "      <td>4</td>\n",
       "      <td>0.916904</td>\n",
       "      <td>0.921325</td>\n",
       "    </tr>\n",
       "    <tr>\n",
       "      <th>2</th>\n",
       "      <td>0.005</td>\n",
       "      <td>0.001</td>\n",
       "      <td>adam</td>\n",
       "      <td>1.25</td>\n",
       "      <td>0</td>\n",
       "      <td>0.949504</td>\n",
       "      <td>0.950647</td>\n",
       "    </tr>\n",
       "    <tr>\n",
       "      <th>84</th>\n",
       "      <td>0.001</td>\n",
       "      <td>0.010</td>\n",
       "      <td>adam</td>\n",
       "      <td>1.25</td>\n",
       "      <td>1</td>\n",
       "      <td>0.923722</td>\n",
       "      <td>0.927957</td>\n",
       "    </tr>\n",
       "    <tr>\n",
       "      <th>78</th>\n",
       "      <td>0.005</td>\n",
       "      <td>0.001</td>\n",
       "      <td>adam</td>\n",
       "      <td>1.25</td>\n",
       "      <td>2</td>\n",
       "      <td>0.924379</td>\n",
       "      <td>0.949488</td>\n",
       "    </tr>\n",
       "    <tr>\n",
       "      <th>26</th>\n",
       "      <td>0.005</td>\n",
       "      <td>0.010</td>\n",
       "      <td>adam</td>\n",
       "      <td>1.25</td>\n",
       "      <td>3</td>\n",
       "      <td>0.935076</td>\n",
       "      <td>0.940849</td>\n",
       "    </tr>\n",
       "    <tr>\n",
       "      <th>66</th>\n",
       "      <td>0.005</td>\n",
       "      <td>0.001</td>\n",
       "      <td>adam</td>\n",
       "      <td>1.25</td>\n",
       "      <td>4</td>\n",
       "      <td>0.926190</td>\n",
       "      <td>0.947712</td>\n",
       "    </tr>\n",
       "    <tr>\n",
       "      <th>7</th>\n",
       "      <td>0.005</td>\n",
       "      <td>0.001</td>\n",
       "      <td>adam</td>\n",
       "      <td>1.50</td>\n",
       "      <td>0</td>\n",
       "      <td>0.940911</td>\n",
       "      <td>0.932391</td>\n",
       "    </tr>\n",
       "    <tr>\n",
       "      <th>10</th>\n",
       "      <td>0.005</td>\n",
       "      <td>0.001</td>\n",
       "      <td>adam</td>\n",
       "      <td>1.50</td>\n",
       "      <td>1</td>\n",
       "      <td>0.940182</td>\n",
       "      <td>0.914703</td>\n",
       "    </tr>\n",
       "    <tr>\n",
       "      <th>3</th>\n",
       "      <td>0.005</td>\n",
       "      <td>0.001</td>\n",
       "      <td>sgd</td>\n",
       "      <td>1.50</td>\n",
       "      <td>2</td>\n",
       "      <td>0.948688</td>\n",
       "      <td>0.913096</td>\n",
       "    </tr>\n",
       "    <tr>\n",
       "      <th>41</th>\n",
       "      <td>0.001</td>\n",
       "      <td>0.010</td>\n",
       "      <td>adam</td>\n",
       "      <td>1.50</td>\n",
       "      <td>3</td>\n",
       "      <td>0.930657</td>\n",
       "      <td>0.947001</td>\n",
       "    </tr>\n",
       "    <tr>\n",
       "      <th>51</th>\n",
       "      <td>0.005</td>\n",
       "      <td>0.010</td>\n",
       "      <td>adam</td>\n",
       "      <td>1.50</td>\n",
       "      <td>4</td>\n",
       "      <td>0.929042</td>\n",
       "      <td>0.924905</td>\n",
       "    </tr>\n",
       "    <tr>\n",
       "      <th>6</th>\n",
       "      <td>0.001</td>\n",
       "      <td>0.010</td>\n",
       "      <td>adam</td>\n",
       "      <td>1.75</td>\n",
       "      <td>0</td>\n",
       "      <td>0.943479</td>\n",
       "      <td>0.887120</td>\n",
       "    </tr>\n",
       "    <tr>\n",
       "      <th>22</th>\n",
       "      <td>0.001</td>\n",
       "      <td>0.010</td>\n",
       "      <td>adam</td>\n",
       "      <td>1.75</td>\n",
       "      <td>1</td>\n",
       "      <td>0.937209</td>\n",
       "      <td>0.930114</td>\n",
       "    </tr>\n",
       "    <tr>\n",
       "      <th>27</th>\n",
       "      <td>0.001</td>\n",
       "      <td>0.010</td>\n",
       "      <td>adam</td>\n",
       "      <td>1.75</td>\n",
       "      <td>2</td>\n",
       "      <td>0.934899</td>\n",
       "      <td>0.946112</td>\n",
       "    </tr>\n",
       "    <tr>\n",
       "      <th>44</th>\n",
       "      <td>0.005</td>\n",
       "      <td>0.010</td>\n",
       "      <td>adam</td>\n",
       "      <td>1.75</td>\n",
       "      <td>3</td>\n",
       "      <td>0.930100</td>\n",
       "      <td>0.933707</td>\n",
       "    </tr>\n",
       "    <tr>\n",
       "      <th>5</th>\n",
       "      <td>0.001</td>\n",
       "      <td>0.010</td>\n",
       "      <td>adam</td>\n",
       "      <td>1.75</td>\n",
       "      <td>4</td>\n",
       "      <td>0.944400</td>\n",
       "      <td>0.933659</td>\n",
       "    </tr>\n",
       "    <tr>\n",
       "      <th>19</th>\n",
       "      <td>0.001</td>\n",
       "      <td>0.010</td>\n",
       "      <td>adam</td>\n",
       "      <td>2.00</td>\n",
       "      <td>0</td>\n",
       "      <td>0.937496</td>\n",
       "      <td>0.939120</td>\n",
       "    </tr>\n",
       "    <tr>\n",
       "      <th>4</th>\n",
       "      <td>0.005</td>\n",
       "      <td>0.010</td>\n",
       "      <td>adam</td>\n",
       "      <td>2.00</td>\n",
       "      <td>1</td>\n",
       "      <td>0.946020</td>\n",
       "      <td>0.935905</td>\n",
       "    </tr>\n",
       "    <tr>\n",
       "      <th>0</th>\n",
       "      <td>0.005</td>\n",
       "      <td>0.001</td>\n",
       "      <td>sgd</td>\n",
       "      <td>2.00</td>\n",
       "      <td>2</td>\n",
       "      <td>0.950550</td>\n",
       "      <td>0.939464</td>\n",
       "    </tr>\n",
       "    <tr>\n",
       "      <th>9</th>\n",
       "      <td>0.001</td>\n",
       "      <td>0.001</td>\n",
       "      <td>adam</td>\n",
       "      <td>2.00</td>\n",
       "      <td>3</td>\n",
       "      <td>0.940355</td>\n",
       "      <td>0.931269</td>\n",
       "    </tr>\n",
       "    <tr>\n",
       "      <th>1</th>\n",
       "      <td>0.005</td>\n",
       "      <td>0.001</td>\n",
       "      <td>adam</td>\n",
       "      <td>2.00</td>\n",
       "      <td>4</td>\n",
       "      <td>0.950173</td>\n",
       "      <td>0.951888</td>\n",
       "    </tr>\n",
       "  </tbody>\n",
       "</table>\n",
       "</div>"
      ],
      "text/plain": [
       "        lr  classifier_lr optimizer  aug_prob  seed  max_val_auroc  test_auroc\n",
       "251  0.001          0.001      adam      0.00     0       0.886137    0.930457\n",
       "226  0.001          0.010      adam      0.00     1       0.896627    0.907046\n",
       "255  0.001          0.001      adam      0.00     2       0.884389    0.897124\n",
       "272  0.005          0.001      adam      0.00     3       0.872796    0.909950\n",
       "299  0.005          0.010      adam      0.00     4       0.847382    0.906333\n",
       "18   0.005          0.001      adam      0.25     0       0.937522    0.926578\n",
       "125  0.001          0.010      adam      0.25     1       0.918226    0.914997\n",
       "93   0.005          0.001      adam      0.25     2       0.922634    0.933512\n",
       "118  0.001          0.010      adam      0.25     3       0.919538    0.922155\n",
       "169  0.005          0.010      adam      0.25     4       0.911630    0.934401\n",
       "8    0.001          0.001      adam      0.50     0       0.940850    0.930311\n",
       "57   0.005          0.010      adam      0.50     1       0.928260    0.926983\n",
       "172  0.001          0.001      adam      0.50     2       0.911183    0.895741\n",
       "85   0.001          0.010      adam      0.50     3       0.923216    0.939375\n",
       "167  0.001          0.001      adam      0.50     4       0.911805    0.920304\n",
       "132  0.001          0.001      adam      0.75     0       0.917530    0.935799\n",
       "14   0.005          0.001      adam      0.75     1       0.938168    0.935852\n",
       "80   0.005          0.001      adam      0.75     2       0.924158    0.914378\n",
       "137  0.005          0.010      adam      0.75     3       0.916791    0.934024\n",
       "23   0.001          0.001      adam      0.75     4       0.936991    0.932228\n",
       "28   0.005          0.001      adam      1.00     0       0.934471    0.948422\n",
       "100  0.001          0.001      adam      1.00     1       0.921396    0.939593\n",
       "32   0.001          0.001      adam      1.00     2       0.933017    0.904439\n",
       "110  0.001          0.010      adam      1.00     3       0.920015    0.940529\n",
       "136  0.001          0.001      adam      1.00     4       0.916904    0.921325\n",
       "2    0.005          0.001      adam      1.25     0       0.949504    0.950647\n",
       "84   0.001          0.010      adam      1.25     1       0.923722    0.927957\n",
       "78   0.005          0.001      adam      1.25     2       0.924379    0.949488\n",
       "26   0.005          0.010      adam      1.25     3       0.935076    0.940849\n",
       "66   0.005          0.001      adam      1.25     4       0.926190    0.947712\n",
       "7    0.005          0.001      adam      1.50     0       0.940911    0.932391\n",
       "10   0.005          0.001      adam      1.50     1       0.940182    0.914703\n",
       "3    0.005          0.001       sgd      1.50     2       0.948688    0.913096\n",
       "41   0.001          0.010      adam      1.50     3       0.930657    0.947001\n",
       "51   0.005          0.010      adam      1.50     4       0.929042    0.924905\n",
       "6    0.001          0.010      adam      1.75     0       0.943479    0.887120\n",
       "22   0.001          0.010      adam      1.75     1       0.937209    0.930114\n",
       "27   0.001          0.010      adam      1.75     2       0.934899    0.946112\n",
       "44   0.005          0.010      adam      1.75     3       0.930100    0.933707\n",
       "5    0.001          0.010      adam      1.75     4       0.944400    0.933659\n",
       "19   0.001          0.010      adam      2.00     0       0.937496    0.939120\n",
       "4    0.005          0.010      adam      2.00     1       0.946020    0.935905\n",
       "0    0.005          0.001       sgd      2.00     2       0.950550    0.939464\n",
       "9    0.001          0.001      adam      2.00     3       0.940355    0.931269\n",
       "1    0.005          0.001      adam      2.00     4       0.950173    0.951888"
      ]
     },
     "execution_count": 22,
     "metadata": {},
     "output_type": "execute_result"
    }
   ],
   "source": [
    "report_df_selected_tuned = report_df_selected.loc[report_df_selected.groupby([\"aug_prob\", \"seed\"])[\"max_val_auroc\"].idxmax()]\n",
    "report_df_selected_tuned\n"
   ]
  },
  {
   "cell_type": "code",
   "execution_count": 23,
   "metadata": {
    "ExecuteTime": {
     "end_time": "2022-12-09T00:54:39.422284Z",
     "start_time": "2022-12-09T00:54:39.413347Z"
    }
   },
   "outputs": [
    {
     "data": {
      "text/html": [
       "<div>\n",
       "<style scoped>\n",
       "    .dataframe tbody tr th:only-of-type {\n",
       "        vertical-align: middle;\n",
       "    }\n",
       "\n",
       "    .dataframe tbody tr th {\n",
       "        vertical-align: top;\n",
       "    }\n",
       "\n",
       "    .dataframe thead th {\n",
       "        text-align: right;\n",
       "    }\n",
       "</style>\n",
       "<table border=\"1\" class=\"dataframe\">\n",
       "  <thead>\n",
       "    <tr style=\"text-align: right;\">\n",
       "      <th></th>\n",
       "      <th>aug_prob</th>\n",
       "      <th>test_auroc</th>\n",
       "    </tr>\n",
       "  </thead>\n",
       "  <tbody>\n",
       "    <tr>\n",
       "      <th>0</th>\n",
       "      <td>0.00</td>\n",
       "      <td>0.910182</td>\n",
       "    </tr>\n",
       "    <tr>\n",
       "      <th>1</th>\n",
       "      <td>0.25</td>\n",
       "      <td>0.926329</td>\n",
       "    </tr>\n",
       "    <tr>\n",
       "      <th>2</th>\n",
       "      <td>0.50</td>\n",
       "      <td>0.922543</td>\n",
       "    </tr>\n",
       "    <tr>\n",
       "      <th>3</th>\n",
       "      <td>0.75</td>\n",
       "      <td>0.930456</td>\n",
       "    </tr>\n",
       "    <tr>\n",
       "      <th>4</th>\n",
       "      <td>1.00</td>\n",
       "      <td>0.930862</td>\n",
       "    </tr>\n",
       "    <tr>\n",
       "      <th>5</th>\n",
       "      <td>1.25</td>\n",
       "      <td>0.943331</td>\n",
       "    </tr>\n",
       "    <tr>\n",
       "      <th>6</th>\n",
       "      <td>1.50</td>\n",
       "      <td>0.926419</td>\n",
       "    </tr>\n",
       "    <tr>\n",
       "      <th>7</th>\n",
       "      <td>1.75</td>\n",
       "      <td>0.926142</td>\n",
       "    </tr>\n",
       "    <tr>\n",
       "      <th>8</th>\n",
       "      <td>2.00</td>\n",
       "      <td>0.939529</td>\n",
       "    </tr>\n",
       "  </tbody>\n",
       "</table>\n",
       "</div>"
      ],
      "text/plain": [
       "   aug_prob  test_auroc\n",
       "0      0.00    0.910182\n",
       "1      0.25    0.926329\n",
       "2      0.50    0.922543\n",
       "3      0.75    0.930456\n",
       "4      1.00    0.930862\n",
       "5      1.25    0.943331\n",
       "6      1.50    0.926419\n",
       "7      1.75    0.926142\n",
       "8      2.00    0.939529"
      ]
     },
     "execution_count": 23,
     "metadata": {},
     "output_type": "execute_result"
    }
   ],
   "source": [
    "report_df_selected_tuned_summary = report_df_selected_tuned.groupby([\"aug_prob\"]).agg({\"test_auroc\": \"mean\"}).reset_index()\n",
    "report_df_selected_tuned_summary"
   ]
  },
  {
   "cell_type": "code",
   "execution_count": 24,
   "metadata": {
    "ExecuteTime": {
     "end_time": "2022-12-09T00:54:39.948720Z",
     "start_time": "2022-12-09T00:54:39.424342Z"
    },
    "cell_style": "split"
   },
   "outputs": [
    {
     "data": {
      "image/png": "[encoded data removed]",
      "text/plain": [
       "<Figure size 360x360 with 1 Axes>"
      ]
     },
     "metadata": {},
     "output_type": "display_data"
    }
   ],
   "source": [
    "g = sns.catplot(data=report_df_selected_tuned,\n",
    "                x=\"aug_prob\", y=\"test_auroc\",\n",
    "                kind=\"bar\", palette=\"hot\")\n",
    "for ax_row in g.axes:\n",
    "    for ax in ax_row:\n",
    "        ax.set_ylim(0, 1.0)"
   ]
  },
  {
   "cell_type": "code",
   "execution_count": 25,
   "metadata": {
    "ExecuteTime": {
     "end_time": "2022-12-09T00:54:40.540910Z",
     "start_time": "2022-12-09T00:54:39.950638Z"
    },
    "cell_style": "split"
   },
   "outputs": [
    {
     "data": {
      "image/png": "[encoded data removed]",
      "text/plain": [
       "<Figure size 360x360 with 1 Axes>"
      ]
     },
     "metadata": {},
     "output_type": "display_data"
    }
   ],
   "source": [
    "g = sns.catplot(data=report_df_selected_tuned,\n",
    "                x=\"aug_prob\", y=\"test_auroc\",\n",
    "                kind=\"bar\", palette=\"hot\")\n",
    "for ax_row in g.axes:\n",
    "    for ax in ax_row:\n",
    "        ax.set_ylim(0.9, 1.0)"
   ]
  },
  {
   "cell_type": "markdown",
   "metadata": {},
   "source": [
    "## 'max_val_auroc' vs 'test_auroc' plot"
   ]
  },
  {
   "cell_type": "code",
   "execution_count": 26,
   "metadata": {
    "ExecuteTime": {
     "end_time": "2022-12-09T00:54:40.562478Z",
     "start_time": "2022-12-09T00:54:40.543210Z"
    }
   },
   "outputs": [
    {
     "data": {
      "text/html": [
       "<div>\n",
       "<style scoped>\n",
       "    .dataframe tbody tr th:only-of-type {\n",
       "        vertical-align: middle;\n",
       "    }\n",
       "\n",
       "    .dataframe tbody tr th {\n",
       "        vertical-align: top;\n",
       "    }\n",
       "\n",
       "    .dataframe thead th {\n",
       "        text-align: right;\n",
       "    }\n",
       "</style>\n",
       "<table border=\"1\" class=\"dataframe\">\n",
       "  <thead>\n",
       "    <tr style=\"text-align: right;\">\n",
       "      <th></th>\n",
       "      <th>lr</th>\n",
       "      <th>classifier_lr</th>\n",
       "      <th>optimizer</th>\n",
       "      <th>aug_prob</th>\n",
       "      <th>seed</th>\n",
       "      <th>max_val_auroc</th>\n",
       "      <th>test_auroc</th>\n",
       "    </tr>\n",
       "  </thead>\n",
       "  <tbody>\n",
       "    <tr>\n",
       "      <th>0</th>\n",
       "      <td>0.005</td>\n",
       "      <td>0.001</td>\n",
       "      <td>sgd</td>\n",
       "      <td>2.00</td>\n",
       "      <td>2</td>\n",
       "      <td>0.950550</td>\n",
       "      <td>0.939464</td>\n",
       "    </tr>\n",
       "    <tr>\n",
       "      <th>1</th>\n",
       "      <td>0.005</td>\n",
       "      <td>0.001</td>\n",
       "      <td>adam</td>\n",
       "      <td>2.00</td>\n",
       "      <td>4</td>\n",
       "      <td>0.950173</td>\n",
       "      <td>0.951888</td>\n",
       "    </tr>\n",
       "    <tr>\n",
       "      <th>2</th>\n",
       "      <td>0.005</td>\n",
       "      <td>0.001</td>\n",
       "      <td>adam</td>\n",
       "      <td>1.25</td>\n",
       "      <td>0</td>\n",
       "      <td>0.949504</td>\n",
       "      <td>0.950647</td>\n",
       "    </tr>\n",
       "    <tr>\n",
       "      <th>3</th>\n",
       "      <td>0.005</td>\n",
       "      <td>0.001</td>\n",
       "      <td>sgd</td>\n",
       "      <td>1.50</td>\n",
       "      <td>2</td>\n",
       "      <td>0.948688</td>\n",
       "      <td>0.913096</td>\n",
       "    </tr>\n",
       "    <tr>\n",
       "      <th>4</th>\n",
       "      <td>0.005</td>\n",
       "      <td>0.010</td>\n",
       "      <td>adam</td>\n",
       "      <td>2.00</td>\n",
       "      <td>1</td>\n",
       "      <td>0.946020</td>\n",
       "      <td>0.935905</td>\n",
       "    </tr>\n",
       "    <tr>\n",
       "      <th>...</th>\n",
       "      <td>...</td>\n",
       "      <td>...</td>\n",
       "      <td>...</td>\n",
       "      <td>...</td>\n",
       "      <td>...</td>\n",
       "      <td>...</td>\n",
       "      <td>...</td>\n",
       "    </tr>\n",
       "    <tr>\n",
       "      <th>355</th>\n",
       "      <td>0.005</td>\n",
       "      <td>0.001</td>\n",
       "      <td>sgd</td>\n",
       "      <td>0.00</td>\n",
       "      <td>3</td>\n",
       "      <td>0.674359</td>\n",
       "      <td>0.936111</td>\n",
       "    </tr>\n",
       "    <tr>\n",
       "      <th>356</th>\n",
       "      <td>0.005</td>\n",
       "      <td>0.001</td>\n",
       "      <td>sgd</td>\n",
       "      <td>0.00</td>\n",
       "      <td>2</td>\n",
       "      <td>0.661115</td>\n",
       "      <td>0.462983</td>\n",
       "    </tr>\n",
       "    <tr>\n",
       "      <th>357</th>\n",
       "      <td>0.001</td>\n",
       "      <td>0.001</td>\n",
       "      <td>sgd</td>\n",
       "      <td>0.00</td>\n",
       "      <td>2</td>\n",
       "      <td>0.617412</td>\n",
       "      <td>0.888334</td>\n",
       "    </tr>\n",
       "    <tr>\n",
       "      <th>358</th>\n",
       "      <td>0.001</td>\n",
       "      <td>0.001</td>\n",
       "      <td>sgd</td>\n",
       "      <td>2.00</td>\n",
       "      <td>1</td>\n",
       "      <td>0.611221</td>\n",
       "      <td>0.502832</td>\n",
       "    </tr>\n",
       "    <tr>\n",
       "      <th>359</th>\n",
       "      <td>0.001</td>\n",
       "      <td>0.001</td>\n",
       "      <td>sgd</td>\n",
       "      <td>1.25</td>\n",
       "      <td>1</td>\n",
       "      <td>0.540650</td>\n",
       "      <td>0.392397</td>\n",
       "    </tr>\n",
       "  </tbody>\n",
       "</table>\n",
       "<p>360 rows × 7 columns</p>\n",
       "</div>"
      ],
      "text/plain": [
       "        lr  classifier_lr optimizer  aug_prob  seed  max_val_auroc  test_auroc\n",
       "0    0.005          0.001       sgd      2.00     2       0.950550    0.939464\n",
       "1    0.005          0.001      adam      2.00     4       0.950173    0.951888\n",
       "2    0.005          0.001      adam      1.25     0       0.949504    0.950647\n",
       "3    0.005          0.001       sgd      1.50     2       0.948688    0.913096\n",
       "4    0.005          0.010      adam      2.00     1       0.946020    0.935905\n",
       "..     ...            ...       ...       ...   ...            ...         ...\n",
       "355  0.005          0.001       sgd      0.00     3       0.674359    0.936111\n",
       "356  0.005          0.001       sgd      0.00     2       0.661115    0.462983\n",
       "357  0.001          0.001       sgd      0.00     2       0.617412    0.888334\n",
       "358  0.001          0.001       sgd      2.00     1       0.611221    0.502832\n",
       "359  0.001          0.001       sgd      1.25     1       0.540650    0.392397\n",
       "\n",
       "[360 rows x 7 columns]"
      ]
     },
     "execution_count": 26,
     "metadata": {},
     "output_type": "execute_result"
    }
   ],
   "source": [
    "report_df_selected.sort_values(by=[\"max_val_auroc\"], ascending=False)"
   ]
  },
  {
   "cell_type": "code",
   "execution_count": 27,
   "metadata": {
    "ExecuteTime": {
     "end_time": "2022-12-09T00:54:44.047412Z",
     "start_time": "2022-12-09T00:54:40.568017Z"
    }
   },
   "outputs": [
    {
     "data": {
      "image/png": "[encoded data removed]",
      "text/plain": [
       "<Figure size 1620x720 with 9 Axes>"
      ]
     },
     "metadata": {},
     "output_type": "display_data"
    }
   ],
   "source": [
    "sns.set(style=\"whitegrid\", font_scale=2)\n",
    "g = sns.relplot(data=report_df_selected,\n",
    "                x=\"max_val_auroc\", y=\"test_auroc\",\n",
    "                col=\"aug_prob\", palette=\"hot\",\n",
    "                col_wrap=5,\n",
    "                aspect=0.9, height=5)\n",
    "for i, ax in enumerate(g.axes):\n",
    "#     for j, ax in enumerate(ax_row):\n",
    "    ax.axhline(1.0, color=\"#FF0000\", linestyle=\"--\")\n",
    "    ax.axvline(1.0, color=\"#FF0000\", linestyle=\"--\")"
   ]
  },
  {
   "cell_type": "code",
   "execution_count": 28,
   "metadata": {
    "ExecuteTime": {
     "end_time": "2022-12-09T00:54:47.407527Z",
     "start_time": "2022-12-09T00:54:44.050069Z"
    }
   },
   "outputs": [
    {
     "data": {
      "image/png": "[encoded data removed]",
      "text/plain": [
       "<Figure size 1620x720 with 9 Axes>"
      ]
     },
     "metadata": {},
     "output_type": "display_data"
    }
   ],
   "source": [
    "g = sns.FacetGrid(report_df_selected, col=\"aug_prob\", col_wrap=5, height=5, aspect=0.9)\n",
    "g.map(sns.kdeplot, \"max_val_auroc\", \"test_auroc\")\n",
    "for i, ax in enumerate(g.axes):\n",
    "#     for j, ax in enumerate(ax_row):\n",
    "    ax.axhline(1.0, color=\"#FF0000\", linestyle=\"--\")\n",
    "    ax.axvline(1.0, color=\"#FF0000\", linestyle=\"--\")\n",
    "        "
   ]
  },
  {
   "cell_type": "markdown",
   "metadata": {},
   "source": [
    "## Find the best performing subgroup with the same `lr`, `claasifier_lr` and `optimizer`"
   ]
  },
  {
   "cell_type": "code",
   "execution_count": 29,
   "metadata": {
    "ExecuteTime": {
     "end_time": "2022-12-09T00:54:47.424290Z",
     "start_time": "2022-12-09T00:54:47.408968Z"
    }
   },
   "outputs": [
    {
     "ename": "KeyError",
     "evalue": "'test_auroc'",
     "output_type": "error",
     "traceback": [
      "\u001b[0;31m---------------------------------------------------------------------------\u001b[0m",
      "\u001b[0;31mKeyError\u001b[0m                                  Traceback (most recent call last)",
      "\u001b[0;32m<ipython-input-29-d07fc095dffa>\u001b[0m in \u001b[0;36m<module>\u001b[0;34m\u001b[0m\n\u001b[1;32m      1\u001b[0m \u001b[0mreport_df_selected_summary\u001b[0m \u001b[0;34m=\u001b[0m \u001b[0mreport_df_selected\u001b[0m\u001b[0;34m.\u001b[0m\u001b[0mgroupby\u001b[0m\u001b[0;34m(\u001b[0m\u001b[0;34m[\u001b[0m\u001b[0;34m\"lr\"\u001b[0m\u001b[0;34m,\u001b[0m \u001b[0;34m\"classifier_lr\"\u001b[0m\u001b[0;34m,\u001b[0m \u001b[0;34m\"optimizer\"\u001b[0m\u001b[0;34m]\u001b[0m\u001b[0;34m)\u001b[0m\u001b[0;34m.\u001b[0m\u001b[0magg\u001b[0m\u001b[0;34m(\u001b[0m\u001b[0;34m{\u001b[0m\u001b[0;34m\"max_val_auroc\"\u001b[0m\u001b[0;34m:\u001b[0m \u001b[0;34m\"mean\"\u001b[0m\u001b[0;34m}\u001b[0m\u001b[0;34m)\u001b[0m\u001b[0;34m\u001b[0m\u001b[0;34m\u001b[0m\u001b[0m\n\u001b[0;32m----> 2\u001b[0;31m \u001b[0mreport_df_selected_summary_sorted\u001b[0m \u001b[0;34m=\u001b[0m \u001b[0mreport_df_selected_summary\u001b[0m\u001b[0;34m.\u001b[0m\u001b[0msort_values\u001b[0m\u001b[0;34m(\u001b[0m\u001b[0mby\u001b[0m\u001b[0;34m=\u001b[0m\u001b[0;34m[\u001b[0m\u001b[0;34m\"test_auroc\"\u001b[0m\u001b[0;34m]\u001b[0m\u001b[0;34m,\u001b[0m \u001b[0mascending\u001b[0m\u001b[0;34m=\u001b[0m\u001b[0;32mFalse\u001b[0m\u001b[0;34m)\u001b[0m\u001b[0;34m\u001b[0m\u001b[0;34m\u001b[0m\u001b[0m\n\u001b[0m\u001b[1;32m      3\u001b[0m \u001b[0mbest_lr\u001b[0m \u001b[0;34m=\u001b[0m \u001b[0mreport_df_selected_summary_sorted\u001b[0m\u001b[0;34m.\u001b[0m\u001b[0mreset_index\u001b[0m\u001b[0;34m(\u001b[0m\u001b[0;34m)\u001b[0m\u001b[0;34m[\u001b[0m\u001b[0;34m\"lr\"\u001b[0m\u001b[0;34m]\u001b[0m\u001b[0;34m.\u001b[0m\u001b[0mvalues\u001b[0m\u001b[0;34m[\u001b[0m\u001b[0;36m0\u001b[0m\u001b[0;34m]\u001b[0m\u001b[0;34m\u001b[0m\u001b[0;34m\u001b[0m\u001b[0m\n\u001b[1;32m      4\u001b[0m \u001b[0mbest_classifier_lr\u001b[0m \u001b[0;34m=\u001b[0m \u001b[0mreport_df_selected_summary_sorted\u001b[0m\u001b[0;34m.\u001b[0m\u001b[0mreset_index\u001b[0m\u001b[0;34m(\u001b[0m\u001b[0;34m)\u001b[0m\u001b[0;34m[\u001b[0m\u001b[0;34m\"classifier_lr\"\u001b[0m\u001b[0;34m]\u001b[0m\u001b[0;34m.\u001b[0m\u001b[0mvalues\u001b[0m\u001b[0;34m[\u001b[0m\u001b[0;36m0\u001b[0m\u001b[0;34m]\u001b[0m\u001b[0;34m\u001b[0m\u001b[0;34m\u001b[0m\u001b[0m\n\u001b[1;32m      5\u001b[0m \u001b[0mbest_optimizer\u001b[0m \u001b[0;34m=\u001b[0m \u001b[0mreport_df_selected_summary_sorted\u001b[0m\u001b[0;34m.\u001b[0m\u001b[0mreset_index\u001b[0m\u001b[0;34m(\u001b[0m\u001b[0;34m)\u001b[0m\u001b[0;34m[\u001b[0m\u001b[0;34m\"optimizer\"\u001b[0m\u001b[0;34m]\u001b[0m\u001b[0;34m.\u001b[0m\u001b[0mvalues\u001b[0m\u001b[0;34m[\u001b[0m\u001b[0;36m0\u001b[0m\u001b[0;34m]\u001b[0m\u001b[0;34m\u001b[0m\u001b[0;34m\u001b[0m\u001b[0m\n",
      "\u001b[0;32m~/opt/anaconda3/envs/jpy3.7/lib/python3.7/site-packages/pandas/util/_decorators.py\u001b[0m in \u001b[0;36mwrapper\u001b[0;34m(*args, **kwargs)\u001b[0m\n\u001b[1;32m    309\u001b[0m                     \u001b[0mstacklevel\u001b[0m\u001b[0;34m=\u001b[0m\u001b[0mstacklevel\u001b[0m\u001b[0;34m,\u001b[0m\u001b[0;34m\u001b[0m\u001b[0;34m\u001b[0m\u001b[0m\n\u001b[1;32m    310\u001b[0m                 )\n\u001b[0;32m--> 311\u001b[0;31m             \u001b[0;32mreturn\u001b[0m \u001b[0mfunc\u001b[0m\u001b[0;34m(\u001b[0m\u001b[0;34m*\u001b[0m\u001b[0margs\u001b[0m\u001b[0;34m,\u001b[0m \u001b[0;34m**\u001b[0m\u001b[0mkwargs\u001b[0m\u001b[0;34m)\u001b[0m\u001b[0;34m\u001b[0m\u001b[0;34m\u001b[0m\u001b[0m\n\u001b[0m\u001b[1;32m    312\u001b[0m \u001b[0;34m\u001b[0m\u001b[0m\n\u001b[1;32m    313\u001b[0m         \u001b[0;32mreturn\u001b[0m \u001b[0mwrapper\u001b[0m\u001b[0;34m\u001b[0m\u001b[0;34m\u001b[0m\u001b[0m\n",
      "\u001b[0;32m~/opt/anaconda3/envs/jpy3.7/lib/python3.7/site-packages/pandas/core/frame.py\u001b[0m in \u001b[0;36msort_values\u001b[0;34m(self, by, axis, ascending, inplace, kind, na_position, ignore_index, key)\u001b[0m\n\u001b[1;32m   6257\u001b[0m \u001b[0;34m\u001b[0m\u001b[0m\n\u001b[1;32m   6258\u001b[0m             \u001b[0mby\u001b[0m \u001b[0;34m=\u001b[0m \u001b[0mby\u001b[0m\u001b[0;34m[\u001b[0m\u001b[0;36m0\u001b[0m\u001b[0;34m]\u001b[0m\u001b[0;34m\u001b[0m\u001b[0;34m\u001b[0m\u001b[0m\n\u001b[0;32m-> 6259\u001b[0;31m             \u001b[0mk\u001b[0m \u001b[0;34m=\u001b[0m \u001b[0mself\u001b[0m\u001b[0;34m.\u001b[0m\u001b[0m_get_label_or_level_values\u001b[0m\u001b[0;34m(\u001b[0m\u001b[0mby\u001b[0m\u001b[0;34m,\u001b[0m \u001b[0maxis\u001b[0m\u001b[0;34m=\u001b[0m\u001b[0maxis\u001b[0m\u001b[0;34m)\u001b[0m\u001b[0;34m\u001b[0m\u001b[0;34m\u001b[0m\u001b[0m\n\u001b[0m\u001b[1;32m   6260\u001b[0m \u001b[0;34m\u001b[0m\u001b[0m\n\u001b[1;32m   6261\u001b[0m             \u001b[0;31m# need to rewrap column in Series to apply key function\u001b[0m\u001b[0;34m\u001b[0m\u001b[0;34m\u001b[0m\u001b[0;34m\u001b[0m\u001b[0m\n",
      "\u001b[0;32m~/opt/anaconda3/envs/jpy3.7/lib/python3.7/site-packages/pandas/core/generic.py\u001b[0m in \u001b[0;36m_get_label_or_level_values\u001b[0;34m(self, key, axis)\u001b[0m\n\u001b[1;32m   1777\u001b[0m             \u001b[0mvalues\u001b[0m \u001b[0;34m=\u001b[0m \u001b[0mself\u001b[0m\u001b[0;34m.\u001b[0m\u001b[0maxes\u001b[0m\u001b[0;34m[\u001b[0m\u001b[0maxis\u001b[0m\u001b[0;34m]\u001b[0m\u001b[0;34m.\u001b[0m\u001b[0mget_level_values\u001b[0m\u001b[0;34m(\u001b[0m\u001b[0mkey\u001b[0m\u001b[0;34m)\u001b[0m\u001b[0;34m.\u001b[0m\u001b[0m_values\u001b[0m\u001b[0;34m\u001b[0m\u001b[0;34m\u001b[0m\u001b[0m\n\u001b[1;32m   1778\u001b[0m         \u001b[0;32melse\u001b[0m\u001b[0;34m:\u001b[0m\u001b[0;34m\u001b[0m\u001b[0;34m\u001b[0m\u001b[0m\n\u001b[0;32m-> 1779\u001b[0;31m             \u001b[0;32mraise\u001b[0m \u001b[0mKeyError\u001b[0m\u001b[0;34m(\u001b[0m\u001b[0mkey\u001b[0m\u001b[0;34m)\u001b[0m\u001b[0;34m\u001b[0m\u001b[0;34m\u001b[0m\u001b[0m\n\u001b[0m\u001b[1;32m   1780\u001b[0m \u001b[0;34m\u001b[0m\u001b[0m\n\u001b[1;32m   1781\u001b[0m         \u001b[0;31m# Check for duplicates\u001b[0m\u001b[0;34m\u001b[0m\u001b[0;34m\u001b[0m\u001b[0;34m\u001b[0m\u001b[0m\n",
      "\u001b[0;31mKeyError\u001b[0m: 'test_auroc'"
     ]
    }
   ],
   "source": [
    "# report_df_selected_summary = report_df_selected.groupby([\"lr\", \"classifier_lr\", \"optimizer\"]).agg({\"max_val_auroc\": \"mean\"})\n",
    "# report_df_selected_summary_sorted = report_df_selected_summary.sort_values(by=[\"test_auroc\"], ascending=False)\n",
    "# best_lr = report_df_selected_summary_sorted.reset_index()[\"lr\"].values[0]\n",
    "# best_classifier_lr = report_df_selected_summary_sorted.reset_index()[\"classifier_lr\"].values[0]\n",
    "# best_optimizer = report_df_selected_summary_sorted.reset_index()[\"optimizer\"].values[0]\n",
    "# # best_lr, best_classifier_lr, best_optimizer\n",
    "# report_df_selected_summary_sorted"
   ]
  },
  {
   "cell_type": "code",
   "execution_count": null,
   "metadata": {
    "ExecuteTime": {
     "end_time": "2022-12-09T00:54:47.476603Z",
     "start_time": "2022-12-09T00:54:39.487Z"
    }
   },
   "outputs": [],
   "source": [
    "# report_df_selected_filtered = report_df_selected.query(\n",
    "#     f\"lr == {best_lr} and classifier_lr == {best_classifier_lr} and optimizer == '{best_optimizer}'\").reset_index(drop=True)\n",
    "# report_df_selected_filtered = report_df_selected_filtered.sort_values(by=[\"aug_prob\", \"seed\"])\n",
    "# report_df_selected_filtered\n"
   ]
  },
  {
   "cell_type": "code",
   "execution_count": null,
   "metadata": {
    "ExecuteTime": {
     "end_time": "2022-12-09T00:54:47.479405Z",
     "start_time": "2022-12-09T00:54:39.490Z"
    },
    "cell_style": "split"
   },
   "outputs": [],
   "source": [
    "# g = sns.catplot(data=report_df_selected,\n",
    "#                 x=\"aug_prob\", y=\"test_auroc\",\n",
    "#                 kind=\"bar\", palette=\"hot\")\n",
    "# for ax_row in g.axes:\n",
    "#     for ax in ax_row:\n",
    "#         ax.set_ylim(0, 1.0)"
   ]
  },
  {
   "cell_type": "code",
   "execution_count": null,
   "metadata": {
    "ExecuteTime": {
     "end_time": "2022-12-09T00:54:47.481347Z",
     "start_time": "2022-12-09T00:54:39.492Z"
    },
    "cell_style": "split"
   },
   "outputs": [],
   "source": [
    "# g = sns.catplot(data=report_df_selected,\n",
    "#                 x=\"aug_prob\", y=\"test_auroc\",\n",
    "#                 kind=\"bar\", palette=\"hot\")\n",
    "# for ax_row in g.axes:\n",
    "#     for ax in ax_row:\n",
    "#         ax.set_ylim(0.85, 1.0)"
   ]
  },
  {
   "cell_type": "code",
   "execution_count": null,
   "metadata": {
    "ExecuteTime": {
     "end_time": "2022-12-09T00:54:47.482808Z",
     "start_time": "2022-12-09T00:54:39.494Z"
    },
    "cell_style": "split"
   },
   "outputs": [],
   "source": [
    "# g = sns.catplot(data=report_df_selected_filtered,\n",
    "#                 x=\"aug_prob\", y=\"test_auroc\",\n",
    "#                 kind=\"bar\", palette=\"hot\")\n",
    "# for ax_row in g.axes:\n",
    "#     for ax in ax_row:\n",
    "#         ax.set_ylim(0, 1.0)"
   ]
  },
  {
   "cell_type": "code",
   "execution_count": null,
   "metadata": {
    "ExecuteTime": {
     "end_time": "2022-12-09T00:54:47.484758Z",
     "start_time": "2022-12-09T00:54:39.496Z"
    },
    "cell_style": "split"
   },
   "outputs": [],
   "source": [
    "# g = sns.catplot(data=report_df_selected_filtered,\n",
    "#                 x=\"aug_prob\", y=\"test_auroc\",\n",
    "#                 kind=\"bar\", palette=\"hot\")\n",
    "# for ax_row in g.axes:\n",
    "#     for ax in ax_row:\n",
    "#         ax.set_ylim(0.85, 1.0)"
   ]
  },
  {
   "cell_type": "markdown",
   "metadata": {},
   "source": [
    "## Find the best performing subgroup with the same `lr`, `claasifier_lr`, `optimizer` and 'aug_prob'"
   ]
  },
  {
   "cell_type": "code",
   "execution_count": null,
   "metadata": {
    "ExecuteTime": {
     "end_time": "2022-12-09T00:54:47.486555Z",
     "start_time": "2022-12-09T00:54:39.548Z"
    }
   },
   "outputs": [],
   "source": [
    "selected_columns = [\"lr\", \"classifier_lr\", \"optimizer\", \"aug_prob\", \"seed\", \"test_auroc\"]\n",
    "report_df_selected = report_df[selected_columns]\n",
    "report_df_selected_summary = report_df_selected.groupby([\"lr\", \"classifier_lr\", \"optimizer\", \"aug_prob\"]).agg({\"test_auroc\": \"mean\"})\n",
    "report_df_selected_summary_sorted = report_df_selected_summary.sort_values(by=[\"test_auroc\"], ascending=False)\n",
    "best_lr = report_df_selected_summary_sorted.reset_index()[\"lr\"].values[0]\n",
    "best_classifier_lr = report_df_selected_summary_sorted.reset_index()[\"classifier_lr\"].values[0]\n",
    "best_optimizer = report_df_selected_summary_sorted.reset_index()[\"optimizer\"].values[0]\n",
    "# best_lr, best_classifier_lr, best_optimizer\n",
    "report_df_selected_summary_sorted"
   ]
  },
  {
   "cell_type": "code",
   "execution_count": null,
   "metadata": {},
   "outputs": [],
   "source": []
  },
  {
   "cell_type": "markdown",
   "metadata": {},
   "source": [
    "# Summarize Report"
   ]
  },
  {
   "cell_type": "code",
   "execution_count": null,
   "metadata": {
    "ExecuteTime": {
     "end_time": "2022-12-09T00:54:47.488036Z",
     "start_time": "2022-12-09T00:54:39.603Z"
    },
    "cell_style": "split"
   },
   "outputs": [],
   "source": [
    "report_df_summary = report_df.groupby([\"embedding_dim\", \"weight_decay\", \"lr\", \"classifier_lr\"]).agg({\n",
    "    \"val_auroc\": \"mean\"\n",
    "}).reset_index()\n",
    "report_df_summary"
   ]
  },
  {
   "cell_type": "code",
   "execution_count": null,
   "metadata": {
    "ExecuteTime": {
     "end_time": "2022-12-09T00:54:47.489615Z",
     "start_time": "2022-12-09T00:54:39.605Z"
    },
    "cell_style": "split"
   },
   "outputs": [],
   "source": [
    "report_df.sort_values(by=[\"val_auroc\"], ascending=False).head(32)"
   ]
  },
  {
   "cell_type": "code",
   "execution_count": null,
   "metadata": {
    "ExecuteTime": {
     "end_time": "2022-12-09T00:54:47.491153Z",
     "start_time": "2022-12-09T00:54:39.607Z"
    }
   },
   "outputs": [],
   "source": [
    "g = sns.factorplot(data=report_df, x=\"embedding_dim\", y=\"val_auroc\", hue=\"weight_decay\", col=\"classifier_lr\")"
   ]
  },
  {
   "cell_type": "code",
   "execution_count": null,
   "metadata": {
    "ExecuteTime": {
     "end_time": "2022-12-09T00:54:47.492388Z",
     "start_time": "2022-12-09T00:54:39.609Z"
    }
   },
   "outputs": [],
   "source": [
    "model = smf.ols(\"val_auroc ~ embedding_dim + classifier_lr + weight_decay\", report_df, ).fit()\n",
    "model.summary()"
   ]
  },
  {
   "cell_type": "code",
   "execution_count": null,
   "metadata": {
    "ExecuteTime": {
     "end_time": "2022-12-09T00:54:47.493828Z",
     "start_time": "2022-12-09T00:54:39.611Z"
    }
   },
   "outputs": [],
   "source": [
    "report_df_tmp = report_df.copy()\n",
    "report_df_tmp[\"weight_decay\"] = report_df_tmp[\"weight_decay\"] + 1e-7\n",
    "model = smf.ols(\"val_auroc ~ np.log(embedding_dim) + np.log(classifier_lr) + np.log(weight_decay)\", report_df_tmp, ).fit()\n",
    "model.summary()"
   ]
  },
  {
   "cell_type": "markdown",
   "metadata": {},
   "source": [
    "# XAI Tools"
   ]
  },
  {
   "cell_type": "code",
   "execution_count": null,
   "metadata": {
    "ExecuteTime": {
     "end_time": "2022-12-09T00:54:47.495449Z",
     "start_time": "2022-12-09T00:54:39.654Z"
    }
   },
   "outputs": [],
   "source": [
    "import math"
   ]
  },
  {
   "cell_type": "code",
   "execution_count": null,
   "metadata": {
    "ExecuteTime": {
     "end_time": "2022-12-09T00:54:47.497961Z",
     "start_time": "2022-12-09T00:54:39.656Z"
    }
   },
   "outputs": [],
   "source": [
    "report_df_sorted = report_df.sort_values(by=[\"max_val_auroc\"], ascending=False)\n",
    "report_df_sorted.head()"
   ]
  },
  {
   "cell_type": "code",
   "execution_count": null,
   "metadata": {
    "ExecuteTime": {
     "end_time": "2022-12-09T00:54:47.500680Z",
     "start_time": "2022-12-09T00:54:39.658Z"
    }
   },
   "outputs": [],
   "source": [
    "best_run_ID = report_df_sorted[\"ID\"].values[0]\n",
    "best_run_ID"
   ]
  },
  {
   "cell_type": "markdown",
   "metadata": {},
   "source": [
    "## Load data"
   ]
  },
  {
   "cell_type": "code",
   "execution_count": null,
   "metadata": {
    "ExecuteTime": {
     "end_time": "2022-12-09T00:54:47.502873Z",
     "start_time": "2022-12-09T00:54:39.702Z"
    }
   },
   "outputs": [],
   "source": [
    "data_folder = \"\"\n",
    "data_chunk_folder = \"ecg-pat40-tch-sinus_jet_lead2\"\n",
    "data_chunk_list = []\n",
    "for data_filename in os.listdir(os.path.join(data_folder, data_chunk_folder)):\n",
    "    data_chunk_list.append(pd.read_csv(os.path.join(data_folder, data_chunk_folder, data_filename)))\n",
    "feature_with_ecg_df_train_single_lead = pd.concat(data_chunk_list, axis=0)"
   ]
  },
  {
   "cell_type": "code",
   "execution_count": null,
   "metadata": {
    "ExecuteTime": {
     "end_time": "2022-12-09T00:54:47.504776Z",
     "start_time": "2022-12-09T00:54:39.705Z"
    }
   },
   "outputs": [],
   "source": [
    "feature_with_ecg_df_val_single_lead = pd.read_csv(\"feature_with_ecg_df_val_lead2.csv\")\n",
    "feature_with_ecg_df_test_single_lead = pd.read_csv(\"feature_with_ecg_df_test_lead2.csv\")\n",
    "feature_with_ecg_df_test_single_lead"
   ]
  },
  {
   "cell_type": "code",
   "execution_count": null,
   "metadata": {
    "ExecuteTime": {
     "end_time": "2022-12-09T00:54:47.506909Z",
     "start_time": "2022-12-09T00:54:39.707Z"
    }
   },
   "outputs": [],
   "source": [
    "val_dataset = ECG_classification_dataset_with_peak_features(feature_with_ecg_df_val_single_lead,\n",
    "                                                                     shift_signal=False,\n",
    "                                                                     shift_amount=0,\n",
    "                                                                     normalize_signal=True,\n",
    "                                                                     ecg_resampling_length_target=300)\n",
    "\n",
    "test_dataset = ECG_classification_dataset_with_peak_features(feature_with_ecg_df_test_single_lead,\n",
    "                                                                     shift_signal=False,\n",
    "                                                                     shift_amount=0,\n",
    "                                                                     normalize_signal=True,\n",
    "                                                                     ecg_resampling_length_target=300)\n",
    "val_loader = DataLoader(\n",
    "    val_dataset, batch_size=128, num_workers=1, shuffle=False, drop_last=False\n",
    ")\n",
    "test_loader = DataLoader(\n",
    "    test_dataset, batch_size=128, num_workers=1, shuffle=False, drop_last=False\n",
    ")"
   ]
  },
  {
   "cell_type": "markdown",
   "metadata": {},
   "source": [
    "## Load model"
   ]
  },
  {
   "cell_type": "code",
   "execution_count": null,
   "metadata": {
    "ExecuteTime": {
     "end_time": "2022-12-09T00:54:47.508414Z",
     "start_time": "2022-12-09T00:54:39.752Z"
    }
   },
   "outputs": [],
   "source": [
    "from torch.utils.data import DataLoader\n",
    "from src.methods.supervised_1d import SupervisedModel_1D\n",
    "from src.models.CLOCS_1D import cnn_network_contrastive\n",
    "import torch.nn as nn\n",
    "from pathlib import Path\n",
    "from src.utils.metrics import accuracy_at_k, weighted_mean, AUROC\n",
    "from src.utils.ECG_data_loading import *\n",
    "import time"
   ]
  },
  {
   "cell_type": "code",
   "execution_count": null,
   "metadata": {
    "ExecuteTime": {
     "end_time": "2022-12-09T00:54:47.509614Z",
     "start_time": "2022-12-09T00:54:39.754Z"
    }
   },
   "outputs": [],
   "source": [
    "embedding_dim = 256\n",
    "# embedding_dim = 1\n",
    "model = cnn_network_contrastive(zero_init_residual=None, embedding_dim=embedding_dim,\n",
    "                   stride=2, c4_multiplier=3)\n",
    "# remove fc layer\n",
    "model.fc = nn.Identity()"
   ]
  },
  {
   "cell_type": "code",
   "execution_count": null,
   "metadata": {
    "ExecuteTime": {
     "end_time": "2022-12-09T00:54:47.510989Z",
     "start_time": "2022-12-09T00:54:39.756Z"
    }
   },
   "outputs": [],
   "source": [
    "# build paths\n",
    "## embedding dim = 16\n",
    "# ckpt_dir = Path(\"trained_models/linear/wxjvsino\")\n",
    "# ckpt_dir = Path(\"trained_models/linear/88v49oih\")\n",
    "ckpt_dir = Path(f\"trained_models/linear/{best_run_ID}\") # test_auroc = 0.9631\n",
    "\n",
    "# ckpt_path = [ckpt_dir / ckpt for ckpt in os.listdir(ckpt_dir) if ckpt.endswith(\"val_auroc=0.9236.ckpt\")][0]\n",
    "max_val_auroc = max([float(ele.split(\"=\")[-1].replace(\".ckpt\", \"\")) \\\n",
    "                     for ele in os.listdir(ckpt_dir) if \"=\" in ele and \"val_auroc\" in ele])\n",
    "ckpt_path = [ckpt_dir / ckpt for ckpt in os.listdir(ckpt_dir) if ckpt.endswith(f\"val_auroc={max_val_auroc}.ckpt\")][0]\n",
    "## embedding dim = 1\n",
    "# ckpt_dir = Path(\"trained_models/linear/igtzgoky\")\n",
    "# ckpt_path = [ckpt_dir / ckpt for ckpt in os.listdir(ckpt_dir) if ckpt.endswith(\"val_auroc=0.9736.ckpt\")][0]\n",
    "\n",
    "args_path = ckpt_dir / \"args.json\"\n",
    "print(f\"args_path: {args_path}\")\n",
    "print(f\"ckpt_path: {ckpt_path}\")\n",
    "\n",
    "# load arguments\n",
    "with open(args_path) as f:\n",
    "    method_args = json.load(f)\n",
    "print(f\"method_args {type(method_args)}: {method_args}\")\n",
    "# build the model\n",
    "model.pretrained_occlusion_model_dict = None\n",
    "method_args[\"backbone\"] = model\n",
    "model_loaded = SupervisedModel_1D.load_from_checkpoint(\n",
    "    ckpt_path, strict=False, **method_args\n",
    ")"
   ]
  },
  {
   "cell_type": "markdown",
   "metadata": {},
   "source": [
    "## Get AUROC"
   ]
  },
  {
   "cell_type": "code",
   "execution_count": null,
   "metadata": {
    "ExecuteTime": {
     "end_time": "2022-12-09T00:54:47.512309Z",
     "start_time": "2022-12-09T00:54:39.800Z"
    }
   },
   "outputs": [],
   "source": [
    "from sklearn import metrics\n",
    "from sklearn.metrics import classification_report, roc_auc_score, roc_curve"
   ]
  },
  {
   "cell_type": "code",
   "execution_count": null,
   "metadata": {
    "ExecuteTime": {
     "end_time": "2022-12-09T00:54:47.513667Z",
     "start_time": "2022-12-09T00:54:39.803Z"
    }
   },
   "outputs": [],
   "source": [
    "def Get_roc_curve_df_from_model_and_data_loader(model, data_loader, target_fpr=0.1, target_threshold=None):\n",
    "#     data_loader = test_loader\n",
    "\n",
    "    X_all_list = []\n",
    "    X_embedding_all_list = []\n",
    "    y_true_all_list = []\n",
    "    X_logits_all_list = []\n",
    "    scores_all_list = []\n",
    "\n",
    "    model.eval()\n",
    "    auroc = AUROC(pos_label=1)\n",
    "    softmax = torch.nn.Softmax(dim=1)\n",
    "\n",
    "    for i, data in enumerate(data_loader):\n",
    "#         print(f\"Batch {i} / {len(data_loader)}\")\n",
    "        X, y = data\n",
    "        X_all_list.append(X)\n",
    "        X_embedding = model.backbone(X)\n",
    "        X_logits = model.classifier(X_embedding)\n",
    "    #     print(X_embedding.shape, y.shape)\n",
    "    #     print(y)\n",
    "    #     print(X_logits)\n",
    "        X_embedding_all_list.append(X_embedding)\n",
    "        y_true_all_list.append(y)\n",
    "        X_logits_all_list.append(X_logits)\n",
    "\n",
    "        scores = softmax(X_logits)[:, 1].detach()\n",
    "        scores_all_list.append(scores)\n",
    "        auroc.update(scores, y.detach())\n",
    "    #     break\n",
    "\n",
    "    auroc_value = auroc.compute()\n",
    "    auroc.reset()\n",
    "    print(f\"auroc_value = {auroc_value:.4f}\")\n",
    "    X_all = torch.cat(X_all_list, dim=0)\n",
    "    y_true_all = torch.cat(y_true_all_list, dim=0)\n",
    "    scores_all = torch.cat(scores_all_list, dim=0)\n",
    "    X_embedding_all = torch.cat(X_embedding_all_list, dim=0)\n",
    "    X_embedding_all_np = X_embedding_all.detach().numpy()\n",
    "    y_true_all_np = y_true_all.detach().numpy()\n",
    "    scores_all_np = scores_all.detach().numpy()\n",
    "#     X_all.shape, y_true_all.shape, scores_all.shape, X_embedding_all.shape\n",
    "\n",
    "    y_scores = scores_all\n",
    "    y_true = y_true_all_np\n",
    "    \n",
    "#     auroc = roc_auc_score(y_true, y_scores, average=\"weighted\")\n",
    "    auroc = auroc_value\n",
    "    fpr, tpr, thresholds = roc_curve(y_true, y_scores, pos_label=1)\n",
    "    roc_curve_df = pd.DataFrame([fpr, tpr, thresholds]).T\n",
    "    roc_curve_df.columns=[\"fpr\", \"tpr\", \"thresholds\"]\n",
    "    if target_threshold is not None:\n",
    "        closest_threshold_idx = np.argsort(np.abs(roc_curve_df[\"thresholds\"] - target_threshold))[0]\n",
    "    else:\n",
    "        closest_threshold_idx = np.argsort(np.abs(roc_curve_df[\"fpr\"] - target_fpr))[0]\n",
    "    selected_threshold = roc_curve_df[\"thresholds\"][closest_threshold_idx]\n",
    "    selected_fpr = roc_curve_df[\"fpr\"][closest_threshold_idx]\n",
    "    roc_curve_results_dict = {\"roc_curve_df\": roc_curve_df, \"selected_threshold\": selected_threshold, \"selected_fpr\": selected_fpr, \"auroc\": auroc}\n",
    "    return roc_curve_results_dict"
   ]
  },
  {
   "cell_type": "code",
   "execution_count": null,
   "metadata": {
    "ExecuteTime": {
     "end_time": "2022-12-09T00:54:47.514966Z",
     "start_time": "2022-12-09T00:54:39.804Z"
    }
   },
   "outputs": [],
   "source": [
    "target_fpr = 0.05\n",
    "roc_curve_results_dict_val = Get_roc_curve_df_from_model_and_data_loader(\n",
    "    model_loaded, val_loader, target_fpr=target_fpr, target_threshold=None)\n",
    "roc_curve_results_dict_test = Get_roc_curve_df_from_model_and_data_loader(\n",
    "    model_loaded, test_loader, target_threshold=roc_curve_results_dict_val[\"selected_threshold\"])"
   ]
  },
  {
   "cell_type": "code",
   "execution_count": null,
   "metadata": {
    "ExecuteTime": {
     "end_time": "2022-12-09T00:54:47.516617Z",
     "start_time": "2022-12-09T00:54:39.807Z"
    }
   },
   "outputs": [],
   "source": [
    "# roc_curve_results_dict_train[\"roc_curve_df\"][\"Dataset\"] = \"Training\"\n",
    "roc_curve_results_dict_val[\"roc_curve_df\"][\"Dataset\"] = \"Validation\"\n",
    "roc_curve_results_dict_test[\"roc_curve_df\"][\"Dataset\"] = \"Test\"\n",
    "roc_curve_df = pd.concat([\n",
    "#     roc_curve_results_dict_train[\"roc_curve_df\"],\n",
    "    roc_curve_results_dict_val[\"roc_curve_df\"],\n",
    "    roc_curve_results_dict_test[\"roc_curve_df\"]], axis=0)\n",
    "\n",
    "g = sns.relplot(data=roc_curve_df.query(\"thresholds <= 1\"), x=\"fpr\", y=\"tpr\", hue=\"thresholds\", col=\"Dataset\", height=6, kind=\"scatter\", palette=\"magma\",\n",
    "                linewidth=0.01)\n",
    "# g.axes[0][0].axvline(roc_curve_results_dict_train[\"selected_fpr\"], linestyle=\":\")\n",
    "# g.axes[0][0].text(roc_curve_results_dict_train[\"selected_fpr\"], 0.3, f\"Selected threshold = {roc_curve_results_dict_train['selected_threshold']:.3f}\")\n",
    "# g.axes[0][0].set_title(f\"{g.axes[0][0].get_title()}\\nAUROC = {roc_curve_results_dict_train['auroc']:.4f}\")\n",
    "g.axes[0][0].axvline(roc_curve_results_dict_val[\"selected_fpr\"], linestyle=\":\")\n",
    "g.axes[0][0].text(roc_curve_results_dict_val[\"selected_fpr\"], 0.3, f\"Selected threshold = {roc_curve_results_dict_val['selected_threshold']:.3f}\")\n",
    "g.axes[0][0].set_title(f\"{g.axes[0][0].get_title()}\\nAUROC = {roc_curve_results_dict_test['auroc']:.4f}\")\n",
    "g.axes[0][1].axvline(roc_curve_results_dict_test[\"selected_fpr\"], linestyle=\":\")\n",
    "g.axes[0][1].text(roc_curve_results_dict_test[\"selected_fpr\"], 0.3, f\"Selected threshold = {roc_curve_results_dict_test['selected_threshold']:.3f}\")\n",
    "g.axes[0][1].set_title(f\"{g.axes[0][1].get_title()}\\nAUROC = {roc_curve_results_dict_test['auroc']:.4f}\")\n",
    "suptitle = \"\"\n",
    "g.fig.suptitle(f\"{suptitle} - ROC curve\\n(target train FPR = {target_fpr})\\n\\n\\n.\")\n",
    "plt.show()"
   ]
  },
  {
   "cell_type": "code",
   "execution_count": null,
   "metadata": {
    "ExecuteTime": {
     "end_time": "2022-12-09T00:54:47.518180Z",
     "start_time": "2022-12-09T00:54:39.809Z"
    }
   },
   "outputs": [],
   "source": [
    "roc_curve_results_dict_test[\"roc_curve_df\"].query(f\"abs(fpr - 0.05) < 0.00001\")"
   ]
  },
  {
   "cell_type": "code",
   "execution_count": null,
   "metadata": {
    "ExecuteTime": {
     "end_time": "2022-12-09T00:54:47.519564Z",
     "start_time": "2022-12-09T00:54:39.811Z"
    }
   },
   "outputs": [],
   "source": [
    "target_threshold = roc_curve_results_dict_test[\"roc_curve_df\"].query(f\"abs(fpr - 0.05) < 0.00001\")[\"thresholds\"].mean()\n",
    "target_threshold"
   ]
  },
  {
   "cell_type": "markdown",
   "metadata": {},
   "source": [
    "### Get_wrong_examples_indices_given_threshold"
   ]
  },
  {
   "cell_type": "code",
   "execution_count": null,
   "metadata": {
    "ExecuteTime": {
     "end_time": "2022-12-09T00:54:47.521139Z",
     "start_time": "2022-12-09T00:54:39.857Z"
    }
   },
   "outputs": [],
   "source": [
    "def Get_roc_curve_df_from_model_and_data_loader(model, data_loader, target_threshold=None):\n",
    "#     data_loader = test_loader\n",
    "\n",
    "    X_all_list = []\n",
    "    X_embedding_all_list = []\n",
    "    y_true_all_list = []\n",
    "    X_logits_all_list = []\n",
    "    scores_all_list = []\n",
    "    wrong_indices_dict = {0: [], 1: []}\n",
    "\n",
    "    model.eval()\n",
    "    auroc = AUROC(pos_label=1)\n",
    "    softmax = torch.nn.Softmax(dim=1)\n",
    "\n",
    "    for i, data in enumerate(data_loader):\n",
    "#         print(f\"Batch {i} / {len(data_loader)}\")\n",
    "        X, y = data\n",
    "        X_all_list.append(X)\n",
    "        X_embedding = model.backbone(X)\n",
    "        X_logits = model.classifier(X_embedding)\n",
    "    #     print(X_embedding.shape, y.shape)\n",
    "    #     print(y)\n",
    "    #     print(X_logits)\n",
    "        X_embedding_all_list.append(X_embedding)\n",
    "        y_true_all_list.append(y)\n",
    "        X_logits_all_list.append(X_logits)\n",
    "\n",
    "        scores = softmax(X_logits)[:, 1].detach()\n",
    "        scores_all_list.append(scores)\n",
    "        auroc.update(scores, y.detach())\n",
    "        \n",
    "        for j, (score, label) in enumerate(zip(scores.numpy(), y.numpy())):\n",
    "            if (label == 0 and score >= target_threshold) \\\n",
    "                or (label == 1 and score < target_threshold):\n",
    "                wrong_indices_dict[label].append(i * len(y) + j)\n",
    "    #     break\n",
    "\n",
    "    auroc_value = auroc.compute()\n",
    "    auroc.reset()\n",
    "    print(f\"auroc_value = {auroc_value:.4f}\")\n",
    "    X_all = torch.cat(X_all_list, dim=0)\n",
    "    y_true_all = torch.cat(y_true_all_list, dim=0)\n",
    "    scores_all = torch.cat(scores_all_list, dim=0)\n",
    "    X_embedding_all = torch.cat(X_embedding_all_list, dim=0)\n",
    "    X_embedding_all_np = X_embedding_all.detach().numpy()\n",
    "    y_true_all_np = y_true_all.detach().numpy()\n",
    "    scores_all_np = scores_all.detach().numpy()\n",
    "#     X_all.shape, y_true_all.shape, scores_all.shape, X_embedding_all.shape\n",
    "\n",
    "    y_scores = scores_all\n",
    "    y_true = y_true_all_np\n",
    "    return wrong_indices_dict\n",
    "\n",
    "wrong_indices_dict_test = Get_roc_curve_df_from_model_and_data_loader(\n",
    "    model_loaded, test_loader, target_threshold=target_threshold)"
   ]
  },
  {
   "cell_type": "code",
   "execution_count": null,
   "metadata": {
    "ExecuteTime": {
     "end_time": "2022-12-09T00:54:47.522531Z",
     "start_time": "2022-12-09T00:54:39.859Z"
    }
   },
   "outputs": [],
   "source": [
    "len(wrong_indices_dict_test[0]), len(wrong_indices_dict_test[1])"
   ]
  },
  {
   "cell_type": "markdown",
   "metadata": {},
   "source": [
    "## Lime"
   ]
  },
  {
   "cell_type": "markdown",
   "metadata": {
    "ExecuteTime": {
     "end_time": "2022-12-08T01:25:37.472296Z",
     "start_time": "2022-12-08T01:25:37.468228Z"
    }
   },
   "source": [
    "https://github.com/emanuel-metzenthin/Lime-For-Time/blob/master/demo/LIME-Pipeline.ipynb"
   ]
  },
  {
   "cell_type": "code",
   "execution_count": null,
   "metadata": {
    "ExecuteTime": {
     "end_time": "2022-12-09T00:54:47.524120Z",
     "start_time": "2022-12-09T00:54:39.951Z"
    }
   },
   "outputs": [],
   "source": [
    "from lime_timeseries import LimeTimeSeriesExplainer"
   ]
  },
  {
   "cell_type": "code",
   "execution_count": null,
   "metadata": {
    "ExecuteTime": {
     "end_time": "2022-12-09T00:54:47.525413Z",
     "start_time": "2022-12-09T00:54:39.954Z"
    }
   },
   "outputs": [],
   "source": [
    "softmax = torch.nn.Softmax(dim=1)\n",
    "\n",
    "model_loaded.eval()\n",
    "def Get_NN_predict_proba(model):\n",
    "    def NN_predict_proba(X):\n",
    "        X = torch.from_numpy(X)\n",
    "        X = X.unsqueeze(1)\n",
    "        X_embedding = model_loaded.backbone(X)\n",
    "        X_logits = model_loaded.classifier(X_embedding)\n",
    "        predict_proba = softmax(X_logits).detach().numpy()\n",
    "        return predict_proba\n",
    "    return NN_predict_proba\n",
    "NN_predict_proba = Get_NN_predict_proba(model_loaded)"
   ]
  },
  {
   "cell_type": "code",
   "execution_count": null,
   "metadata": {
    "ExecuteTime": {
     "end_time": "2022-12-09T00:54:47.526790Z",
     "start_time": "2022-12-09T00:54:39.956Z"
    }
   },
   "outputs": [],
   "source": [
    "idx = 5\n",
    "ecg_signal, label = test_dataset[idx]\n",
    "ecg_signal = ecg_signal.ravel()\n",
    "plt.plot(ecg_signal, label=label)\n",
    "plt.legend()"
   ]
  },
  {
   "cell_type": "code",
   "execution_count": null,
   "metadata": {
    "ExecuteTime": {
     "end_time": "2022-12-09T00:54:47.528251Z",
     "start_time": "2022-12-09T00:54:39.958Z"
    },
    "cell_style": "split"
   },
   "outputs": [],
   "source": [
    "idx = 5\n",
    "ecg_signal, label = test_dataset[idx]\n",
    "ecg_signal = ecg_signal.ravel()\n",
    "explainer = LimeTimeSeriesExplainer(class_names=['Sinus', 'JET'])\n",
    "num_features = 10\n",
    "num_slices = 30\n",
    "exp = explainer.explain_instance(\n",
    "    ecg_signal, NN_predict_proba, num_features=num_features,\n",
    "    num_samples=5000, num_slices=num_slices,\n",
    "    replacement_method='total_mean')\n",
    "exp.as_pyplot_figure()"
   ]
  },
  {
   "cell_type": "code",
   "execution_count": null,
   "metadata": {
    "ExecuteTime": {
     "end_time": "2022-12-09T00:54:47.529602Z",
     "start_time": "2022-12-09T00:54:39.961Z"
    },
    "cell_style": "split"
   },
   "outputs": [],
   "source": [
    "\n",
    "\n",
    "\n",
    "\n",
    "\n",
    "\n",
    "proba = NN_predict_proba(ecg_signal[np.newaxis, :])\n",
    "\n",
    "values_per_slice = math.ceil(len(ecg_signal) / num_slices)\n",
    "label_dict = {0: \"Sinus\", 1: \"  JET \"}\n",
    "for i, p in enumerate(proba.ravel()):\n",
    "    print(i, p)\n",
    "    plt.text(50, 0.8 - 0.2 * i,\n",
    "             f\"Pr({label_dict[i]}|x) = {p:.2f}\", size=15)\n",
    "\n",
    "plt.plot(ecg_signal, color='b', label='Explained instance')\n",
    "# plt.plot(ecg_signal, color='#FF0000', linestyle=\":\", label='Explained instance')\n",
    "\n",
    "# plt.plot(coffee_test_x.iloc[15:,:].mean(), color='green', label='Mean of other class')\n",
    "plt.legend(loc='lower right')\n",
    "\n",
    "for i in range(num_features):\n",
    "    feature, weight = exp.as_list()[i]\n",
    "    start = feature * values_per_slice\n",
    "    end = start + values_per_slice\n",
    "    color = 'red' if weight < 0 else 'green' \n",
    "    plt.axvspan(start , end, color=color, alpha=abs(weight*2))\n",
    "plt.show()"
   ]
  },
  {
   "cell_type": "code",
   "execution_count": null,
   "metadata": {
    "ExecuteTime": {
     "end_time": "2022-12-09T00:54:47.530880Z",
     "start_time": "2022-12-09T00:54:39.963Z"
    },
    "cell_style": "split"
   },
   "outputs": [],
   "source": [
    "idx = 1000\n",
    "ecg_signal, label = test_dataset[idx]\n",
    "ecg_signal = ecg_signal.ravel()\n",
    "explainer = LimeTimeSeriesExplainer(class_names=['Sinus', 'JET'])\n",
    "num_features = 10\n",
    "num_slices = 30\n",
    "exp = explainer.explain_instance(\n",
    "    ecg_signal, NN_predict_proba, num_features=num_features,\n",
    "    num_samples=5000, num_slices=num_slices,\n",
    "    replacement_method='total_mean')\n",
    "exp.as_pyplot_figure()"
   ]
  },
  {
   "cell_type": "code",
   "execution_count": null,
   "metadata": {
    "ExecuteTime": {
     "end_time": "2022-12-09T00:54:47.532530Z",
     "start_time": "2022-12-09T00:54:39.965Z"
    },
    "cell_style": "split"
   },
   "outputs": [],
   "source": [
    "\n",
    "\n",
    "\n",
    "\n",
    "\n",
    "\n",
    "proba = NN_predict_proba(ecg_signal[np.newaxis, :])\n",
    "\n",
    "values_per_slice = math.ceil(len(ecg_signal) / num_slices)\n",
    "label_dict = {0: \"Sinus\", 1: \"  JET \"}\n",
    "for i, p in enumerate(proba.ravel()):\n",
    "    print(i, p)\n",
    "    plt.text(50, 0.8 - 0.2 * i,\n",
    "             f\"Pr({label_dict[i]}|x) = {p:.2f}\", size=15)\n",
    "\n",
    "plt.plot(ecg_signal, color='b', label='Explained instance')\n",
    "# plt.plot(ecg_signal, color='#FF0000', linestyle=\":\", label='Explained instance')\n",
    "\n",
    "# plt.plot(coffee_test_x.iloc[15:,:].mean(), color='green', label='Mean of other class')\n",
    "plt.legend(loc='lower right')\n",
    "\n",
    "for i in range(num_features):\n",
    "    feature, weight = exp.as_list()[i]\n",
    "    start = feature * values_per_slice\n",
    "    end = start + values_per_slice\n",
    "    color = 'red' if weight < 0 else 'green' \n",
    "    plt.axvspan(start , end, color=color, alpha=abs(weight*2))\n",
    "plt.show()"
   ]
  },
  {
   "cell_type": "code",
   "execution_count": null,
   "metadata": {
    "ExecuteTime": {
     "end_time": "2022-12-09T00:54:47.533787Z",
     "start_time": "2022-12-09T00:54:39.967Z"
    },
    "cell_style": "split"
   },
   "outputs": [],
   "source": [
    "idx = 2000\n",
    "ecg_signal, label = test_dataset[idx]\n",
    "ecg_signal = ecg_signal.ravel()\n",
    "explainer = LimeTimeSeriesExplainer(class_names=['Sinus', 'JET'])\n",
    "num_features = 10\n",
    "num_slices = 30\n",
    "exp = explainer.explain_instance(\n",
    "    ecg_signal, NN_predict_proba, num_features=num_features,\n",
    "    num_samples=5000, num_slices=num_slices,\n",
    "    replacement_method='total_mean')\n",
    "exp.as_pyplot_figure()"
   ]
  },
  {
   "cell_type": "code",
   "execution_count": null,
   "metadata": {
    "ExecuteTime": {
     "end_time": "2022-12-09T00:54:47.535018Z",
     "start_time": "2022-12-09T00:54:39.969Z"
    },
    "cell_style": "split"
   },
   "outputs": [],
   "source": [
    "\n",
    "\n",
    "\n",
    "\n",
    "\n",
    "\n",
    "proba = NN_predict_proba(ecg_signal[np.newaxis, :])\n",
    "\n",
    "values_per_slice = math.ceil(len(ecg_signal) / num_slices)\n",
    "label_dict = {0: \"Sinus\", 1: \"JET\"}\n",
    "for i, p in enumerate(proba.ravel()):\n",
    "    print(i, p)\n",
    "    plt.text(20, 0.9 - 0.1 * i,\n",
    "             f\"Pr(y={label_dict[i]}|x; CNN) = {p:.2f}\", size=15)\n",
    "\n",
    "plt.plot(ecg_signal, color='b', label='Explained instance')\n",
    "# plt.plot(ecg_signal, color='#FF0000', linestyle=\":\", label='Explained instance')\n",
    "\n",
    "# plt.plot(coffee_test_x.iloc[15:,:].mean(), color='green', label='Mean of other class')\n",
    "plt.legend(loc='lower right')\n",
    "\n",
    "for i in range(num_features):\n",
    "    feature, weight = exp.as_list()[i]\n",
    "    start = feature * values_per_slice\n",
    "    end = start + values_per_slice\n",
    "    color = 'red' if weight < 0 else 'green' \n",
    "    plt.axvspan(start , end, color=color, alpha=abs(weight*2))\n",
    "plt.show()"
   ]
  },
  {
   "cell_type": "markdown",
   "metadata": {},
   "source": [
    "### As a function"
   ]
  },
  {
   "cell_type": "code",
   "execution_count": null,
   "metadata": {
    "ExecuteTime": {
     "end_time": "2022-12-09T00:54:47.536250Z",
     "start_time": "2022-12-09T00:54:40.038Z"
    }
   },
   "outputs": [],
   "source": [
    "num_slices, num_features"
   ]
  },
  {
   "cell_type": "code",
   "execution_count": null,
   "metadata": {
    "ExecuteTime": {
     "end_time": "2022-12-09T00:54:47.537471Z",
     "start_time": "2022-12-09T00:54:40.046Z"
    }
   },
   "outputs": [],
   "source": [
    "def Show_LIME_explanation_for_idx(idx, dataset, NN_predict_proba,\n",
    "                                  class_names=None, num_slices=30,\n",
    "                                  num_features=10, ax=None,\n",
    "                                  replacement_method=\"total_mean\"):\n",
    "    if class_names is None:\n",
    "        class_names = ['Sinus', 'JET']\n",
    "    ecg_signal, label = dataset[idx]\n",
    "    ecg_signal = ecg_signal.ravel()\n",
    "    explainer = LimeTimeSeriesExplainer(class_names=class_names)\n",
    "    exp = explainer.explain_instance(\n",
    "        ecg_signal, NN_predict_proba, num_features=num_features,\n",
    "        num_samples=5000, num_slices=num_slices,\n",
    "        replacement_method=replacement_method)\n",
    "    \n",
    "    Plot_LIME_explanation(ecg_signal, label, NN_predict_proba,\n",
    "                          exp, num_slices=num_slices, num_features=num_features, ax=ax)\n",
    "\n",
    "def Plot_LIME_explanation(ecg_signal, label, NN_predict_proba, exp, num_slices=30, num_features=10, ax=None):\n",
    "    if ax is None:\n",
    "        ax = plt.gca()\n",
    "        \n",
    "    sns.set(style=\"white\", font_scale=1.5)\n",
    "    proba = NN_predict_proba(ecg_signal[np.newaxis, :])\n",
    "    values_per_slice = np.ceil(len(ecg_signal) / num_slices).astype(int)\n",
    "    label_dict = {0: \"Sinus\", 1: \"JET\"}\n",
    "    color_dict = {0: cm.tab10(0), 1: cm.tab10(1)}\n",
    "    for i, p in enumerate(proba.ravel()):\n",
    "        ax.text(20, 0.9 - 0.1 * i,\n",
    "                 f\"Pr(y={label_dict[i]}|x; CNN) = {p:.2f}\", size=15)\n",
    "\n",
    "    ax.plot(ecg_signal, color=color_dict[label], label=label_dict[label])\n",
    "    ax.legend(loc='lower center')\n",
    "\n",
    "    for i in range(num_features):\n",
    "        feature, weight = exp.as_list()[i]\n",
    "        start = feature * values_per_slice\n",
    "        end = start + values_per_slice\n",
    "        color = 'red' if weight < 0 else 'green' \n",
    "        ax.axvspan(start, end, color=color, alpha=abs(weight * 2))\n",
    "        \n",
    "    ax.set_xticklabels([])\n",
    "    ax.set_yticklabels([])    "
   ]
  },
  {
   "cell_type": "code",
   "execution_count": null,
   "metadata": {
    "ExecuteTime": {
     "end_time": "2022-12-09T00:54:47.538970Z",
     "start_time": "2022-12-09T00:54:40.053Z"
    },
    "cell_style": "split"
   },
   "outputs": [],
   "source": [
    "Plot_LIME_explanation(ecg_signal, label, NN_predict_proba, exp)"
   ]
  },
  {
   "cell_type": "code",
   "execution_count": null,
   "metadata": {
    "ExecuteTime": {
     "end_time": "2022-12-09T00:54:47.540283Z",
     "start_time": "2022-12-09T00:54:40.088Z"
    },
    "cell_style": "split"
   },
   "outputs": [],
   "source": [
    "Show_LIME_explanation_for_idx(2000, test_dataset, NN_predict_proba, num_slices=30, num_features=10)"
   ]
  },
  {
   "cell_type": "code",
   "execution_count": null,
   "metadata": {
    "ExecuteTime": {
     "end_time": "2022-12-09T00:54:47.541595Z",
     "start_time": "2022-12-09T00:54:40.098Z"
    }
   },
   "outputs": [],
   "source": [
    "dataset_plot = test_dataset\n",
    "show_num = 20\n",
    "ncol = 5\n",
    "nrow = np.ceil(show_num / ncol).astype(int)\n",
    "np.random.seed(0)\n",
    "selected_idx_list = np.random.choice(np.arange(len(test_dataset)), size=show_num, replace=False)\n",
    "fig, axes = plt.subplots(nrow, ncol, figsize=(6 * ncol, 4 * nrow))\n",
    "for i, idx in enumerate(selected_idx_list):\n",
    "    r = i // ncol\n",
    "    c = i % ncol\n",
    "    ax = axes[r, c]\n",
    "    Show_LIME_explanation_for_idx(idx, dataset_plot, NN_predict_proba, num_slices=30, num_features=10, ax=ax)"
   ]
  },
  {
   "cell_type": "code",
   "execution_count": null,
   "metadata": {
    "ExecuteTime": {
     "end_time": "2022-12-09T00:54:47.542815Z",
     "start_time": "2022-12-09T00:54:40.105Z"
    }
   },
   "outputs": [],
   "source": [
    "dataset_plot = test_dataset\n",
    "show_num = 20\n",
    "ncol = 5\n",
    "nrow = np.ceil(show_num / ncol).astype(int)\n",
    "np.random.seed(0)\n",
    "selected_idx_list = np.random.choice(np.arange(len(test_dataset)), size=show_num, replace=False)\n",
    "fig, axes = plt.subplots(nrow, ncol, figsize=(6 * ncol, 4 * nrow))\n",
    "for i, idx in enumerate(selected_idx_list):\n",
    "    r = i // ncol\n",
    "    c = i % ncol\n",
    "    ax = axes[r, c]\n",
    "    Show_LIME_explanation_for_idx(idx, dataset_plot, NN_predict_proba,\n",
    "                                  num_slices=30, num_features=10, ax=ax,\n",
    "                                  replacement_method=\"mean\")"
   ]
  },
  {
   "cell_type": "code",
   "execution_count": null,
   "metadata": {
    "ExecuteTime": {
     "end_time": "2022-12-09T00:54:47.544139Z",
     "start_time": "2022-12-09T00:54:40.109Z"
    }
   },
   "outputs": [],
   "source": [
    "dataset_plot = test_dataset\n",
    "show_num = 20\n",
    "ncol = 5\n",
    "nrow = np.ceil(show_num / ncol).astype(int)\n",
    "np.random.seed(0)\n",
    "selected_idx_list = np.random.choice(np.arange(len(test_dataset)), size=show_num, replace=False)\n",
    "fig, axes = plt.subplots(nrow, ncol, figsize=(6 * ncol, 4 * nrow))\n",
    "for i, idx in enumerate(selected_idx_list):\n",
    "    r = i // ncol\n",
    "    c = i % ncol\n",
    "    ax = axes[r, c]\n",
    "    Show_LIME_explanation_for_idx(idx, dataset_plot, NN_predict_proba,\n",
    "                                  num_slices=30, num_features=10, ax=ax,\n",
    "                                  replacement_method=\"noise\")"
   ]
  },
  {
   "cell_type": "code",
   "execution_count": null,
   "metadata": {
    "ExecuteTime": {
     "end_time": "2022-12-09T00:54:47.545793Z",
     "start_time": "2022-12-09T00:54:40.112Z"
    },
    "scrolled": true
   },
   "outputs": [],
   "source": [
    "dataset_plot = test_dataset\n",
    "show_num = 20\n",
    "ncol = 5\n",
    "nrow = np.ceil(show_num / ncol).astype(int)\n",
    "np.random.seed(1)\n",
    "selected_idx_list = np.random.choice(np.arange(len(test_dataset)), size=show_num, replace=False)\n",
    "fig, axes = plt.subplots(nrow, ncol, figsize=(6 * ncol, 4 * nrow))\n",
    "for i, idx in enumerate(selected_idx_list):\n",
    "    r = i // ncol\n",
    "    c = i % ncol\n",
    "    ax = axes[r, c]\n",
    "    Show_LIME_explanation_for_idx(idx, dataset_plot, NN_predict_proba, num_slices=30, num_features=10, ax=ax)"
   ]
  },
  {
   "cell_type": "markdown",
   "metadata": {},
   "source": [
    "### False positives"
   ]
  },
  {
   "cell_type": "code",
   "execution_count": null,
   "metadata": {
    "ExecuteTime": {
     "end_time": "2022-12-09T00:54:47.547074Z",
     "start_time": "2022-12-09T00:54:40.185Z"
    }
   },
   "outputs": [],
   "source": [
    "dataset_plot = test_dataset\n",
    "show_num = 20\n",
    "ncol = 5\n",
    "nrow = np.ceil(show_num / ncol).astype(int)\n",
    "np.random.seed(0)\n",
    "selected_idx_list = np.random.choice(wrong_indices_dict_test[1], size=show_num, replace=False)\n",
    "fig, axes = plt.subplots(nrow, ncol, figsize=(6 * ncol, 4 * nrow))\n",
    "print(selected_idx_list)\n",
    "for i, idx in enumerate(selected_idx_list):\n",
    "    r = i // ncol\n",
    "    c = i % ncol\n",
    "    ax = axes[r, c]\n",
    "    Show_LIME_explanation_for_idx(idx, dataset_plot, NN_predict_proba, num_slices=30, num_features=10, ax=ax)"
   ]
  },
  {
   "cell_type": "code",
   "execution_count": null,
   "metadata": {
    "ExecuteTime": {
     "end_time": "2022-12-09T00:54:47.548314Z",
     "start_time": "2022-12-09T00:54:40.188Z"
    }
   },
   "outputs": [],
   "source": [
    "dataset_plot = test_dataset\n",
    "show_num = 20\n",
    "ncol = 5\n",
    "nrow = np.ceil(show_num / ncol).astype(int)\n",
    "np.random.seed(1)\n",
    "selected_idx_list = np.random.choice(wrong_indices_dict_test[1], size=show_num, replace=False)\n",
    "fig, axes = plt.subplots(nrow, ncol, figsize=(6 * ncol, 4 * nrow))\n",
    "print(selected_idx_list)\n",
    "for i, idx in enumerate(selected_idx_list):\n",
    "    r = i // ncol\n",
    "    c = i % ncol\n",
    "    ax = axes[r, c]\n",
    "    Show_LIME_explanation_for_idx(idx, dataset_plot, NN_predict_proba, num_slices=30, num_features=10, ax=ax)"
   ]
  },
  {
   "cell_type": "markdown",
   "metadata": {},
   "source": [
    "### False negatives"
   ]
  },
  {
   "cell_type": "code",
   "execution_count": null,
   "metadata": {
    "ExecuteTime": {
     "end_time": "2022-12-09T00:54:47.549479Z",
     "start_time": "2022-12-09T00:54:40.279Z"
    }
   },
   "outputs": [],
   "source": [
    "dataset_plot = test_dataset\n",
    "show_num = 20\n",
    "ncol = 5\n",
    "nrow = np.ceil(show_num / ncol).astype(int)\n",
    "np.random.seed(0)\n",
    "selected_idx_list = np.random.choice(wrong_indices_dict_test[0], size=show_num, replace=False)\n",
    "fig, axes = plt.subplots(nrow, ncol, figsize=(6 * ncol, 4 * nrow))\n",
    "print(selected_idx_list)\n",
    "for i, idx in enumerate(selected_idx_list):\n",
    "    r = i // ncol\n",
    "    c = i % ncol\n",
    "    ax = axes[r, c]\n",
    "    Show_LIME_explanation_for_idx(idx, dataset_plot, NN_predict_proba, num_slices=30, num_features=10, ax=ax)"
   ]
  },
  {
   "cell_type": "code",
   "execution_count": null,
   "metadata": {
    "ExecuteTime": {
     "end_time": "2022-12-09T00:54:47.550662Z",
     "start_time": "2022-12-09T00:54:40.283Z"
    }
   },
   "outputs": [],
   "source": [
    "dataset_plot = test_dataset\n",
    "show_num = 20\n",
    "ncol = 5\n",
    "nrow = np.ceil(show_num / ncol).astype(int)\n",
    "np.random.seed(1)\n",
    "selected_idx_list = np.random.choice(wrong_indices_dict_test[0], size=show_num, replace=False)\n",
    "fig, axes = plt.subplots(nrow, ncol, figsize=(6 * ncol, 4 * nrow))\n",
    "print(selected_idx_list)\n",
    "for i, idx in enumerate(selected_idx_list):\n",
    "    r = i // ncol\n",
    "    c = i % ncol\n",
    "    ax = axes[r, c]\n",
    "    Show_LIME_explanation_for_idx(idx, dataset_plot, NN_predict_proba, num_slices=30, num_features=10, ax=ax)"
   ]
  },
  {
   "cell_type": "markdown",
   "metadata": {},
   "source": [
    "## GradCAM"
   ]
  },
  {
   "cell_type": "markdown",
   "metadata": {},
   "source": [
    "https://ai-fast-track.github.io/timeseries/cam_tutorial_ECG200/"
   ]
  },
  {
   "cell_type": "code",
   "execution_count": null,
   "metadata": {
    "ExecuteTime": {
     "end_time": "2022-12-09T00:54:47.551701Z",
     "start_time": "2022-12-09T00:54:40.389Z"
    }
   },
   "outputs": [],
   "source": [
    "from fastai2.basics import *\n",
    "from timeseries.all import *"
   ]
  },
  {
   "cell_type": "code",
   "execution_count": null,
   "metadata": {
    "ExecuteTime": {
     "end_time": "2022-12-09T00:54:47.552882Z",
     "start_time": "2022-12-09T00:54:40.391Z"
    }
   },
   "outputs": [],
   "source": [
    "%reload_ext autoreload\n",
    "%autoreload 2"
   ]
  },
  {
   "cell_type": "code",
   "execution_count": null,
   "metadata": {
    "ExecuteTime": {
     "end_time": "2022-12-09T00:54:47.554138Z",
     "start_time": "2022-12-09T00:54:40.393Z"
    }
   },
   "outputs": [],
   "source": [
    "import fastcore\n",
    "fastcore.__version__"
   ]
  },
  {
   "cell_type": "code",
   "execution_count": null,
   "metadata": {},
   "outputs": [],
   "source": []
  },
  {
   "cell_type": "code",
   "execution_count": null,
   "metadata": {},
   "outputs": [],
   "source": []
  }
 ],
 "metadata": {
  "kernelspec": {
   "display_name": "Python 3",
   "language": "python",
   "name": "python3"
  },
  "latex_envs": {
   "LaTeX_envs_menu_present": true,
   "autoclose": false,
   "autocomplete": true,
   "bibliofile": "biblio.bib",
   "cite_by": "apalike",
   "current_citInitial": 1,
   "eqLabelWithNumbers": true,
   "eqNumInitial": 1,
   "hotkeys": {
    "equation": "Ctrl-E",
    "itemize": "Ctrl-I"
   },
   "labels_anchors": false,
   "latex_user_defs": false,
   "report_style_numbering": false,
   "user_envs_cfg": false
  },
  "toc": {
   "base_numbering": 1,
   "nav_menu": {},
   "number_sections": true,
   "sideBar": true,
   "skip_h1_title": false,
   "title_cell": "Table of Contents",
   "title_sidebar": "Contents",
   "toc_cell": false,
   "toc_position": {},
   "toc_section_display": true,
   "toc_window_display": true
  },
  "varInspector": {
   "cols": {
    "lenName": 16,
    "lenType": 16,
    "lenVar": 40
   },
   "kernels_config": {
    "python": {
     "delete_cmd_postfix": "",
     "delete_cmd_prefix": "del ",
     "library": "var_list.py",
     "varRefreshCmd": "print(var_dic_list())"
    },
    "r": {
     "delete_cmd_postfix": ") ",
     "delete_cmd_prefix": "rm(",
     "library": "var_list.r",
     "varRefreshCmd": "cat(var_dic_list()) "
    }
   },
   "types_to_exclude": [
    "module",
    "function",
    "builtin_function_or_method",
    "instance",
    "_Feature"
   ],
   "window_display": false
  }
 },
 "nbformat": 4,
 "nbformat_minor": 2
}
