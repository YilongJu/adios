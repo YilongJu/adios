{
 "cells": [
  {
   "cell_type": "code",
   "execution_count": 1,
   "id": "345ee903",
   "metadata": {
    "ExecuteTime": {
     "end_time": "2023-02-09T04:24:04.017920Z",
     "start_time": "2023-02-09T04:23:47.607923Z"
    }
   },
   "outputs": [
    {
     "name": "stderr",
     "output_type": "stream",
     "text": [
      "C:\\ProgramData\\Anaconda3\\envs\\apy3.10\\lib\\site-packages\\tqdm\\auto.py:22: TqdmWarning: IProgress not found. Please update jupyter and ipywidgets. See https://ipywidgets.readthedocs.io/en/stable/user_install.html\n",
      "  from .autonotebook import tqdm as notebook_tqdm\n",
      "C:\\ProgramData\\Anaconda3\\envs\\apy3.10\\lib\\site-packages\\torchvision\\io\\image.py:13: UserWarning: Failed to load image Python extension: [WinError 127] The specified procedure could not be found\n",
      "  warn(f\"Failed to load image Python extension: {e}\")\n"
     ]
    },
    {
     "name": "stdout",
     "output_type": "stream",
     "text": [
      "functorch not installed.\n"
     ]
    }
   ],
   "source": [
    "import pandas as pd\n",
    "import numpy as np\n",
    "import matplotlib.pyplot as plt\n",
    "import matplotlib.cm as cm\n",
    "import seaborn as sns\n",
    "\n",
    "import os\n",
    "\n",
    "import statsmodels.formula.api as smf\n",
    "from src.utils.ECG_data_loading import ECG_classification_dataset_with_peak_features\n",
    "from torch.utils.data import DataLoader\n",
    "\n",
    "%load_ext autoreload\n",
    "%autoreload 2"
   ]
  },
  {
   "cell_type": "markdown",
   "id": "9ae2ebe8",
   "metadata": {},
   "source": [
    "# Load ECG Data"
   ]
  },
  {
   "cell_type": "code",
   "execution_count": 2,
   "id": "1728ed99",
   "metadata": {
    "ExecuteTime": {
     "end_time": "2023-02-09T04:24:49.427007Z",
     "start_time": "2023-02-09T04:24:49.052011Z"
    }
   },
   "outputs": [],
   "source": [
    "data_folder = \"\"\n",
    "data_chunk_folder = \"ecg-pat40-tch-sinus_jet_lead2\"\n",
    "load_training_data = False\n",
    "if load_training_data:\n",
    "    data_chunk_list = []\n",
    "    for data_filename in os.listdir(os.path.join(data_folder, data_chunk_folder)):\n",
    "        data_chunk_list.append(pd.read_csv(os.path.join(data_folder, data_chunk_folder, data_filename)))\n",
    "    feature_df_all_selected_with_ecg = pd.concat(data_chunk_list, axis=0)\n",
    "    channel_ID = 2\n",
    "    feature_with_ecg_df_train_single_lead = feature_df_all_selected_with_ecg.query(f\"patient_ID in {patient_ID_list_train}\").query(f\"channel_ID == {channel_ID}\")\n",
    "    \n",
    "    train_dataset = ECG_classification_dataset_with_peak_features(feature_with_ecg_df_train_single_lead,\n",
    "                                                                     shift_signal=False,\n",
    "                                                                     shift_amount=0,\n",
    "                                                                     normalize_signal=True,\n",
    "                                                                     ecg_resampling_length_target=300)\n",
    "    train_loader = DataLoader(\n",
    "        train_dataset, batch_size=128, num_workers=1, shuffle=False, drop_last=False\n",
    "    )"
   ]
  },
  {
   "cell_type": "code",
   "execution_count": 3,
   "id": "c67eda75",
   "metadata": {
    "ExecuteTime": {
     "end_time": "2023-02-09T04:25:03.364385Z",
     "start_time": "2023-02-09T04:24:53.273376Z"
    }
   },
   "outputs": [
    {
     "data": {
      "text/html": [
       "<div>\n",
       "<style scoped>\n",
       "    .dataframe tbody tr th:only-of-type {\n",
       "        vertical-align: middle;\n",
       "    }\n",
       "\n",
       "    .dataframe tbody tr th {\n",
       "        vertical-align: top;\n",
       "    }\n",
       "\n",
       "    .dataframe thead th {\n",
       "        text-align: right;\n",
       "    }\n",
       "</style>\n",
       "<table border=\"1\" class=\"dataframe\">\n",
       "  <thead>\n",
       "    <tr style=\"text-align: right;\">\n",
       "      <th></th>\n",
       "      <th>cycle_ID</th>\n",
       "      <th>patient_ID</th>\n",
       "      <th>interval_ID</th>\n",
       "      <th>block_ID</th>\n",
       "      <th>channel_ID</th>\n",
       "      <th>segment_ID</th>\n",
       "      <th>start_ID</th>\n",
       "      <th>end_ID</th>\n",
       "      <th>r_ID</th>\n",
       "      <th>r_t</th>\n",
       "      <th>...</th>\n",
       "      <th>ecg295</th>\n",
       "      <th>ecg296</th>\n",
       "      <th>ecg297</th>\n",
       "      <th>ecg298</th>\n",
       "      <th>ecg299</th>\n",
       "      <th>ecg300</th>\n",
       "      <th>r_ID_abs</th>\n",
       "      <th>r_ID_abs_ref</th>\n",
       "      <th>selected</th>\n",
       "      <th>duration</th>\n",
       "    </tr>\n",
       "  </thead>\n",
       "  <tbody>\n",
       "    <tr>\n",
       "      <th>0</th>\n",
       "      <td>1</td>\n",
       "      <td>771495</td>\n",
       "      <td>8748755</td>\n",
       "      <td>1</td>\n",
       "      <td>2</td>\n",
       "      <td>1</td>\n",
       "      <td>1</td>\n",
       "      <td>66705</td>\n",
       "      <td>820</td>\n",
       "      <td>2015-12-22 23:12:04.099549952</td>\n",
       "      <td>...</td>\n",
       "      <td>1.290715</td>\n",
       "      <td>1.403295</td>\n",
       "      <td>1.606575</td>\n",
       "      <td>1.857944</td>\n",
       "      <td>2.039397</td>\n",
       "      <td>2.014317</td>\n",
       "      <td>820</td>\n",
       "      <td>820</td>\n",
       "      <td>True</td>\n",
       "      <td>277.528</td>\n",
       "    </tr>\n",
       "    <tr>\n",
       "      <th>1</th>\n",
       "      <td>2</td>\n",
       "      <td>771495</td>\n",
       "      <td>8748755</td>\n",
       "      <td>1</td>\n",
       "      <td>2</td>\n",
       "      <td>1</td>\n",
       "      <td>1</td>\n",
       "      <td>66705</td>\n",
       "      <td>907</td>\n",
       "      <td>2015-12-22 23:12:04.461459968</td>\n",
       "      <td>...</td>\n",
       "      <td>1.152530</td>\n",
       "      <td>1.248552</td>\n",
       "      <td>1.434638</td>\n",
       "      <td>1.692337</td>\n",
       "      <td>1.924521</td>\n",
       "      <td>1.995100</td>\n",
       "      <td>907</td>\n",
       "      <td>907</td>\n",
       "      <td>True</td>\n",
       "      <td>277.528</td>\n",
       "    </tr>\n",
       "    <tr>\n",
       "      <th>2</th>\n",
       "      <td>3</td>\n",
       "      <td>771495</td>\n",
       "      <td>8748755</td>\n",
       "      <td>1</td>\n",
       "      <td>2</td>\n",
       "      <td>1</td>\n",
       "      <td>1</td>\n",
       "      <td>66705</td>\n",
       "      <td>994</td>\n",
       "      <td>2015-12-22 23:12:04.823380224</td>\n",
       "      <td>...</td>\n",
       "      <td>0.954466</td>\n",
       "      <td>1.053145</td>\n",
       "      <td>1.247815</td>\n",
       "      <td>1.520770</td>\n",
       "      <td>1.775172</td>\n",
       "      <td>1.874207</td>\n",
       "      <td>994</td>\n",
       "      <td>994</td>\n",
       "      <td>True</td>\n",
       "      <td>277.528</td>\n",
       "    </tr>\n",
       "    <tr>\n",
       "      <th>3</th>\n",
       "      <td>4</td>\n",
       "      <td>771495</td>\n",
       "      <td>8748755</td>\n",
       "      <td>1</td>\n",
       "      <td>2</td>\n",
       "      <td>1</td>\n",
       "      <td>1</td>\n",
       "      <td>66705</td>\n",
       "      <td>1085</td>\n",
       "      <td>2015-12-22 23:12:05.201929984</td>\n",
       "      <td>...</td>\n",
       "      <td>1.468770</td>\n",
       "      <td>1.449762</td>\n",
       "      <td>1.533679</td>\n",
       "      <td>1.723174</td>\n",
       "      <td>1.924213</td>\n",
       "      <td>1.983855</td>\n",
       "      <td>1085</td>\n",
       "      <td>1085</td>\n",
       "      <td>True</td>\n",
       "      <td>277.528</td>\n",
       "    </tr>\n",
       "    <tr>\n",
       "      <th>4</th>\n",
       "      <td>5</td>\n",
       "      <td>771495</td>\n",
       "      <td>8748755</td>\n",
       "      <td>1</td>\n",
       "      <td>2</td>\n",
       "      <td>1</td>\n",
       "      <td>1</td>\n",
       "      <td>66705</td>\n",
       "      <td>1167</td>\n",
       "      <td>2015-12-22 23:12:05.543040000</td>\n",
       "      <td>...</td>\n",
       "      <td>1.150959</td>\n",
       "      <td>1.294285</td>\n",
       "      <td>1.518599</td>\n",
       "      <td>1.771597</td>\n",
       "      <td>1.948649</td>\n",
       "      <td>1.938984</td>\n",
       "      <td>1167</td>\n",
       "      <td>1167</td>\n",
       "      <td>True</td>\n",
       "      <td>277.528</td>\n",
       "    </tr>\n",
       "    <tr>\n",
       "      <th>...</th>\n",
       "      <td>...</td>\n",
       "      <td>...</td>\n",
       "      <td>...</td>\n",
       "      <td>...</td>\n",
       "      <td>...</td>\n",
       "      <td>...</td>\n",
       "      <td>...</td>\n",
       "      <td>...</td>\n",
       "      <td>...</td>\n",
       "      <td>...</td>\n",
       "      <td>...</td>\n",
       "      <td>...</td>\n",
       "      <td>...</td>\n",
       "      <td>...</td>\n",
       "      <td>...</td>\n",
       "      <td>...</td>\n",
       "      <td>...</td>\n",
       "      <td>...</td>\n",
       "      <td>...</td>\n",
       "      <td>...</td>\n",
       "      <td>...</td>\n",
       "    </tr>\n",
       "    <tr>\n",
       "      <th>114407</th>\n",
       "      <td>308</td>\n",
       "      <td>536886</td>\n",
       "      <td>8748726</td>\n",
       "      <td>1</td>\n",
       "      <td>2</td>\n",
       "      <td>2</td>\n",
       "      <td>4442</td>\n",
       "      <td>31910</td>\n",
       "      <td>27061</td>\n",
       "      <td>2015-01-06 01:31:59.848000000</td>\n",
       "      <td>...</td>\n",
       "      <td>0.521465</td>\n",
       "      <td>0.680327</td>\n",
       "      <td>0.817151</td>\n",
       "      <td>0.849854</td>\n",
       "      <td>0.728921</td>\n",
       "      <td>0.478241</td>\n",
       "      <td>31502</td>\n",
       "      <td>31502</td>\n",
       "      <td>True</td>\n",
       "      <td>132.808</td>\n",
       "    </tr>\n",
       "    <tr>\n",
       "      <th>114408</th>\n",
       "      <td>309</td>\n",
       "      <td>536886</td>\n",
       "      <td>8748726</td>\n",
       "      <td>1</td>\n",
       "      <td>2</td>\n",
       "      <td>2</td>\n",
       "      <td>4442</td>\n",
       "      <td>31910</td>\n",
       "      <td>27157</td>\n",
       "      <td>2015-01-06 01:32:00.247380224</td>\n",
       "      <td>...</td>\n",
       "      <td>0.482723</td>\n",
       "      <td>0.645244</td>\n",
       "      <td>0.786819</td>\n",
       "      <td>0.825585</td>\n",
       "      <td>0.711836</td>\n",
       "      <td>0.468551</td>\n",
       "      <td>31598</td>\n",
       "      <td>31598</td>\n",
       "      <td>True</td>\n",
       "      <td>132.808</td>\n",
       "    </tr>\n",
       "    <tr>\n",
       "      <th>114409</th>\n",
       "      <td>310</td>\n",
       "      <td>536886</td>\n",
       "      <td>8748726</td>\n",
       "      <td>1</td>\n",
       "      <td>2</td>\n",
       "      <td>2</td>\n",
       "      <td>4442</td>\n",
       "      <td>31910</td>\n",
       "      <td>27253</td>\n",
       "      <td>2015-01-06 01:32:00.646749952</td>\n",
       "      <td>...</td>\n",
       "      <td>0.497711</td>\n",
       "      <td>0.666044</td>\n",
       "      <td>0.814049</td>\n",
       "      <td>0.855897</td>\n",
       "      <td>0.739084</td>\n",
       "      <td>0.487000</td>\n",
       "      <td>31694</td>\n",
       "      <td>31694</td>\n",
       "      <td>True</td>\n",
       "      <td>132.808</td>\n",
       "    </tr>\n",
       "    <tr>\n",
       "      <th>114410</th>\n",
       "      <td>311</td>\n",
       "      <td>536886</td>\n",
       "      <td>8748726</td>\n",
       "      <td>1</td>\n",
       "      <td>2</td>\n",
       "      <td>2</td>\n",
       "      <td>4442</td>\n",
       "      <td>31910</td>\n",
       "      <td>27349</td>\n",
       "      <td>2015-01-06 01:32:01.046129920</td>\n",
       "      <td>...</td>\n",
       "      <td>0.541680</td>\n",
       "      <td>0.717542</td>\n",
       "      <td>0.873392</td>\n",
       "      <td>0.916993</td>\n",
       "      <td>0.791512</td>\n",
       "      <td>0.521507</td>\n",
       "      <td>31790</td>\n",
       "      <td>31790</td>\n",
       "      <td>True</td>\n",
       "      <td>132.808</td>\n",
       "    </tr>\n",
       "    <tr>\n",
       "      <th>114411</th>\n",
       "      <td>312</td>\n",
       "      <td>536886</td>\n",
       "      <td>8748726</td>\n",
       "      <td>1</td>\n",
       "      <td>2</td>\n",
       "      <td>2</td>\n",
       "      <td>4442</td>\n",
       "      <td>31910</td>\n",
       "      <td>27445</td>\n",
       "      <td>2015-01-06 01:32:01.445509888</td>\n",
       "      <td>...</td>\n",
       "      <td>0.606895</td>\n",
       "      <td>0.814795</td>\n",
       "      <td>1.004143</td>\n",
       "      <td>1.063802</td>\n",
       "      <td>0.923826</td>\n",
       "      <td>0.611162</td>\n",
       "      <td>31886</td>\n",
       "      <td>31886</td>\n",
       "      <td>True</td>\n",
       "      <td>132.808</td>\n",
       "    </tr>\n",
       "  </tbody>\n",
       "</table>\n",
       "<p>114412 rows × 370 columns</p>\n",
       "</div>"
      ],
      "text/plain": [
       "        cycle_ID  patient_ID  interval_ID  block_ID  channel_ID  segment_ID  \\\n",
       "0              1      771495      8748755         1           2           1   \n",
       "1              2      771495      8748755         1           2           1   \n",
       "2              3      771495      8748755         1           2           1   \n",
       "3              4      771495      8748755         1           2           1   \n",
       "4              5      771495      8748755         1           2           1   \n",
       "...          ...         ...          ...       ...         ...         ...   \n",
       "114407       308      536886      8748726         1           2           2   \n",
       "114408       309      536886      8748726         1           2           2   \n",
       "114409       310      536886      8748726         1           2           2   \n",
       "114410       311      536886      8748726         1           2           2   \n",
       "114411       312      536886      8748726         1           2           2   \n",
       "\n",
       "        start_ID  end_ID   r_ID                            r_t  ...    ecg295  \\\n",
       "0              1   66705    820  2015-12-22 23:12:04.099549952  ...  1.290715   \n",
       "1              1   66705    907  2015-12-22 23:12:04.461459968  ...  1.152530   \n",
       "2              1   66705    994  2015-12-22 23:12:04.823380224  ...  0.954466   \n",
       "3              1   66705   1085  2015-12-22 23:12:05.201929984  ...  1.468770   \n",
       "4              1   66705   1167  2015-12-22 23:12:05.543040000  ...  1.150959   \n",
       "...          ...     ...    ...                            ...  ...       ...   \n",
       "114407      4442   31910  27061  2015-01-06 01:31:59.848000000  ...  0.521465   \n",
       "114408      4442   31910  27157  2015-01-06 01:32:00.247380224  ...  0.482723   \n",
       "114409      4442   31910  27253  2015-01-06 01:32:00.646749952  ...  0.497711   \n",
       "114410      4442   31910  27349  2015-01-06 01:32:01.046129920  ...  0.541680   \n",
       "114411      4442   31910  27445  2015-01-06 01:32:01.445509888  ...  0.606895   \n",
       "\n",
       "          ecg296    ecg297    ecg298    ecg299    ecg300  r_ID_abs  \\\n",
       "0       1.403295  1.606575  1.857944  2.039397  2.014317       820   \n",
       "1       1.248552  1.434638  1.692337  1.924521  1.995100       907   \n",
       "2       1.053145  1.247815  1.520770  1.775172  1.874207       994   \n",
       "3       1.449762  1.533679  1.723174  1.924213  1.983855      1085   \n",
       "4       1.294285  1.518599  1.771597  1.948649  1.938984      1167   \n",
       "...          ...       ...       ...       ...       ...       ...   \n",
       "114407  0.680327  0.817151  0.849854  0.728921  0.478241     31502   \n",
       "114408  0.645244  0.786819  0.825585  0.711836  0.468551     31598   \n",
       "114409  0.666044  0.814049  0.855897  0.739084  0.487000     31694   \n",
       "114410  0.717542  0.873392  0.916993  0.791512  0.521507     31790   \n",
       "114411  0.814795  1.004143  1.063802  0.923826  0.611162     31886   \n",
       "\n",
       "        r_ID_abs_ref  selected  duration  \n",
       "0                820      True   277.528  \n",
       "1                907      True   277.528  \n",
       "2                994      True   277.528  \n",
       "3               1085      True   277.528  \n",
       "4               1167      True   277.528  \n",
       "...              ...       ...       ...  \n",
       "114407         31502      True   132.808  \n",
       "114408         31598      True   132.808  \n",
       "114409         31694      True   132.808  \n",
       "114410         31790      True   132.808  \n",
       "114411         31886      True   132.808  \n",
       "\n",
       "[114412 rows x 370 columns]"
      ]
     },
     "execution_count": 3,
     "metadata": {},
     "output_type": "execute_result"
    }
   ],
   "source": [
    "feature_with_ecg_df_val_single_lead = pd.read_csv(\"feature_with_ecg_df_val_lead2.csv\")\n",
    "feature_with_ecg_df_test_single_lead = pd.read_csv(\"feature_with_ecg_df_test_lead2.csv\")\n",
    "feature_with_ecg_df_test_single_lead"
   ]
  },
  {
   "cell_type": "code",
   "execution_count": 4,
   "id": "81cdbea5",
   "metadata": {
    "ExecuteTime": {
     "end_time": "2023-02-09T04:25:05.023944Z",
     "start_time": "2023-02-09T04:25:04.242036Z"
    }
   },
   "outputs": [],
   "source": [
    "val_dataset = ECG_classification_dataset_with_peak_features(feature_with_ecg_df_val_single_lead,\n",
    "                                                                     shift_signal=False,\n",
    "                                                                     shift_amount=0,\n",
    "                                                                     normalize_signal=True,\n",
    "                                                                     ecg_resampling_length_target=300)\n",
    "\n",
    "test_dataset = ECG_classification_dataset_with_peak_features(feature_with_ecg_df_test_single_lead,\n",
    "                                                                     shift_signal=False,\n",
    "                                                                     shift_amount=0,\n",
    "                                                                     normalize_signal=True,\n",
    "                                                                     ecg_resampling_length_target=300)\n",
    "\n",
    "val_loader = DataLoader(\n",
    "    val_dataset, batch_size=128, num_workers=1, shuffle=False, drop_last=False\n",
    ")\n",
    "test_loader = DataLoader(\n",
    "    test_dataset, batch_size=128, num_workers=1, shuffle=False, drop_last=False\n",
    ")"
   ]
  },
  {
   "cell_type": "markdown",
   "id": "d99e07bc",
   "metadata": {},
   "source": [
    "## Save ECG data as dict for lookup later"
   ]
  },
  {
   "cell_type": "code",
   "execution_count": 5,
   "id": "14ff4260",
   "metadata": {
    "ExecuteTime": {
     "end_time": "2023-02-09T04:25:23.477423Z",
     "start_time": "2023-02-09T04:25:23.067520Z"
    }
   },
   "outputs": [],
   "source": [
    "from torch.utils.data import Dataset\n",
    "import torch\n",
    "from src.utils.ECG_data_loading import ECG_classification_dataset_with_peak_features, Transform_frame, Normalize\n",
    "\n",
    "class ECG_classification_dataset_with_peak_features(Dataset):\n",
    "    def __init__(self, feature_df_all_selected_p_ind_with_ecg, ecg_resampling_length_target=300,\n",
    "                 peak_loc_name=\"p_ind_resampled\", label_name=\"label\", short_identifier_list=None,\n",
    "                 peak_feature_name_list=None, shift_signal=False, shift_amount=None, normalize_signal=False,\n",
    "                 transforms=None, dataset_name=\"ecg-TCH-40_patient-20220201\", aug_prob=0,\n",
    "                 return_original_signal=None, return_id_vec=False):\n",
    "        \"\"\"\n",
    "            normalize_signal: Normalize each individual signal to 0 - 1 range\n",
    "        \"\"\"\n",
    "        # print(f\"ecg_resampling_length_target: {ecg_resampling_length_target}\")\n",
    "        if short_identifier_list is None:\n",
    "            short_identifier_list = ['patient_ID', 'interval_ID', 'block_ID', 'channel_ID', 'r_ID_abs', 'label',\n",
    "                                     'r_ID_abs_ref']\n",
    "        if peak_feature_name_list is None:\n",
    "            peak_feature_name_list = [\"p_prom_med\", \"pr_int_iqr\"]\n",
    "\n",
    "        if transforms is None:\n",
    "            self.transforms = []\n",
    "        else:\n",
    "            if isinstance(transforms, str):\n",
    "                transforms = [transforms]\n",
    "            self.transforms = [Lower(ele) for ele in transforms]\n",
    "\n",
    "        self.dataset_name = dataset_name\n",
    "        self.short_identifier_list = short_identifier_list\n",
    "        self.peak_feature_name_list = peak_feature_name_list\n",
    "        self.label_name = label_name\n",
    "        self.device = torch.device(\"cuda:0\") if torch.cuda.is_available() else torch.device(\"cpu\")\n",
    "        self.feature_df_all_selected_p_ind_with_ecg = feature_df_all_selected_p_ind_with_ecg\n",
    "        self.ecg_resampling_length = 300\n",
    "        self.ecg_resampling_length_target = ecg_resampling_length_target\n",
    "        self.ecg_colnames = [f\"ecg{i + 1}\" for i in range(self.ecg_resampling_length)]\n",
    "        self.peak_loc_name = peak_loc_name\n",
    "        self.ecg_mat = self.feature_df_all_selected_p_ind_with_ecg[self.ecg_colnames].values\n",
    "        self.peak_label_list = self.feature_df_all_selected_p_ind_with_ecg[self.peak_loc_name].values\n",
    "        self.label_list = self.feature_df_all_selected_p_ind_with_ecg[self.label_name].values\n",
    "        self.short_identifier_mat = self.feature_df_all_selected_p_ind_with_ecg[self.short_identifier_list].values\n",
    "        self.peak_feature_mat = self.feature_df_all_selected_p_ind_with_ecg[self.peak_feature_name_list].values\n",
    "        self.return_id_vec = return_id_vec\n",
    "\n",
    "        self.shift_signal = shift_signal\n",
    "        self.shift_amount = shift_amount\n",
    "        self.normalize_signal = normalize_signal\n",
    "        self.aug_prob = aug_prob\n",
    "        if self.shift_signal:\n",
    "            if self.shift_amount is None:\n",
    "                self.shift_amount = 0\n",
    "            self.ecg_mat -= self.shift_amount  # Shift ECG to 0 baseline\n",
    "\n",
    "        if self.normalize_signal:\n",
    "            ecg_min = np.min(self.ecg_mat, axis=1)[:, np.newaxis]\n",
    "            ecg_max = np.max(self.ecg_mat, axis=1)[:, np.newaxis]\n",
    "            self.ecg_mat = (self.ecg_mat - ecg_min) / (ecg_max - ecg_min)\n",
    "\n",
    "        if return_original_signal is None:\n",
    "            self.return_original_signal = True\n",
    "            if len(self.transforms) == 0 or \\\n",
    "                    (len(self.transforms) == 1 \\\n",
    "                     and Lower(self.transforms[0]) in [\n",
    "                         Lower(\"Identity\"), Lower(\"SelectedAug_20221025\"), Lower(\"SelectedAug_20221029\")]):\n",
    "                self.return_original_signal = False\n",
    "        else:\n",
    "            self.return_original_signal = return_original_signal\n",
    "\n",
    "    def obtain_perturbed_frame(self, frame):\n",
    "        frame = Transform_frame(frame, transforms=self.transforms, dataset_name=self.dataset_name,\n",
    "                                aug_prob=self.aug_prob)\n",
    "        return frame\n",
    "\n",
    "    def __len__(self):\n",
    "        return len(self.feature_df_all_selected_p_ind_with_ecg)\n",
    "\n",
    "    def __getitem__(self, idx):\n",
    "        X = self.ecg_mat[idx, :]\n",
    "        if self.ecg_resampling_length_target != self.ecg_resampling_length:\n",
    "            X = resample_poly(X, self.ecg_resampling_length_target, self.ecg_resampling_length,\n",
    "                              padtype=\"line\")\n",
    "        X = Normalize(X)\n",
    "        X_aug = self.obtain_perturbed_frame(X)\n",
    "        peak_idx = self.peak_label_list[idx]\n",
    "        label = self.label_list[idx]\n",
    "        id_vec = self.short_identifier_mat[idx, :]\n",
    "        peak_features = self.peak_feature_mat[idx, :]\n",
    "\n",
    "        # return X[np.newaxis, :], peak_idx, label, id_vec, peak_features[np.newaxis, :]\n",
    "        if self.return_id_vec:\n",
    "            return X_aug[np.newaxis, :], id_vec, label\n",
    "        else:\n",
    "            if self.return_original_signal:\n",
    "                return (X[np.newaxis, :], X_aug[np.newaxis, :]), label\n",
    "            else:\n",
    "                return X_aug[np.newaxis, :], label"
   ]
  },
  {
   "cell_type": "code",
   "execution_count": null,
   "id": "3c92d579",
   "metadata": {},
   "outputs": [],
   "source": [
    "train_dataset_with_id = ECG_classification_dataset_with_peak_features(feature_with_ecg_df_train_single_lead,\n",
    "                                                                     shift_signal=False,\n",
    "                                                                     shift_amount=0,\n",
    "                                                                     normalize_signal=True,\n",
    "                                                                     ecg_resampling_length_target=300,\n",
    "                                                                     return_id_vec=True)"
   ]
  },
  {
   "cell_type": "code",
   "execution_count": 6,
   "id": "727121ba",
   "metadata": {
    "ExecuteTime": {
     "end_time": "2023-02-09T04:25:38.006096Z",
     "start_time": "2023-02-09T04:25:37.531365Z"
    }
   },
   "outputs": [],
   "source": [
    "val_dataset_with_id = ECG_classification_dataset_with_peak_features(feature_with_ecg_df_val_single_lead,\n",
    "                                                                     shift_signal=False,\n",
    "                                                                     shift_amount=0,\n",
    "                                                                     normalize_signal=True,\n",
    "                                                                     ecg_resampling_length_target=300,\n",
    "                                                                     return_id_vec=True)"
   ]
  },
  {
   "cell_type": "code",
   "execution_count": 7,
   "id": "dd7b2d94",
   "metadata": {
    "ExecuteTime": {
     "end_time": "2023-02-09T04:25:39.527027Z",
     "start_time": "2023-02-09T04:25:38.867790Z"
    }
   },
   "outputs": [],
   "source": [
    "test_dataset_with_id = ECG_classification_dataset_with_peak_features(feature_with_ecg_df_test_single_lead,\n",
    "                                                                     shift_signal=False,\n",
    "                                                                     shift_amount=0,\n",
    "                                                                     normalize_signal=True,\n",
    "                                                                     ecg_resampling_length_target=300,\n",
    "                                                                     return_id_vec=True)"
   ]
  },
  {
   "cell_type": "code",
   "execution_count": 8,
   "id": "6a8e84f5",
   "metadata": {
    "ExecuteTime": {
     "end_time": "2023-02-09T04:26:14.870743Z",
     "start_time": "2023-02-09T04:25:49.398874Z"
    }
   },
   "outputs": [],
   "source": [
    "def Get_dataset_id_dict(dataset):\n",
    "    dataset_id_dict = {}\n",
    "    for i, (x, id_vec, y) in enumerate(dataset):\n",
    "        ECG_signal = x.ravel()\n",
    "        ECG_signal_str = \"_\".join([f\"{ele:.3f}\" for ele in ECG_signal])\n",
    "        id_dict = dict(zip(dataset.short_identifier_list, id_vec))\n",
    "        id_dict[\"label\"] = y\n",
    "        dataset_id_dict[ECG_signal_str] = id_dict\n",
    "    return dataset_id_dict\n",
    "\n",
    "# dataset_id_dict_train = Get_dataset_id_dict(train_dataset_with_id)\n",
    "dataset_id_dict_val = Get_dataset_id_dict(val_dataset_with_id)\n",
    "dataset_id_dict_test = Get_dataset_id_dict(test_dataset_with_id)"
   ]
  },
  {
   "cell_type": "code",
   "execution_count": 9,
   "id": "e0bedf5e",
   "metadata": {
    "ExecuteTime": {
     "end_time": "2023-02-09T04:26:19.225124Z",
     "start_time": "2023-02-09T04:26:18.844115Z"
    }
   },
   "outputs": [],
   "source": [
    "def Lookup_ECG(ECG_signal, dataset_id_dict):\n",
    "    ECG_signal = ECG_signal.ravel()\n",
    "    ECG_signal_str = \"_\".join([f\"{ele:.3f}\" for ele in ECG_signal])\n",
    "    id_dict = dataset_id_dict.get(ECG_signal_str)\n",
    "    return id_dict"
   ]
  },
  {
   "cell_type": "markdown",
   "id": "1af9a032",
   "metadata": {},
   "source": [
    "# Load model"
   ]
  },
  {
   "cell_type": "code",
   "execution_count": 10,
   "id": "295b34c3",
   "metadata": {
    "ExecuteTime": {
     "end_time": "2023-02-09T04:26:24.071158Z",
     "start_time": "2023-02-09T04:26:23.698130Z"
    }
   },
   "outputs": [],
   "source": [
    "from torch.utils.data import DataLoader\n",
    "from src.methods.supervised_1d import SupervisedModel_1D\n",
    "from src.models.CLOCS_1D import cnn_network_contrastive\n",
    "import torch.nn as nn\n",
    "from pathlib import Path\n",
    "from src.utils.metrics import accuracy_at_k, weighted_mean, AUROC\n",
    "from src.utils.ECG_data_loading import *\n",
    "import time"
   ]
  },
  {
   "cell_type": "code",
   "execution_count": 23,
   "id": "9b875a2c",
   "metadata": {
    "ExecuteTime": {
     "end_time": "2023-02-09T05:16:01.281666Z",
     "start_time": "2023-02-09T05:16:00.835859Z"
    }
   },
   "outputs": [],
   "source": [
    "model_dict = {}"
   ]
  },
  {
   "cell_type": "code",
   "execution_count": 24,
   "id": "8c54fd78",
   "metadata": {
    "ExecuteTime": {
     "end_time": "2023-02-09T05:16:05.503374Z",
     "start_time": "2023-02-09T05:16:05.089481Z"
    }
   },
   "outputs": [
    {
     "name": "stdout",
     "output_type": "stream",
     "text": [
      "2 0.1 0.1 0.1 1 256 CLOCS \n",
      "Using kernel size: 7\n",
      "c1, c2, k, s, c3, c4, c4_multiplier, embedding_dim: (1, 4, 7, 2, 16, 32, 3, 256)\n",
      "ckpt_path: trained_models\\linear\\cqpywv9j\\supervised-clocsCNN_1D-ECG_normalized-20221202_v30-maxep200-early_stopping_patience40-mixup-label_smoothing-aug_selected_20221029_prob0__2-cqpywv9j-epoch=21-val_auroc=0.9505.ckpt\n"
     ]
    },
    {
     "name": "stderr",
     "output_type": "stream",
     "text": [
      "C:\\ProgramData\\Anaconda3\\envs\\apy3.10\\lib\\site-packages\\torchmetrics\\utilities\\prints.py:36: UserWarning: Metric `AUROC` will save all targets and predictions in buffer. For large datasets this may lead to large memory footprint.\n",
      "  warnings.warn(*args, **kwargs)\n"
     ]
    }
   ],
   "source": [
    "model_ID = \"cqpywv9j\"\n",
    "model_key = \"ClocsCNN_0\"\n",
    "\n",
    "embedding_dim = 256\n",
    "model = cnn_network_contrastive(zero_init_residual=None, embedding_dim=embedding_dim,\n",
    "                   stride=2, c4_multiplier=3)\n",
    "model.fc = nn.Identity()\n",
    "ckpt_dir = Path(f\"trained_models/linear/{model_ID}\") # test_auroc = 0.9631\n",
    "max_val_auroc = max([float(ele.split(\"=\")[-1].replace(\".ckpt\", \"\")) \\\n",
    "                     for ele in os.listdir(ckpt_dir) if \"=\" in ele and \"val_auroc\" in ele])\n",
    "ckpt_path = [ckpt_dir / ckpt for ckpt in os.listdir(ckpt_dir) if ckpt.endswith(f\"val_auroc={max_val_auroc}.ckpt\")][0]\n",
    "args_path = ckpt_dir / \"args.json\"\n",
    "print(f\"ckpt_path: {ckpt_path}\")\n",
    "with open(args_path) as f:\n",
    "    method_args = json.load(f)\n",
    "model.pretrained_occlusion_model_dict = None\n",
    "method_args[\"backbone\"] = model\n",
    "model_loaded = SupervisedModel_1D.load_from_checkpoint(\n",
    "    ckpt_path, strict=False, **method_args\n",
    ")\n",
    "model_dict[model_key] = model_loaded"
   ]
  },
  {
   "cell_type": "code",
   "execution_count": 25,
   "id": "608abe9a",
   "metadata": {
    "ExecuteTime": {
     "end_time": "2023-02-09T05:16:09.692169Z",
     "start_time": "2023-02-09T05:16:09.310192Z"
    }
   },
   "outputs": [
    {
     "name": "stdout",
     "output_type": "stream",
     "text": [
      "2 0.1 0.1 0.1 1 256 CLOCS \n",
      "Using kernel size: 7\n",
      "c1, c2, k, s, c3, c4, c4_multiplier, embedding_dim: (1, 4, 7, 2, 16, 32, 3, 256)\n",
      "ckpt_path: trained_models\\linear\\g09je3xq\\supervised-clocsCNN_1D-ECG_normalized-20221202_v30-maxep200-early_stopping_patience40-mixup-label_smoothing-aug_selected_20221029_prob0__2-g09je3xq-epoch=04-val_auroc=0.9502.ckpt\n"
     ]
    },
    {
     "name": "stderr",
     "output_type": "stream",
     "text": [
      "C:\\ProgramData\\Anaconda3\\envs\\apy3.10\\lib\\site-packages\\torchmetrics\\utilities\\prints.py:36: UserWarning: Metric `AUROC` will save all targets and predictions in buffer. For large datasets this may lead to large memory footprint.\n",
      "  warnings.warn(*args, **kwargs)\n"
     ]
    }
   ],
   "source": [
    "model_ID = \"g09je3xq\"\n",
    "model_key = \"ClocsCNN_1\"\n",
    "\n",
    "embedding_dim = 256\n",
    "model = cnn_network_contrastive(zero_init_residual=None, embedding_dim=embedding_dim,\n",
    "                   stride=2, c4_multiplier=3)\n",
    "model.fc = nn.Identity()\n",
    "ckpt_dir = Path(f\"trained_models/linear/{model_ID}\") # test_auroc = 0.9631\n",
    "max_val_auroc = max([float(ele.split(\"=\")[-1].replace(\".ckpt\", \"\")) \\\n",
    "                     for ele in os.listdir(ckpt_dir) if \"=\" in ele and \"val_auroc\" in ele])\n",
    "ckpt_path = [ckpt_dir / ckpt for ckpt in os.listdir(ckpt_dir) if ckpt.endswith(f\"val_auroc={max_val_auroc}.ckpt\")][0]\n",
    "args_path = ckpt_dir / \"args.json\"\n",
    "print(f\"ckpt_path: {ckpt_path}\")\n",
    "with open(args_path) as f:\n",
    "    method_args = json.load(f)\n",
    "model.pretrained_occlusion_model_dict = None\n",
    "method_args[\"backbone\"] = model\n",
    "model_loaded = SupervisedModel_1D.load_from_checkpoint(\n",
    "    ckpt_path, strict=False, **method_args\n",
    ")\n",
    "model_dict[model_key] = model_loaded"
   ]
  },
  {
   "cell_type": "code",
   "execution_count": 26,
   "id": "8c640638",
   "metadata": {
    "ExecuteTime": {
     "end_time": "2023-02-09T05:16:13.725382Z",
     "start_time": "2023-02-09T05:16:13.341409Z"
    }
   },
   "outputs": [
    {
     "name": "stdout",
     "output_type": "stream",
     "text": [
      "2 0.1 0.1 0.1 1 256 CLOCS \n",
      "Using kernel size: 7\n",
      "c1, c2, k, s, c3, c4, c4_multiplier, embedding_dim: (1, 4, 7, 2, 16, 32, 3, 256)\n",
      "ckpt_path: trained_models\\linear\\s6qzuo6i\\supervised-clocsCNN_1D-ECG_normalized-20221202_v30-maxep200-early_stopping_patience40-mixup-label_smoothing-aug_selected_20221029_prob0__2-s6qzuo6i-epoch=162-val_auroc=0.9495.ckpt\n"
     ]
    },
    {
     "name": "stderr",
     "output_type": "stream",
     "text": [
      "C:\\ProgramData\\Anaconda3\\envs\\apy3.10\\lib\\site-packages\\torchmetrics\\utilities\\prints.py:36: UserWarning: Metric `AUROC` will save all targets and predictions in buffer. For large datasets this may lead to large memory footprint.\n",
      "  warnings.warn(*args, **kwargs)\n"
     ]
    }
   ],
   "source": [
    "model_ID = \"s6qzuo6i\"\n",
    "model_key = \"ClocsCNN_2\"\n",
    "\n",
    "embedding_dim = 256\n",
    "model = cnn_network_contrastive(zero_init_residual=None, embedding_dim=embedding_dim,\n",
    "                   stride=2, c4_multiplier=3)\n",
    "model.fc = nn.Identity()\n",
    "ckpt_dir = Path(f\"trained_models/linear/{model_ID}\") # test_auroc = 0.9631\n",
    "max_val_auroc = max([float(ele.split(\"=\")[-1].replace(\".ckpt\", \"\")) \\\n",
    "                     for ele in os.listdir(ckpt_dir) if \"=\" in ele and \"val_auroc\" in ele])\n",
    "ckpt_path = [ckpt_dir / ckpt for ckpt in os.listdir(ckpt_dir) if ckpt.endswith(f\"val_auroc={max_val_auroc}.ckpt\")][0]\n",
    "args_path = ckpt_dir / \"args.json\"\n",
    "print(f\"ckpt_path: {ckpt_path}\")\n",
    "with open(args_path) as f:\n",
    "    method_args = json.load(f)\n",
    "model.pretrained_occlusion_model_dict = None\n",
    "method_args[\"backbone\"] = model\n",
    "model_loaded = SupervisedModel_1D.load_from_checkpoint(\n",
    "    ckpt_path, strict=False, **method_args\n",
    ")\n",
    "model_dict[model_key] = model_loaded"
   ]
  },
  {
   "cell_type": "code",
   "execution_count": 27,
   "id": "ae4f91f2",
   "metadata": {
    "ExecuteTime": {
     "end_time": "2023-02-09T05:16:17.747888Z",
     "start_time": "2023-02-09T05:16:17.379849Z"
    }
   },
   "outputs": [
    {
     "data": {
      "text/plain": [
       "dict_keys(['ClocsCNN_0', 'ClocsCNN_1', 'ClocsCNN_2'])"
      ]
     },
     "execution_count": 27,
     "metadata": {},
     "output_type": "execute_result"
    }
   ],
   "source": [
    "model_dict.keys()"
   ]
  },
  {
   "cell_type": "markdown",
   "id": "e2aab760",
   "metadata": {},
   "source": [
    "# Get softmax scores from models"
   ]
  },
  {
   "cell_type": "code",
   "execution_count": 28,
   "id": "17001e55",
   "metadata": {
    "ExecuteTime": {
     "end_time": "2023-02-09T05:16:50.522915Z",
     "start_time": "2023-02-09T05:16:50.153903Z"
    }
   },
   "outputs": [],
   "source": [
    "from sklearn import metrics\n",
    "from sklearn.metrics import classification_report, roc_auc_score, roc_curve"
   ]
  },
  {
   "cell_type": "code",
   "execution_count": 33,
   "id": "5d478860",
   "metadata": {
    "ExecuteTime": {
     "end_time": "2023-02-09T06:24:48.005797Z",
     "start_time": "2023-02-09T06:24:47.162054Z"
    }
   },
   "outputs": [],
   "source": [
    "def Get_roc_curve_df_from_model_and_data_loader(model, data_loader, target_fpr=0.1, target_threshold=None):\n",
    "#     data_loader = test_loader\n",
    "\n",
    "    X_all_list = []\n",
    "    X_embedding_all_list = []\n",
    "    y_true_all_list = []\n",
    "    X_logits_all_list = []\n",
    "    scores_all_list = []\n",
    "\n",
    "    device = torch.device(\"cuda\" if torch.cuda.is_available() else \"cpu\")\n",
    "    model = model.to(device)\n",
    "    model.eval()\n",
    "    auroc = AUROC(pos_label=1)\n",
    "    softmax = torch.nn.Softmax(dim=1)\n",
    "\n",
    "    for i, data in enumerate(data_loader):\n",
    "#         print(f\"Batch {i} / {len(data_loader)}\")\n",
    "        X, y = data\n",
    "        X, y = X.to(device), y.to(device)\n",
    "        X_all_list.append(X)\n",
    "        X_embedding = model.backbone(X)\n",
    "        X_logits = model.classifier(X_embedding)\n",
    "    #     print(X_embedding.shape, y.shape)\n",
    "    #     print(y)\n",
    "    #     print(X_logits)\n",
    "        X_embedding_all_list.append(X_embedding)\n",
    "        y_true_all_list.append(y)\n",
    "        X_logits_all_list.append(X_logits)\n",
    "\n",
    "        scores = softmax(X_logits)[:, 1].detach().cpu()\n",
    "        scores_all_list.append(scores)\n",
    "        auroc.update(scores, y.detach().cpu())\n",
    "    #     break\n",
    "\n",
    "    auroc_value = auroc.compute()\n",
    "    auroc.reset()\n",
    "    print(f\"auroc_value = {auroc_value:.4f}\")\n",
    "    X_all = torch.cat(X_all_list, dim=0)\n",
    "    y_true_all = torch.cat(y_true_all_list, dim=0)\n",
    "    scores_all = torch.cat(scores_all_list, dim=0)\n",
    "    X_embedding_all = torch.cat(X_embedding_all_list, dim=0)\n",
    "    X_embedding_all_np = X_embedding_all.detach().numpy()\n",
    "    y_true_all_np = y_true_all.detach().numpy()\n",
    "    scores_all_np = scores_all.detach().numpy()\n",
    "#     X_all.shape, y_true_all.shape, scores_all.shape, X_embedding_all.shape\n",
    "\n",
    "    y_scores = scores_all\n",
    "    y_true = y_true_all_np\n",
    "    \n",
    "#     auroc = roc_auc_score(y_true, y_scores, average=\"weighted\")\n",
    "    auroc = auroc_value\n",
    "    fpr, tpr, thresholds = roc_curve(y_true, y_scores, pos_label=1)\n",
    "    roc_curve_df = pd.DataFrame([fpr, tpr, thresholds]).T\n",
    "    roc_curve_df.columns=[\"fpr\", \"tpr\", \"thresholds\"]\n",
    "    if target_threshold is not None:\n",
    "        closest_threshold_idx = np.argsort(np.abs(roc_curve_df[\"thresholds\"] - target_threshold))[0]\n",
    "    else:\n",
    "        closest_threshold_idx = np.argsort(np.abs(roc_curve_df[\"fpr\"] - target_fpr))[0]\n",
    "    selected_threshold = roc_curve_df[\"thresholds\"][closest_threshold_idx]\n",
    "    selected_fpr = roc_curve_df[\"fpr\"][closest_threshold_idx]\n",
    "    roc_curve_results_dict = {\"roc_curve_df\": roc_curve_df, \"selected_threshold\": selected_threshold, \"selected_fpr\": selected_fpr, \"auroc\": auroc, \"y_scores\": y_scores, \"y_true\": y_true}\n",
    "    return roc_curve_results_dict"
   ]
  },
  {
   "cell_type": "markdown",
   "id": "604adf78",
   "metadata": {},
   "source": [
    "## Train an ensemble model using val data"
   ]
  },
  {
   "cell_type": "code",
   "execution_count": 120,
   "id": "cd198589",
   "metadata": {
    "ExecuteTime": {
     "end_time": "2023-02-09T16:29:51.783031Z",
     "start_time": "2023-02-09T16:29:51.078214Z"
    }
   },
   "outputs": [],
   "source": [
    "dataset_dict = {\n",
    "    \"dev\": None,\n",
    "    \"val\": val_dataset,\n",
    "    \"test\": test_dataset\n",
    "}"
   ]
  },
  {
   "cell_type": "code",
   "execution_count": 121,
   "id": "6ff46c14",
   "metadata": {
    "ExecuteTime": {
     "end_time": "2023-02-09T16:30:45.214566Z",
     "start_time": "2023-02-09T16:30:44.801627Z"
    }
   },
   "outputs": [],
   "source": [
    "dataset_id_dict_dict = {\n",
    "    \"dev\": None,\n",
    "    \"val\": dataset_id_dict_val,\n",
    "    \"test\": dataset_id_dict_test\n",
    "}"
   ]
  },
  {
   "cell_type": "code",
   "execution_count": 31,
   "id": "e4847ac7",
   "metadata": {
    "ExecuteTime": {
     "end_time": "2023-02-09T05:19:30.074384Z",
     "start_time": "2023-02-09T05:19:29.696273Z"
    }
   },
   "outputs": [],
   "source": [
    "data_loader_dict = {\n",
    "    \"dev\": None,\n",
    "    \"val\": val_loader,\n",
    "    \"test\": test_loader\n",
    "}\n",
    "roc_curve_results_dict_dict_dict = {\"dev\": {}, \"val\": {}, \"test\": {}}"
   ]
  },
  {
   "cell_type": "code",
   "execution_count": 98,
   "id": "110e1f9c",
   "metadata": {
    "ExecuteTime": {
     "end_time": "2023-02-09T14:46:41.438057Z",
     "start_time": "2023-02-09T14:46:03.113236Z"
    }
   },
   "outputs": [
    {
     "name": "stderr",
     "output_type": "stream",
     "text": [
      "C:\\ProgramData\\Anaconda3\\envs\\apy3.10\\lib\\site-packages\\torchmetrics\\utilities\\prints.py:36: UserWarning: Metric `AUROC` will save all targets and predictions in buffer. For large datasets this may lead to large memory footprint.\n",
      "  warnings.warn(*args, **kwargs)\n"
     ]
    },
    {
     "name": "stdout",
     "output_type": "stream",
     "text": [
      "auroc_value = 0.9505\n"
     ]
    },
    {
     "name": "stderr",
     "output_type": "stream",
     "text": [
      "C:\\ProgramData\\Anaconda3\\envs\\apy3.10\\lib\\site-packages\\torchmetrics\\utilities\\prints.py:36: UserWarning: Metric `AUROC` will save all targets and predictions in buffer. For large datasets this may lead to large memory footprint.\n",
      "  warnings.warn(*args, **kwargs)\n"
     ]
    },
    {
     "name": "stdout",
     "output_type": "stream",
     "text": [
      "auroc_value = 0.9502\n"
     ]
    },
    {
     "name": "stderr",
     "output_type": "stream",
     "text": [
      "C:\\ProgramData\\Anaconda3\\envs\\apy3.10\\lib\\site-packages\\torchmetrics\\utilities\\prints.py:36: UserWarning: Metric `AUROC` will save all targets and predictions in buffer. For large datasets this may lead to large memory footprint.\n",
      "  warnings.warn(*args, **kwargs)\n"
     ]
    },
    {
     "name": "stdout",
     "output_type": "stream",
     "text": [
      "auroc_value = 0.9495\n"
     ]
    }
   ],
   "source": [
    "target_fpr = 0.05\n",
    "mode = \"val\"\n",
    "for model_key in model_dict:\n",
    "    roc_curve_results_dict_dict_dict[mode][model_key] = Get_roc_curve_df_from_model_and_data_loader(\n",
    "        model_dict[model_key], data_loader_dict[mode], target_fpr=target_fpr, target_threshold=None)"
   ]
  },
  {
   "cell_type": "code",
   "execution_count": 88,
   "id": "5956e100",
   "metadata": {
    "ExecuteTime": {
     "end_time": "2023-02-09T14:37:20.510356Z",
     "start_time": "2023-02-09T14:36:02.247291Z"
    }
   },
   "outputs": [
    {
     "name": "stderr",
     "output_type": "stream",
     "text": [
      "C:\\ProgramData\\Anaconda3\\envs\\apy3.10\\lib\\site-packages\\torchmetrics\\utilities\\prints.py:36: UserWarning: Metric `AUROC` will save all targets and predictions in buffer. For large datasets this may lead to large memory footprint.\n",
      "  warnings.warn(*args, **kwargs)\n"
     ]
    },
    {
     "name": "stdout",
     "output_type": "stream",
     "text": [
      "auroc_value = 0.9395\n"
     ]
    },
    {
     "name": "stderr",
     "output_type": "stream",
     "text": [
      "C:\\ProgramData\\Anaconda3\\envs\\apy3.10\\lib\\site-packages\\torchmetrics\\utilities\\prints.py:36: UserWarning: Metric `AUROC` will save all targets and predictions in buffer. For large datasets this may lead to large memory footprint.\n",
      "  warnings.warn(*args, **kwargs)\n"
     ]
    },
    {
     "name": "stdout",
     "output_type": "stream",
     "text": [
      "auroc_value = 0.9519\n"
     ]
    },
    {
     "name": "stderr",
     "output_type": "stream",
     "text": [
      "C:\\ProgramData\\Anaconda3\\envs\\apy3.10\\lib\\site-packages\\torchmetrics\\utilities\\prints.py:36: UserWarning: Metric `AUROC` will save all targets and predictions in buffer. For large datasets this may lead to large memory footprint.\n",
      "  warnings.warn(*args, **kwargs)\n"
     ]
    },
    {
     "name": "stdout",
     "output_type": "stream",
     "text": [
      "auroc_value = 0.9506\n"
     ]
    }
   ],
   "source": [
    "target_fpr = 0.05\n",
    "mode = \"test\"\n",
    "for model_key in model_dict:\n",
    "    roc_curve_results_dict_dict_dict[mode][model_key] = Get_roc_curve_df_from_model_and_data_loader(\n",
    "        model_dict[model_key], data_loader_dict[mode], target_fpr=target_fpr, target_threshold=None)"
   ]
  },
  {
   "cell_type": "markdown",
   "id": "eb514b0b",
   "metadata": {},
   "source": [
    "### Simple average"
   ]
  },
  {
   "cell_type": "code",
   "execution_count": 106,
   "id": "d82b5af0",
   "metadata": {
    "ExecuteTime": {
     "end_time": "2023-02-09T14:49:54.446433Z",
     "start_time": "2023-02-09T14:49:54.050494Z"
    }
   },
   "outputs": [
    {
     "name": "stdout",
     "output_type": "stream",
     "text": [
      "<class 'torch.Tensor'>\n",
      "[0.22374928 0.27148932 0.24138899 ... 0.27909753 0.2880153  0.2674887 ]\n",
      "<class 'torch.Tensor'>\n",
      "[0.18680769 0.24083598 0.25396523 ... 0.2737158  0.27627054 0.29468516]\n",
      "<class 'torch.Tensor'>\n",
      "[0.2279379  0.3139756  0.3716897  ... 0.2673601  0.27057743 0.2856751 ]\n"
     ]
    },
    {
     "data": {
      "text/plain": [
       "array([0.21283163, 0.27543363, 0.28901464, ..., 0.27339114, 0.27828776,\n",
       "       0.28261632])"
      ]
     },
     "execution_count": 106,
     "metadata": {},
     "output_type": "execute_result"
    }
   ],
   "source": [
    "mode = \"val\"\n",
    "\n",
    "y_score_df_dict = {}\n",
    "y_true = roc_curve_results_dict_dict_dict[mode][list(model_dict.keys())[0]][\"y_true\"]\n",
    "y_score_total = np.zeros_like(y_true)\n",
    "counter = 0\n",
    "for model_key in model_dict:\n",
    "    y_score_df_dict[f\"{model_key}_scores\"] = roc_curve_results_dict_dict_dict[mode][model_key][\"y_scores\"]\n",
    "    print(type(y_score_df_dict[f\"{model_key}_scores\"]))\n",
    "    print(y_score_df_dict[f\"{model_key}_scores\"].numpy())\n",
    "    y_score_total = y_score_total + y_score_df_dict[f\"{model_key}_scores\"].numpy()\n",
    "    counter += 1\n",
    "    \n",
    "y_proba_1 = y_score_total / counter\n",
    "y_proba_1"
   ]
  },
  {
   "cell_type": "code",
   "execution_count": 107,
   "id": "5df1ecd5",
   "metadata": {
    "ExecuteTime": {
     "end_time": "2023-02-09T14:49:59.006236Z",
     "start_time": "2023-02-09T14:49:58.593341Z"
    }
   },
   "outputs": [
    {
     "name": "stdout",
     "output_type": "stream",
     "text": [
      "auroc_value = 0.9521\n"
     ]
    },
    {
     "name": "stderr",
     "output_type": "stream",
     "text": [
      "C:\\ProgramData\\Anaconda3\\envs\\apy3.10\\lib\\site-packages\\torchmetrics\\utilities\\prints.py:36: UserWarning: Metric `AUROC` will save all targets and predictions in buffer. For large datasets this may lead to large memory footprint.\n",
      "  warnings.warn(*args, **kwargs)\n"
     ]
    }
   ],
   "source": [
    "auroc = AUROC(pos_label=1)\n",
    "auroc.update(torch.from_numpy(y_proba_1), torch.from_numpy(y_true))\n",
    "auroc_value = auroc.compute()\n",
    "auroc.reset()\n",
    "print(f\"auroc_value = {auroc_value:.4f}\")"
   ]
  },
  {
   "cell_type": "markdown",
   "id": "14eb3f4e",
   "metadata": {},
   "source": [
    "#### Test"
   ]
  },
  {
   "cell_type": "code",
   "execution_count": 108,
   "id": "37d01611",
   "metadata": {
    "ExecuteTime": {
     "end_time": "2023-02-09T14:50:14.473423Z",
     "start_time": "2023-02-09T14:50:14.080474Z"
    }
   },
   "outputs": [
    {
     "name": "stdout",
     "output_type": "stream",
     "text": [
      "<class 'torch.Tensor'>\n",
      "[0.342102   0.34332302 0.27164108 ... 0.3626734  0.34408337 0.34302092]\n",
      "<class 'torch.Tensor'>\n",
      "[0.21445027 0.2545019  0.22234322 ... 0.37312233 0.36723548 0.3451588 ]\n",
      "<class 'torch.Tensor'>\n",
      "[0.2426524  0.24578778 0.29382905 ... 0.36814204 0.36421382 0.35668382]\n"
     ]
    },
    {
     "data": {
      "text/plain": [
       "array([0.26640155, 0.28120424, 0.26260445, ..., 0.36797926, 0.35851089,\n",
       "       0.34828784])"
      ]
     },
     "execution_count": 108,
     "metadata": {},
     "output_type": "execute_result"
    }
   ],
   "source": [
    "mode = \"test\"\n",
    "\n",
    "y_score_df_dict = {}\n",
    "y_true = roc_curve_results_dict_dict_dict[mode][list(model_dict.keys())[0]][\"y_true\"]\n",
    "y_score_total = np.zeros_like(y_true)\n",
    "counter = 0\n",
    "for model_key in model_dict:\n",
    "    y_score_df_dict[f\"{model_key}_scores\"] = roc_curve_results_dict_dict_dict[mode][model_key][\"y_scores\"]\n",
    "    print(type(y_score_df_dict[f\"{model_key}_scores\"]))\n",
    "    print(y_score_df_dict[f\"{model_key}_scores\"].numpy())\n",
    "    y_score_total = y_score_total + y_score_df_dict[f\"{model_key}_scores\"].numpy()\n",
    "    counter += 1\n",
    "    \n",
    "y_proba_1 = y_score_total / counter\n",
    "y_proba_1"
   ]
  },
  {
   "cell_type": "code",
   "execution_count": 109,
   "id": "19d53054",
   "metadata": {
    "ExecuteTime": {
     "end_time": "2023-02-09T14:50:19.682370Z",
     "start_time": "2023-02-09T14:50:19.280444Z"
    }
   },
   "outputs": [
    {
     "name": "stdout",
     "output_type": "stream",
     "text": [
      "auroc_value = 0.9522\n"
     ]
    },
    {
     "name": "stderr",
     "output_type": "stream",
     "text": [
      "C:\\ProgramData\\Anaconda3\\envs\\apy3.10\\lib\\site-packages\\torchmetrics\\utilities\\prints.py:36: UserWarning: Metric `AUROC` will save all targets and predictions in buffer. For large datasets this may lead to large memory footprint.\n",
      "  warnings.warn(*args, **kwargs)\n"
     ]
    }
   ],
   "source": [
    "auroc = AUROC(pos_label=1)\n",
    "auroc.update(torch.from_numpy(y_proba_1), torch.from_numpy(y_true))\n",
    "auroc_value = auroc.compute()\n",
    "auroc.reset()\n",
    "print(f\"auroc_value = {auroc_value:.4f}\")"
   ]
  },
  {
   "cell_type": "code",
   "execution_count": 111,
   "id": "4d5596b9",
   "metadata": {
    "ExecuteTime": {
     "end_time": "2023-02-09T14:52:00.387678Z",
     "start_time": "2023-02-09T14:51:59.666607Z"
    }
   },
   "outputs": [
    {
     "data": {
      "text/html": [
       "<div>\n",
       "<style scoped>\n",
       "    .dataframe tbody tr th:only-of-type {\n",
       "        vertical-align: middle;\n",
       "    }\n",
       "\n",
       "    .dataframe tbody tr th {\n",
       "        vertical-align: top;\n",
       "    }\n",
       "\n",
       "    .dataframe thead th {\n",
       "        text-align: right;\n",
       "    }\n",
       "</style>\n",
       "<table border=\"1\" class=\"dataframe\">\n",
       "  <thead>\n",
       "    <tr style=\"text-align: right;\">\n",
       "      <th></th>\n",
       "      <th>fpr</th>\n",
       "      <th>tpr</th>\n",
       "      <th>thresholds</th>\n",
       "    </tr>\n",
       "  </thead>\n",
       "  <tbody>\n",
       "    <tr>\n",
       "      <th>0</th>\n",
       "      <td>0.000000</td>\n",
       "      <td>0.000000</td>\n",
       "      <td>1.875452</td>\n",
       "    </tr>\n",
       "    <tr>\n",
       "      <th>1</th>\n",
       "      <td>0.000000</td>\n",
       "      <td>0.000022</td>\n",
       "      <td>0.875452</td>\n",
       "    </tr>\n",
       "    <tr>\n",
       "      <th>2</th>\n",
       "      <td>0.000000</td>\n",
       "      <td>0.022129</td>\n",
       "      <td>0.793947</td>\n",
       "    </tr>\n",
       "    <tr>\n",
       "      <th>3</th>\n",
       "      <td>0.000015</td>\n",
       "      <td>0.022129</td>\n",
       "      <td>0.793917</td>\n",
       "    </tr>\n",
       "    <tr>\n",
       "      <th>4</th>\n",
       "      <td>0.000015</td>\n",
       "      <td>0.032364</td>\n",
       "      <td>0.780484</td>\n",
       "    </tr>\n",
       "    <tr>\n",
       "      <th>...</th>\n",
       "      <td>...</td>\n",
       "      <td>...</td>\n",
       "      <td>...</td>\n",
       "    </tr>\n",
       "    <tr>\n",
       "      <th>16248</th>\n",
       "      <td>0.959921</td>\n",
       "      <td>0.999978</td>\n",
       "      <td>0.066508</td>\n",
       "    </tr>\n",
       "    <tr>\n",
       "      <th>16249</th>\n",
       "      <td>0.959921</td>\n",
       "      <td>1.000000</td>\n",
       "      <td>0.066507</td>\n",
       "    </tr>\n",
       "    <tr>\n",
       "      <th>16250</th>\n",
       "      <td>0.964018</td>\n",
       "      <td>1.000000</td>\n",
       "      <td>0.065718</td>\n",
       "    </tr>\n",
       "    <tr>\n",
       "      <th>16251</th>\n",
       "      <td>0.964047</td>\n",
       "      <td>1.000000</td>\n",
       "      <td>0.065716</td>\n",
       "    </tr>\n",
       "    <tr>\n",
       "      <th>16252</th>\n",
       "      <td>1.000000</td>\n",
       "      <td>1.000000</td>\n",
       "      <td>0.027450</td>\n",
       "    </tr>\n",
       "  </tbody>\n",
       "</table>\n",
       "<p>16253 rows × 3 columns</p>\n",
       "</div>"
      ],
      "text/plain": [
       "            fpr       tpr  thresholds\n",
       "0      0.000000  0.000000    1.875452\n",
       "1      0.000000  0.000022    0.875452\n",
       "2      0.000000  0.022129    0.793947\n",
       "3      0.000015  0.022129    0.793917\n",
       "4      0.000015  0.032364    0.780484\n",
       "...         ...       ...         ...\n",
       "16248  0.959921  0.999978    0.066508\n",
       "16249  0.959921  1.000000    0.066507\n",
       "16250  0.964018  1.000000    0.065718\n",
       "16251  0.964047  1.000000    0.065716\n",
       "16252  1.000000  1.000000    0.027450\n",
       "\n",
       "[16253 rows x 3 columns]"
      ]
     },
     "execution_count": 111,
     "metadata": {},
     "output_type": "execute_result"
    }
   ],
   "source": [
    "fpr, tpr, thresholds = roc_curve(y_true, y_proba_1, pos_label=1)\n",
    "roc_curve_df = pd.DataFrame([fpr, tpr, thresholds]).T\n",
    "roc_curve_df.columns=[\"fpr\", \"tpr\", \"thresholds\"]\n",
    "roc_curve_df"
   ]
  },
  {
   "cell_type": "code",
   "execution_count": 114,
   "id": "d0c8fdc3",
   "metadata": {
    "ExecuteTime": {
     "end_time": "2023-02-09T14:52:16.831583Z",
     "start_time": "2023-02-09T14:52:16.440631Z"
    }
   },
   "outputs": [
    {
     "data": {
      "text/plain": [
       "0.8513353366308355"
      ]
     },
     "execution_count": 114,
     "metadata": {},
     "output_type": "execute_result"
    }
   ],
   "source": [
    "target_fpr = 0.05\n",
    "# target_fpr = 0.10\n",
    "resulting_tpr = roc_curve_df.query(f\"abs(fpr - {target_fpr}) < 0.0001\")[\"tpr\"].mean()\n",
    "resulting_tpr"
   ]
  },
  {
   "cell_type": "markdown",
   "id": "23c4c853",
   "metadata": {},
   "source": [
    "### Learn an logistic regression"
   ]
  },
  {
   "cell_type": "markdown",
   "id": "98d47a02",
   "metadata": {},
   "source": [
    "#### Get ID dict"
   ]
  },
  {
   "cell_type": "code",
   "execution_count": 124,
   "id": "0ae4bf88",
   "metadata": {
    "ExecuteTime": {
     "end_time": "2023-02-09T16:32:04.603746Z",
     "start_time": "2023-02-09T16:32:04.205785Z"
    }
   },
   "outputs": [
    {
     "data": {
      "text/html": [
       "<div>\n",
       "<style scoped>\n",
       "    .dataframe tbody tr th:only-of-type {\n",
       "        vertical-align: middle;\n",
       "    }\n",
       "\n",
       "    .dataframe tbody tr th {\n",
       "        vertical-align: top;\n",
       "    }\n",
       "\n",
       "    .dataframe thead th {\n",
       "        text-align: right;\n",
       "    }\n",
       "</style>\n",
       "<table border=\"1\" class=\"dataframe\">\n",
       "  <thead>\n",
       "    <tr style=\"text-align: right;\">\n",
       "      <th></th>\n",
       "      <th>patient_ID</th>\n",
       "      <th>interval_ID</th>\n",
       "      <th>block_ID</th>\n",
       "      <th>channel_ID</th>\n",
       "      <th>r_ID_abs</th>\n",
       "      <th>label</th>\n",
       "      <th>r_ID_abs_ref</th>\n",
       "    </tr>\n",
       "  </thead>\n",
       "  <tbody>\n",
       "    <tr>\n",
       "      <th>0</th>\n",
       "      <td>387479</td>\n",
       "      <td>8749321</td>\n",
       "      <td>1</td>\n",
       "      <td>2</td>\n",
       "      <td>1310</td>\n",
       "      <td>1</td>\n",
       "      <td>1310</td>\n",
       "    </tr>\n",
       "    <tr>\n",
       "      <th>1</th>\n",
       "      <td>387479</td>\n",
       "      <td>8749321</td>\n",
       "      <td>1</td>\n",
       "      <td>2</td>\n",
       "      <td>1446</td>\n",
       "      <td>1</td>\n",
       "      <td>1446</td>\n",
       "    </tr>\n",
       "    <tr>\n",
       "      <th>2</th>\n",
       "      <td>387479</td>\n",
       "      <td>8749321</td>\n",
       "      <td>1</td>\n",
       "      <td>2</td>\n",
       "      <td>1583</td>\n",
       "      <td>1</td>\n",
       "      <td>1583</td>\n",
       "    </tr>\n",
       "    <tr>\n",
       "      <th>3</th>\n",
       "      <td>387479</td>\n",
       "      <td>8749321</td>\n",
       "      <td>1</td>\n",
       "      <td>2</td>\n",
       "      <td>1721</td>\n",
       "      <td>1</td>\n",
       "      <td>1721</td>\n",
       "    </tr>\n",
       "    <tr>\n",
       "      <th>4</th>\n",
       "      <td>387479</td>\n",
       "      <td>8749321</td>\n",
       "      <td>1</td>\n",
       "      <td>2</td>\n",
       "      <td>1856</td>\n",
       "      <td>1</td>\n",
       "      <td>1856</td>\n",
       "    </tr>\n",
       "    <tr>\n",
       "      <th>...</th>\n",
       "      <td>...</td>\n",
       "      <td>...</td>\n",
       "      <td>...</td>\n",
       "      <td>...</td>\n",
       "      <td>...</td>\n",
       "      <td>...</td>\n",
       "      <td>...</td>\n",
       "    </tr>\n",
       "    <tr>\n",
       "      <th>44718</th>\n",
       "      <td>462229</td>\n",
       "      <td>8748919</td>\n",
       "      <td>1</td>\n",
       "      <td>2</td>\n",
       "      <td>979966</td>\n",
       "      <td>0</td>\n",
       "      <td>979966</td>\n",
       "    </tr>\n",
       "    <tr>\n",
       "      <th>44719</th>\n",
       "      <td>462229</td>\n",
       "      <td>8748919</td>\n",
       "      <td>1</td>\n",
       "      <td>2</td>\n",
       "      <td>980139</td>\n",
       "      <td>0</td>\n",
       "      <td>980139</td>\n",
       "    </tr>\n",
       "    <tr>\n",
       "      <th>44720</th>\n",
       "      <td>462229</td>\n",
       "      <td>8748919</td>\n",
       "      <td>1</td>\n",
       "      <td>2</td>\n",
       "      <td>980312</td>\n",
       "      <td>0</td>\n",
       "      <td>980312</td>\n",
       "    </tr>\n",
       "    <tr>\n",
       "      <th>44721</th>\n",
       "      <td>462229</td>\n",
       "      <td>8748919</td>\n",
       "      <td>1</td>\n",
       "      <td>2</td>\n",
       "      <td>980485</td>\n",
       "      <td>0</td>\n",
       "      <td>980485</td>\n",
       "    </tr>\n",
       "    <tr>\n",
       "      <th>44722</th>\n",
       "      <td>462229</td>\n",
       "      <td>8748919</td>\n",
       "      <td>1</td>\n",
       "      <td>2</td>\n",
       "      <td>980662</td>\n",
       "      <td>0</td>\n",
       "      <td>980662</td>\n",
       "    </tr>\n",
       "  </tbody>\n",
       "</table>\n",
       "<p>44723 rows × 7 columns</p>\n",
       "</div>"
      ],
      "text/plain": [
       "       patient_ID  interval_ID  block_ID  channel_ID  r_ID_abs  label  \\\n",
       "0          387479      8749321         1           2      1310      1   \n",
       "1          387479      8749321         1           2      1446      1   \n",
       "2          387479      8749321         1           2      1583      1   \n",
       "3          387479      8749321         1           2      1721      1   \n",
       "4          387479      8749321         1           2      1856      1   \n",
       "...           ...          ...       ...         ...       ...    ...   \n",
       "44718      462229      8748919         1           2    979966      0   \n",
       "44719      462229      8748919         1           2    980139      0   \n",
       "44720      462229      8748919         1           2    980312      0   \n",
       "44721      462229      8748919         1           2    980485      0   \n",
       "44722      462229      8748919         1           2    980662      0   \n",
       "\n",
       "       r_ID_abs_ref  \n",
       "0              1310  \n",
       "1              1446  \n",
       "2              1583  \n",
       "3              1721  \n",
       "4              1856  \n",
       "...             ...  \n",
       "44718        979966  \n",
       "44719        980139  \n",
       "44720        980312  \n",
       "44721        980485  \n",
       "44722        980662  \n",
       "\n",
       "[44723 rows x 7 columns]"
      ]
     },
     "execution_count": 124,
     "metadata": {},
     "output_type": "execute_result"
    }
   ],
   "source": [
    "mode = \"val\"\n",
    "\n",
    "dataset_plot = dataset_dict[mode]\n",
    "dataset_id_dict = dataset_id_dict_dict[mode]\n",
    "idx_list = np.arange(len(dataset_plot))\n",
    "\n",
    "short_identifier_list = dataset_plot.short_identifier_list\n",
    "error_df_dict = dict.fromkeys(short_identifier_list)\n",
    "for k in error_df_dict:\n",
    "    error_df_dict[k] = []\n",
    "    \n",
    "for i, idx in enumerate(idx_list):\n",
    "    ecg_signal, label = dataset_plot[idx]\n",
    "    id_dict = Lookup_ECG(ecg_signal, dataset_id_dict)\n",
    "    for k, v in id_dict.items():\n",
    "        error_df_dict[k].append(v)\n",
    "        \n",
    "error_df = pd.DataFrame.from_dict(error_df_dict)\n",
    "error_df"
   ]
  },
  {
   "cell_type": "code",
   "execution_count": 125,
   "id": "b1f67194",
   "metadata": {
    "ExecuteTime": {
     "end_time": "2023-02-09T16:32:20.851857Z",
     "start_time": "2023-02-09T16:32:20.434968Z"
    }
   },
   "outputs": [
    {
     "data": {
      "text/plain": [
       "'ClocsCNN_0'"
      ]
     },
     "execution_count": 125,
     "metadata": {},
     "output_type": "execute_result"
    }
   ],
   "source": [
    "list(model_dict.keys())[0]"
   ]
  },
  {
   "cell_type": "code",
   "execution_count": 138,
   "id": "9870add6",
   "metadata": {
    "ExecuteTime": {
     "end_time": "2023-02-09T16:36:44.351586Z",
     "start_time": "2023-02-09T16:36:43.939689Z"
    }
   },
   "outputs": [
    {
     "data": {
      "text/html": [
       "<div>\n",
       "<style scoped>\n",
       "    .dataframe tbody tr th:only-of-type {\n",
       "        vertical-align: middle;\n",
       "    }\n",
       "\n",
       "    .dataframe tbody tr th {\n",
       "        vertical-align: top;\n",
       "    }\n",
       "\n",
       "    .dataframe thead th {\n",
       "        text-align: right;\n",
       "    }\n",
       "</style>\n",
       "<table border=\"1\" class=\"dataframe\">\n",
       "  <thead>\n",
       "    <tr style=\"text-align: right;\">\n",
       "      <th></th>\n",
       "      <th>y_true</th>\n",
       "      <th>ClocsCNN_0_scores</th>\n",
       "      <th>ClocsCNN_1_scores</th>\n",
       "      <th>ClocsCNN_2_scores</th>\n",
       "    </tr>\n",
       "  </thead>\n",
       "  <tbody>\n",
       "    <tr>\n",
       "      <th>0</th>\n",
       "      <td>1</td>\n",
       "      <td>0.223749</td>\n",
       "      <td>0.186808</td>\n",
       "      <td>0.227938</td>\n",
       "    </tr>\n",
       "    <tr>\n",
       "      <th>1</th>\n",
       "      <td>1</td>\n",
       "      <td>0.271489</td>\n",
       "      <td>0.240836</td>\n",
       "      <td>0.313976</td>\n",
       "    </tr>\n",
       "    <tr>\n",
       "      <th>2</th>\n",
       "      <td>1</td>\n",
       "      <td>0.241389</td>\n",
       "      <td>0.253965</td>\n",
       "      <td>0.371690</td>\n",
       "    </tr>\n",
       "    <tr>\n",
       "      <th>3</th>\n",
       "      <td>1</td>\n",
       "      <td>0.242686</td>\n",
       "      <td>0.201420</td>\n",
       "      <td>0.323892</td>\n",
       "    </tr>\n",
       "    <tr>\n",
       "      <th>4</th>\n",
       "      <td>1</td>\n",
       "      <td>0.425792</td>\n",
       "      <td>0.317882</td>\n",
       "      <td>0.285262</td>\n",
       "    </tr>\n",
       "    <tr>\n",
       "      <th>...</th>\n",
       "      <td>...</td>\n",
       "      <td>...</td>\n",
       "      <td>...</td>\n",
       "      <td>...</td>\n",
       "    </tr>\n",
       "    <tr>\n",
       "      <th>44718</th>\n",
       "      <td>0</td>\n",
       "      <td>0.263391</td>\n",
       "      <td>0.275472</td>\n",
       "      <td>0.278898</td>\n",
       "    </tr>\n",
       "    <tr>\n",
       "      <th>44719</th>\n",
       "      <td>0</td>\n",
       "      <td>0.274620</td>\n",
       "      <td>0.273102</td>\n",
       "      <td>0.279030</td>\n",
       "    </tr>\n",
       "    <tr>\n",
       "      <th>44720</th>\n",
       "      <td>0</td>\n",
       "      <td>0.279098</td>\n",
       "      <td>0.273716</td>\n",
       "      <td>0.267360</td>\n",
       "    </tr>\n",
       "    <tr>\n",
       "      <th>44721</th>\n",
       "      <td>0</td>\n",
       "      <td>0.288015</td>\n",
       "      <td>0.276271</td>\n",
       "      <td>0.270577</td>\n",
       "    </tr>\n",
       "    <tr>\n",
       "      <th>44722</th>\n",
       "      <td>0</td>\n",
       "      <td>0.267489</td>\n",
       "      <td>0.294685</td>\n",
       "      <td>0.285675</td>\n",
       "    </tr>\n",
       "  </tbody>\n",
       "</table>\n",
       "<p>44723 rows × 4 columns</p>\n",
       "</div>"
      ],
      "text/plain": [
       "       y_true  ClocsCNN_0_scores  ClocsCNN_1_scores  ClocsCNN_2_scores\n",
       "0           1           0.223749           0.186808           0.227938\n",
       "1           1           0.271489           0.240836           0.313976\n",
       "2           1           0.241389           0.253965           0.371690\n",
       "3           1           0.242686           0.201420           0.323892\n",
       "4           1           0.425792           0.317882           0.285262\n",
       "...       ...                ...                ...                ...\n",
       "44718       0           0.263391           0.275472           0.278898\n",
       "44719       0           0.274620           0.273102           0.279030\n",
       "44720       0           0.279098           0.273716           0.267360\n",
       "44721       0           0.288015           0.276271           0.270577\n",
       "44722       0           0.267489           0.294685           0.285675\n",
       "\n",
       "[44723 rows x 4 columns]"
      ]
     },
     "execution_count": 138,
     "metadata": {},
     "output_type": "execute_result"
    }
   ],
   "source": [
    "mode = \"val\"\n",
    "\n",
    "y_score_df_dict = {}\n",
    "y_true = roc_curve_results_dict_dict_dict[mode][list(model_dict.keys())[0]][\"y_true\"]\n",
    "y_score_df_dict[\"y_true\"] = y_true\n",
    "for model_key in model_dict:\n",
    "    y_score_df_dict[f\"{model_key}_scores\"] = roc_curve_results_dict_dict_dict[mode][model_key][\"y_scores\"]\n",
    "y_score_df = pd.DataFrame.from_dict(y_score_df_dict)\n",
    "y_score_df"
   ]
  },
  {
   "cell_type": "code",
   "execution_count": 127,
   "id": "80f92be8",
   "metadata": {
    "ExecuteTime": {
     "end_time": "2023-02-09T16:32:37.892858Z",
     "start_time": "2023-02-09T16:32:37.448049Z"
    }
   },
   "outputs": [
    {
     "data": {
      "text/plain": [
       "['ClocsCNN_0_scores', 'ClocsCNN_1_scores', 'ClocsCNN_2_scores']"
      ]
     },
     "execution_count": 127,
     "metadata": {},
     "output_type": "execute_result"
    }
   ],
   "source": [
    "feature_name_list = [f\"{ele}_scores\" for ele in list(model_dict.keys())]\n",
    "feature_name_list"
   ]
  },
  {
   "cell_type": "code",
   "execution_count": 128,
   "id": "5d9f78ab",
   "metadata": {
    "ExecuteTime": {
     "end_time": "2023-02-09T16:32:51.432654Z",
     "start_time": "2023-02-09T16:32:51.052671Z"
    }
   },
   "outputs": [
    {
     "data": {
      "text/html": [
       "<div>\n",
       "<style scoped>\n",
       "    .dataframe tbody tr th:only-of-type {\n",
       "        vertical-align: middle;\n",
       "    }\n",
       "\n",
       "    .dataframe tbody tr th {\n",
       "        vertical-align: top;\n",
       "    }\n",
       "\n",
       "    .dataframe thead th {\n",
       "        text-align: right;\n",
       "    }\n",
       "</style>\n",
       "<table border=\"1\" class=\"dataframe\">\n",
       "  <thead>\n",
       "    <tr style=\"text-align: right;\">\n",
       "      <th></th>\n",
       "      <th>ClocsCNN_0_scores</th>\n",
       "      <th>ClocsCNN_1_scores</th>\n",
       "      <th>ClocsCNN_2_scores</th>\n",
       "    </tr>\n",
       "  </thead>\n",
       "  <tbody>\n",
       "    <tr>\n",
       "      <th>0</th>\n",
       "      <td>0.223749</td>\n",
       "      <td>0.186808</td>\n",
       "      <td>0.227938</td>\n",
       "    </tr>\n",
       "    <tr>\n",
       "      <th>1</th>\n",
       "      <td>0.271489</td>\n",
       "      <td>0.240836</td>\n",
       "      <td>0.313976</td>\n",
       "    </tr>\n",
       "    <tr>\n",
       "      <th>2</th>\n",
       "      <td>0.241389</td>\n",
       "      <td>0.253965</td>\n",
       "      <td>0.371690</td>\n",
       "    </tr>\n",
       "    <tr>\n",
       "      <th>3</th>\n",
       "      <td>0.242686</td>\n",
       "      <td>0.201420</td>\n",
       "      <td>0.323892</td>\n",
       "    </tr>\n",
       "    <tr>\n",
       "      <th>4</th>\n",
       "      <td>0.425792</td>\n",
       "      <td>0.317882</td>\n",
       "      <td>0.285262</td>\n",
       "    </tr>\n",
       "    <tr>\n",
       "      <th>...</th>\n",
       "      <td>...</td>\n",
       "      <td>...</td>\n",
       "      <td>...</td>\n",
       "    </tr>\n",
       "    <tr>\n",
       "      <th>44718</th>\n",
       "      <td>0.263391</td>\n",
       "      <td>0.275472</td>\n",
       "      <td>0.278898</td>\n",
       "    </tr>\n",
       "    <tr>\n",
       "      <th>44719</th>\n",
       "      <td>0.274620</td>\n",
       "      <td>0.273102</td>\n",
       "      <td>0.279030</td>\n",
       "    </tr>\n",
       "    <tr>\n",
       "      <th>44720</th>\n",
       "      <td>0.279098</td>\n",
       "      <td>0.273716</td>\n",
       "      <td>0.267360</td>\n",
       "    </tr>\n",
       "    <tr>\n",
       "      <th>44721</th>\n",
       "      <td>0.288015</td>\n",
       "      <td>0.276271</td>\n",
       "      <td>0.270577</td>\n",
       "    </tr>\n",
       "    <tr>\n",
       "      <th>44722</th>\n",
       "      <td>0.267489</td>\n",
       "      <td>0.294685</td>\n",
       "      <td>0.285675</td>\n",
       "    </tr>\n",
       "  </tbody>\n",
       "</table>\n",
       "<p>44723 rows × 3 columns</p>\n",
       "</div>"
      ],
      "text/plain": [
       "       ClocsCNN_0_scores  ClocsCNN_1_scores  ClocsCNN_2_scores\n",
       "0               0.223749           0.186808           0.227938\n",
       "1               0.271489           0.240836           0.313976\n",
       "2               0.241389           0.253965           0.371690\n",
       "3               0.242686           0.201420           0.323892\n",
       "4               0.425792           0.317882           0.285262\n",
       "...                  ...                ...                ...\n",
       "44718           0.263391           0.275472           0.278898\n",
       "44719           0.274620           0.273102           0.279030\n",
       "44720           0.279098           0.273716           0.267360\n",
       "44721           0.288015           0.276271           0.270577\n",
       "44722           0.267489           0.294685           0.285675\n",
       "\n",
       "[44723 rows x 3 columns]"
      ]
     },
     "execution_count": 128,
     "metadata": {},
     "output_type": "execute_result"
    }
   ],
   "source": [
    "X_train = y_score_df[feature_name_list]\n",
    "y_train = y_score_df[\"y_true\"]\n",
    "patient_ID_train = error_df[\"patient_ID\"]\n",
    "X_train"
   ]
  },
  {
   "cell_type": "code",
   "execution_count": 130,
   "id": "e0bb797f",
   "metadata": {
    "ExecuteTime": {
     "end_time": "2023-02-09T16:34:09.195025Z",
     "start_time": "2023-02-09T16:34:08.775150Z"
    }
   },
   "outputs": [],
   "source": [
    "from sklearn.linear_model import LogisticRegression\n",
    "from sklearn.model_selection import LeaveOneGroupOut, GridSearchCV\n"
   ]
  },
  {
   "cell_type": "code",
   "execution_count": 131,
   "id": "861cf408",
   "metadata": {
    "ExecuteTime": {
     "end_time": "2023-02-09T16:34:19.428745Z",
     "start_time": "2023-02-09T16:34:17.447355Z"
    }
   },
   "outputs": [
    {
     "name": "stdout",
     "output_type": "stream",
     "text": [
      "# Tuning hyper-parameters for accuracy\n",
      "\n"
     ]
    },
    {
     "data": {
      "text/html": [
       "<style>#sk-container-id-2 {color: black;background-color: white;}#sk-container-id-2 pre{padding: 0;}#sk-container-id-2 div.sk-toggleable {background-color: white;}#sk-container-id-2 label.sk-toggleable__label {cursor: pointer;display: block;width: 100%;margin-bottom: 0;padding: 0.3em;box-sizing: border-box;text-align: center;}#sk-container-id-2 label.sk-toggleable__label-arrow:before {content: \"▸\";float: left;margin-right: 0.25em;color: #696969;}#sk-container-id-2 label.sk-toggleable__label-arrow:hover:before {color: black;}#sk-container-id-2 div.sk-estimator:hover label.sk-toggleable__label-arrow:before {color: black;}#sk-container-id-2 div.sk-toggleable__content {max-height: 0;max-width: 0;overflow: hidden;text-align: left;background-color: #f0f8ff;}#sk-container-id-2 div.sk-toggleable__content pre {margin: 0.2em;color: black;border-radius: 0.25em;background-color: #f0f8ff;}#sk-container-id-2 input.sk-toggleable__control:checked~div.sk-toggleable__content {max-height: 200px;max-width: 100%;overflow: auto;}#sk-container-id-2 input.sk-toggleable__control:checked~label.sk-toggleable__label-arrow:before {content: \"▾\";}#sk-container-id-2 div.sk-estimator input.sk-toggleable__control:checked~label.sk-toggleable__label {background-color: #d4ebff;}#sk-container-id-2 div.sk-label input.sk-toggleable__control:checked~label.sk-toggleable__label {background-color: #d4ebff;}#sk-container-id-2 input.sk-hidden--visually {border: 0;clip: rect(1px 1px 1px 1px);clip: rect(1px, 1px, 1px, 1px);height: 1px;margin: -1px;overflow: hidden;padding: 0;position: absolute;width: 1px;}#sk-container-id-2 div.sk-estimator {font-family: monospace;background-color: #f0f8ff;border: 1px dotted black;border-radius: 0.25em;box-sizing: border-box;margin-bottom: 0.5em;}#sk-container-id-2 div.sk-estimator:hover {background-color: #d4ebff;}#sk-container-id-2 div.sk-parallel-item::after {content: \"\";width: 100%;border-bottom: 1px solid gray;flex-grow: 1;}#sk-container-id-2 div.sk-label:hover label.sk-toggleable__label {background-color: #d4ebff;}#sk-container-id-2 div.sk-serial::before {content: \"\";position: absolute;border-left: 1px solid gray;box-sizing: border-box;top: 0;bottom: 0;left: 50%;z-index: 0;}#sk-container-id-2 div.sk-serial {display: flex;flex-direction: column;align-items: center;background-color: white;padding-right: 0.2em;padding-left: 0.2em;position: relative;}#sk-container-id-2 div.sk-item {position: relative;z-index: 1;}#sk-container-id-2 div.sk-parallel {display: flex;align-items: stretch;justify-content: center;background-color: white;position: relative;}#sk-container-id-2 div.sk-item::before, #sk-container-id-2 div.sk-parallel-item::before {content: \"\";position: absolute;border-left: 1px solid gray;box-sizing: border-box;top: 0;bottom: 0;left: 50%;z-index: -1;}#sk-container-id-2 div.sk-parallel-item {display: flex;flex-direction: column;z-index: 1;position: relative;background-color: white;}#sk-container-id-2 div.sk-parallel-item:first-child::after {align-self: flex-end;width: 50%;}#sk-container-id-2 div.sk-parallel-item:last-child::after {align-self: flex-start;width: 50%;}#sk-container-id-2 div.sk-parallel-item:only-child::after {width: 0;}#sk-container-id-2 div.sk-dashed-wrapped {border: 1px dashed gray;margin: 0 0.4em 0.5em 0.4em;box-sizing: border-box;padding-bottom: 0.4em;background-color: white;}#sk-container-id-2 div.sk-label label {font-family: monospace;font-weight: bold;display: inline-block;line-height: 1.2em;}#sk-container-id-2 div.sk-label-container {text-align: center;}#sk-container-id-2 div.sk-container {/* jupyter's `normalize.less` sets `[hidden] { display: none; }` but bootstrap.min.css set `[hidden] { display: none !important; }` so we also need the `!important` here to be able to override the default hidden behavior on the sphinx rendered scikit-learn.org. See: https://github.com/scikit-learn/scikit-learn/issues/21755 */display: inline-block !important;position: relative;}#sk-container-id-2 div.sk-text-repr-fallback {display: none;}</style><div id=\"sk-container-id-2\" class=\"sk-top-container\"><div class=\"sk-text-repr-fallback\"><pre>GridSearchCV(cv=LeaveOneGroupOut(),\n",
       "             estimator=LogisticRegression(penalty=&#x27;l1&#x27;, random_state=0,\n",
       "                                          solver=&#x27;saga&#x27;),\n",
       "             param_grid=[{&#x27;C&#x27;: [100000000.0, 10000.0, 1000.0, 100.0, 10.0, 1.0,\n",
       "                                0.1, 0.01, 0.001, 0.0001]}],\n",
       "             scoring=&#x27;accuracy&#x27;)</pre><b>In a Jupyter environment, please rerun this cell to show the HTML representation or trust the notebook. <br />On GitHub, the HTML representation is unable to render, please try loading this page with nbviewer.org.</b></div><div class=\"sk-container\" hidden><div class=\"sk-item sk-dashed-wrapped\"><div class=\"sk-label-container\"><div class=\"sk-label sk-toggleable\"><input class=\"sk-toggleable__control sk-hidden--visually\" id=\"sk-estimator-id-2\" type=\"checkbox\" ><label for=\"sk-estimator-id-2\" class=\"sk-toggleable__label sk-toggleable__label-arrow\">GridSearchCV</label><div class=\"sk-toggleable__content\"><pre>GridSearchCV(cv=LeaveOneGroupOut(),\n",
       "             estimator=LogisticRegression(penalty=&#x27;l1&#x27;, random_state=0,\n",
       "                                          solver=&#x27;saga&#x27;),\n",
       "             param_grid=[{&#x27;C&#x27;: [100000000.0, 10000.0, 1000.0, 100.0, 10.0, 1.0,\n",
       "                                0.1, 0.01, 0.001, 0.0001]}],\n",
       "             scoring=&#x27;accuracy&#x27;)</pre></div></div></div><div class=\"sk-parallel\"><div class=\"sk-parallel-item\"><div class=\"sk-item\"><div class=\"sk-label-container\"><div class=\"sk-label sk-toggleable\"><input class=\"sk-toggleable__control sk-hidden--visually\" id=\"sk-estimator-id-3\" type=\"checkbox\" ><label for=\"sk-estimator-id-3\" class=\"sk-toggleable__label sk-toggleable__label-arrow\">estimator: LogisticRegression</label><div class=\"sk-toggleable__content\"><pre>LogisticRegression(penalty=&#x27;l1&#x27;, random_state=0, solver=&#x27;saga&#x27;)</pre></div></div></div><div class=\"sk-serial\"><div class=\"sk-item\"><div class=\"sk-estimator sk-toggleable\"><input class=\"sk-toggleable__control sk-hidden--visually\" id=\"sk-estimator-id-4\" type=\"checkbox\" ><label for=\"sk-estimator-id-4\" class=\"sk-toggleable__label sk-toggleable__label-arrow\">LogisticRegression</label><div class=\"sk-toggleable__content\"><pre>LogisticRegression(penalty=&#x27;l1&#x27;, random_state=0, solver=&#x27;saga&#x27;)</pre></div></div></div></div></div></div></div></div></div></div>"
      ],
      "text/plain": [
       "GridSearchCV(cv=LeaveOneGroupOut(),\n",
       "             estimator=LogisticRegression(penalty='l1', random_state=0,\n",
       "                                          solver='saga'),\n",
       "             param_grid=[{'C': [100000000.0, 10000.0, 1000.0, 100.0, 10.0, 1.0,\n",
       "                                0.1, 0.01, 0.001, 0.0001]}],\n",
       "             scoring='accuracy')"
      ]
     },
     "execution_count": 131,
     "metadata": {},
     "output_type": "execute_result"
    }
   ],
   "source": [
    "leave_one_group_out_cv = LeaveOneGroupOut()\n",
    "tuned_parameters = [{'C': [1 / 1e-8, 1 / 0.0001, 1 / 0.001, 1 / 0.01, 1 / 0.1, 1 / 1, 1 / 10, 1 / 100, 1 / 1000, 1 / 10000]}] # sklearn uses 1 / C where C is the regularization strength\n",
    "\n",
    "score = \"accuracy\"\n",
    "print(f\"# Tuning hyper-parameters for {score}\\n\")\n",
    "clf = GridSearchCV(\n",
    "    LogisticRegression(solver=\"saga\", random_state=0, penalty=\"l1\"), tuned_parameters, scoring=score, cv=leave_one_group_out_cv)\n",
    "\n",
    "\"\"\" Run \"\"\"\n",
    "clf.fit(X_train, y_train, groups=patient_ID_train.values)"
   ]
  },
  {
   "cell_type": "code",
   "execution_count": 137,
   "id": "8d13d944",
   "metadata": {
    "ExecuteTime": {
     "end_time": "2023-02-09T16:36:35.641883Z",
     "start_time": "2023-02-09T16:36:35.105318Z"
    }
   },
   "outputs": [
    {
     "name": "stdout",
     "output_type": "stream",
     "text": [
      "Best parameters set found on development set:\n",
      "\n",
      "C = 10.00\n",
      "\n",
      "Grid scores on development set (using 5-fold cross validation):\n",
      "\n",
      "0.7728 (+/-0.4910) for 0.00\n",
      "0.7728 (+/-0.4910) for 0.00\n",
      "0.7728 (+/-0.4910) for 0.00\n",
      "0.7728 (+/-0.4911) for 0.01\n",
      "0.7728 (+/-0.4908) for 0.10\n",
      "0.7731 (+/-0.4889) for 1.00\n",
      "0.7861 (+/-0.4318) for 10.00\n",
      "0.7531 (+/-0.2291) for 100.00\n",
      "0.6733 (+/-0.5160) for 1000.00\n",
      "0.7188 (+/-0.6241) for 10000.00\n",
      "\n",
      "Detailed classification report:\n",
      "\n",
      "The model is trained on the full development set.\n",
      "The scores are computed on the full evaluation set.\n",
      "Best roc_auc_score = 0.9453\n",
      "\n",
      "              precision    recall  f1-score   support\n",
      "\n",
      "           0       0.67      1.00      0.80     68589\n",
      "           1       0.99      0.27      0.42     45823\n",
      "\n",
      "    accuracy                           0.70    114412\n",
      "   macro avg       0.83      0.63      0.61    114412\n",
      "weighted avg       0.80      0.70      0.65    114412\n",
      "\n"
     ]
    }
   ],
   "source": [
    "print(\"Best parameters set found on development set:\\n\")\n",
    "print(f\"C = {1 / clf.best_params_['C']:.2f}\\n\")\n",
    "print(\"Grid scores on development set (using 5-fold cross validation):\\n\")\n",
    "means = clf.cv_results_['mean_test_score']\n",
    "stds = clf.cv_results_['std_test_score']\n",
    "for mean, std, params in zip(means, stds, clf.cv_results_['params']):\n",
    "    print(f\"{mean:.4f} (+/-{std * 3:.4f}) for {1 / params['C']:.2f}\")\n",
    "\n",
    "print(\"\\nDetailed classification report:\\n\")\n",
    "print(\"The model is trained on the full development set.\")\n",
    "print(\"The scores are computed on the full evaluation set.\")\n",
    "y_true_series, y_pred = y_test, clf.predict(X_test)\n",
    "y_score = clf.best_estimator_.predict_proba(X_test)\n",
    "best_auroc = roc_auc_score(y_true_series, y_score[:, 1])\n",
    "print(f\"Best roc_auc_score = {best_auroc:.4f}\\n\")\n",
    "print(classification_report(y_true_series, y_pred))"
   ]
  },
  {
   "cell_type": "code",
   "execution_count": 133,
   "id": "a2764002",
   "metadata": {
    "ExecuteTime": {
     "end_time": "2023-02-09T16:35:44.938635Z",
     "start_time": "2023-02-09T16:35:44.544688Z"
    }
   },
   "outputs": [
    {
     "data": {
      "text/plain": [
       "array([0.00215917, 0.00571975, 0.00473447, ..., 0.00531418, 0.00606967,\n",
       "       0.00486717], dtype=float32)"
      ]
     },
     "execution_count": 133,
     "metadata": {},
     "output_type": "execute_result"
    }
   ],
   "source": [
    "y_proba = clf.best_estimator_.predict_proba(X_train)\n",
    "y_proba_1 = y_proba[:, 1]\n",
    "y_proba_1"
   ]
  },
  {
   "cell_type": "code",
   "execution_count": 139,
   "id": "f8e84ae2",
   "metadata": {
    "ExecuteTime": {
     "end_time": "2023-02-09T16:36:52.727183Z",
     "start_time": "2023-02-09T16:36:52.283370Z"
    }
   },
   "outputs": [
    {
     "name": "stdout",
     "output_type": "stream",
     "text": [
      "auroc_value = 0.9511\n"
     ]
    },
    {
     "name": "stderr",
     "output_type": "stream",
     "text": [
      "C:\\ProgramData\\Anaconda3\\envs\\apy3.10\\lib\\site-packages\\torchmetrics\\utilities\\prints.py:36: UserWarning: Metric `AUROC` will save all targets and predictions in buffer. For large datasets this may lead to large memory footprint.\n",
      "  warnings.warn(*args, **kwargs)\n"
     ]
    }
   ],
   "source": [
    "auroc = AUROC(pos_label=1)\n",
    "auroc.update(torch.from_numpy(y_proba_1), torch.from_numpy(y_true))\n",
    "auroc_value = auroc.compute()\n",
    "auroc.reset()\n",
    "print(f\"auroc_value = {auroc_value:.4f}\")"
   ]
  },
  {
   "cell_type": "markdown",
   "id": "94b35202",
   "metadata": {},
   "source": [
    "#### Test"
   ]
  },
  {
   "cell_type": "code",
   "execution_count": 140,
   "id": "399e0b66",
   "metadata": {
    "ExecuteTime": {
     "end_time": "2023-02-09T16:37:01.192831Z",
     "start_time": "2023-02-09T16:37:00.794896Z"
    }
   },
   "outputs": [
    {
     "data": {
      "text/html": [
       "<div>\n",
       "<style scoped>\n",
       "    .dataframe tbody tr th:only-of-type {\n",
       "        vertical-align: middle;\n",
       "    }\n",
       "\n",
       "    .dataframe tbody tr th {\n",
       "        vertical-align: top;\n",
       "    }\n",
       "\n",
       "    .dataframe thead th {\n",
       "        text-align: right;\n",
       "    }\n",
       "</style>\n",
       "<table border=\"1\" class=\"dataframe\">\n",
       "  <thead>\n",
       "    <tr style=\"text-align: right;\">\n",
       "      <th></th>\n",
       "      <th>y_true</th>\n",
       "      <th>ClocsCNN_0_scores</th>\n",
       "      <th>ClocsCNN_1_scores</th>\n",
       "      <th>ClocsCNN_2_scores</th>\n",
       "    </tr>\n",
       "  </thead>\n",
       "  <tbody>\n",
       "    <tr>\n",
       "      <th>0</th>\n",
       "      <td>0</td>\n",
       "      <td>0.342102</td>\n",
       "      <td>0.214450</td>\n",
       "      <td>0.242652</td>\n",
       "    </tr>\n",
       "    <tr>\n",
       "      <th>1</th>\n",
       "      <td>0</td>\n",
       "      <td>0.343323</td>\n",
       "      <td>0.254502</td>\n",
       "      <td>0.245788</td>\n",
       "    </tr>\n",
       "    <tr>\n",
       "      <th>2</th>\n",
       "      <td>0</td>\n",
       "      <td>0.271641</td>\n",
       "      <td>0.222343</td>\n",
       "      <td>0.293829</td>\n",
       "    </tr>\n",
       "    <tr>\n",
       "      <th>3</th>\n",
       "      <td>0</td>\n",
       "      <td>0.319520</td>\n",
       "      <td>0.273118</td>\n",
       "      <td>0.311018</td>\n",
       "    </tr>\n",
       "    <tr>\n",
       "      <th>4</th>\n",
       "      <td>0</td>\n",
       "      <td>0.260570</td>\n",
       "      <td>0.191390</td>\n",
       "      <td>0.241979</td>\n",
       "    </tr>\n",
       "    <tr>\n",
       "      <th>...</th>\n",
       "      <td>...</td>\n",
       "      <td>...</td>\n",
       "      <td>...</td>\n",
       "      <td>...</td>\n",
       "    </tr>\n",
       "    <tr>\n",
       "      <th>114407</th>\n",
       "      <td>0</td>\n",
       "      <td>0.351892</td>\n",
       "      <td>0.378931</td>\n",
       "      <td>0.356382</td>\n",
       "    </tr>\n",
       "    <tr>\n",
       "      <th>114408</th>\n",
       "      <td>0</td>\n",
       "      <td>0.341163</td>\n",
       "      <td>0.352873</td>\n",
       "      <td>0.344683</td>\n",
       "    </tr>\n",
       "    <tr>\n",
       "      <th>114409</th>\n",
       "      <td>0</td>\n",
       "      <td>0.362673</td>\n",
       "      <td>0.373122</td>\n",
       "      <td>0.368142</td>\n",
       "    </tr>\n",
       "    <tr>\n",
       "      <th>114410</th>\n",
       "      <td>0</td>\n",
       "      <td>0.344083</td>\n",
       "      <td>0.367235</td>\n",
       "      <td>0.364214</td>\n",
       "    </tr>\n",
       "    <tr>\n",
       "      <th>114411</th>\n",
       "      <td>0</td>\n",
       "      <td>0.343021</td>\n",
       "      <td>0.345159</td>\n",
       "      <td>0.356684</td>\n",
       "    </tr>\n",
       "  </tbody>\n",
       "</table>\n",
       "<p>114412 rows × 4 columns</p>\n",
       "</div>"
      ],
      "text/plain": [
       "        y_true  ClocsCNN_0_scores  ClocsCNN_1_scores  ClocsCNN_2_scores\n",
       "0            0           0.342102           0.214450           0.242652\n",
       "1            0           0.343323           0.254502           0.245788\n",
       "2            0           0.271641           0.222343           0.293829\n",
       "3            0           0.319520           0.273118           0.311018\n",
       "4            0           0.260570           0.191390           0.241979\n",
       "...        ...                ...                ...                ...\n",
       "114407       0           0.351892           0.378931           0.356382\n",
       "114408       0           0.341163           0.352873           0.344683\n",
       "114409       0           0.362673           0.373122           0.368142\n",
       "114410       0           0.344083           0.367235           0.364214\n",
       "114411       0           0.343021           0.345159           0.356684\n",
       "\n",
       "[114412 rows x 4 columns]"
      ]
     },
     "execution_count": 140,
     "metadata": {},
     "output_type": "execute_result"
    }
   ],
   "source": [
    "mode = \"test\"\n",
    "\n",
    "y_score_df_dict = {}\n",
    "y_true = roc_curve_results_dict_dict_dict[mode][list(model_dict.keys())[0]][\"y_true\"]\n",
    "y_score_df_dict[\"y_true\"] = y_true\n",
    "for model_key in model_dict:\n",
    "    y_score_df_dict[f\"{model_key}_scores\"] = roc_curve_results_dict_dict_dict[mode][model_key][\"y_scores\"]\n",
    "y_score_df = pd.DataFrame.from_dict(y_score_df_dict)\n",
    "y_score_df"
   ]
  },
  {
   "cell_type": "code",
   "execution_count": 142,
   "id": "953121fe",
   "metadata": {
    "ExecuteTime": {
     "end_time": "2023-02-09T16:37:17.917198Z",
     "start_time": "2023-02-09T16:37:17.519263Z"
    }
   },
   "outputs": [
    {
     "name": "stdout",
     "output_type": "stream",
     "text": [
      "auroc_value = 0.9453\n"
     ]
    },
    {
     "name": "stderr",
     "output_type": "stream",
     "text": [
      "C:\\ProgramData\\Anaconda3\\envs\\apy3.10\\lib\\site-packages\\torchmetrics\\utilities\\prints.py:36: UserWarning: Metric `AUROC` will save all targets and predictions in buffer. For large datasets this may lead to large memory footprint.\n",
      "  warnings.warn(*args, **kwargs)\n"
     ]
    }
   ],
   "source": [
    "X_test = y_score_df[feature_name_list]\n",
    "y_test = y_score_df[\"y_true\"]\n",
    "y_proba = clf.best_estimator_.predict_proba(X_test)\n",
    "y_proba_1 = y_proba[:, 1]\n",
    "auroc = AUROC(pos_label=1)\n",
    "auroc.update(torch.from_numpy(y_proba_1), torch.from_numpy(y_true))\n",
    "auroc_value = auroc.compute()\n",
    "auroc.reset()\n",
    "print(f\"auroc_value = {auroc_value:.4f}\")"
   ]
  },
  {
   "cell_type": "code",
   "execution_count": 143,
   "id": "9b79857d",
   "metadata": {
    "ExecuteTime": {
     "end_time": "2023-02-09T16:37:26.506226Z",
     "start_time": "2023-02-09T16:37:25.788146Z"
    }
   },
   "outputs": [
    {
     "data": {
      "text/html": [
       "<div>\n",
       "<style scoped>\n",
       "    .dataframe tbody tr th:only-of-type {\n",
       "        vertical-align: middle;\n",
       "    }\n",
       "\n",
       "    .dataframe tbody tr th {\n",
       "        vertical-align: top;\n",
       "    }\n",
       "\n",
       "    .dataframe thead th {\n",
       "        text-align: right;\n",
       "    }\n",
       "</style>\n",
       "<table border=\"1\" class=\"dataframe\">\n",
       "  <thead>\n",
       "    <tr style=\"text-align: right;\">\n",
       "      <th></th>\n",
       "      <th>fpr</th>\n",
       "      <th>tpr</th>\n",
       "      <th>thresholds</th>\n",
       "    </tr>\n",
       "  </thead>\n",
       "  <tbody>\n",
       "    <tr>\n",
       "      <th>0</th>\n",
       "      <td>0.000000</td>\n",
       "      <td>0.000000</td>\n",
       "      <td>1.996766</td>\n",
       "    </tr>\n",
       "    <tr>\n",
       "      <th>1</th>\n",
       "      <td>0.000000</td>\n",
       "      <td>0.000022</td>\n",
       "      <td>0.996766</td>\n",
       "    </tr>\n",
       "    <tr>\n",
       "      <th>2</th>\n",
       "      <td>0.000000</td>\n",
       "      <td>0.007769</td>\n",
       "      <td>0.991547</td>\n",
       "    </tr>\n",
       "    <tr>\n",
       "      <th>3</th>\n",
       "      <td>0.000000</td>\n",
       "      <td>0.007813</td>\n",
       "      <td>0.991547</td>\n",
       "    </tr>\n",
       "    <tr>\n",
       "      <th>4</th>\n",
       "      <td>0.000000</td>\n",
       "      <td>0.009624</td>\n",
       "      <td>0.991076</td>\n",
       "    </tr>\n",
       "    <tr>\n",
       "      <th>...</th>\n",
       "      <td>...</td>\n",
       "      <td>...</td>\n",
       "      <td>...</td>\n",
       "    </tr>\n",
       "    <tr>\n",
       "      <th>18855</th>\n",
       "      <td>0.996530</td>\n",
       "      <td>0.999956</td>\n",
       "      <td>0.000110</td>\n",
       "    </tr>\n",
       "    <tr>\n",
       "      <th>18856</th>\n",
       "      <td>0.996530</td>\n",
       "      <td>0.999978</td>\n",
       "      <td>0.000110</td>\n",
       "    </tr>\n",
       "    <tr>\n",
       "      <th>18857</th>\n",
       "      <td>0.999125</td>\n",
       "      <td>0.999978</td>\n",
       "      <td>0.000102</td>\n",
       "    </tr>\n",
       "    <tr>\n",
       "      <th>18858</th>\n",
       "      <td>0.999125</td>\n",
       "      <td>1.000000</td>\n",
       "      <td>0.000102</td>\n",
       "    </tr>\n",
       "    <tr>\n",
       "      <th>18859</th>\n",
       "      <td>1.000000</td>\n",
       "      <td>1.000000</td>\n",
       "      <td>0.000072</td>\n",
       "    </tr>\n",
       "  </tbody>\n",
       "</table>\n",
       "<p>18860 rows × 3 columns</p>\n",
       "</div>"
      ],
      "text/plain": [
       "            fpr       tpr  thresholds\n",
       "0      0.000000  0.000000    1.996766\n",
       "1      0.000000  0.000022    0.996766\n",
       "2      0.000000  0.007769    0.991547\n",
       "3      0.000000  0.007813    0.991547\n",
       "4      0.000000  0.009624    0.991076\n",
       "...         ...       ...         ...\n",
       "18855  0.996530  0.999956    0.000110\n",
       "18856  0.996530  0.999978    0.000110\n",
       "18857  0.999125  0.999978    0.000102\n",
       "18858  0.999125  1.000000    0.000102\n",
       "18859  1.000000  1.000000    0.000072\n",
       "\n",
       "[18860 rows x 3 columns]"
      ]
     },
     "execution_count": 143,
     "metadata": {},
     "output_type": "execute_result"
    }
   ],
   "source": [
    "fpr, tpr, thresholds = roc_curve(y_true, y_proba_1, pos_label=1)\n",
    "roc_curve_df = pd.DataFrame([fpr, tpr, thresholds]).T\n",
    "roc_curve_df.columns=[\"fpr\", \"tpr\", \"thresholds\"]\n",
    "roc_curve_df"
   ]
  },
  {
   "cell_type": "code",
   "execution_count": 145,
   "id": "c1fd6f3e",
   "metadata": {
    "ExecuteTime": {
     "end_time": "2023-02-12T03:29:24.886220Z",
     "start_time": "2023-02-12T03:29:24.387554Z"
    }
   },
   "outputs": [
    {
     "data": {
      "text/plain": [
       "0.814143552364533"
      ]
     },
     "execution_count": 145,
     "metadata": {},
     "output_type": "execute_result"
    }
   ],
   "source": [
    "target_fpr = 0.05\n",
    "# target_fpr = 0.10\n",
    "resulting_tpr = roc_curve_df.query(f\"abs(fpr - {target_fpr}) < 0.0001\")[\"tpr\"].mean()\n",
    "resulting_tpr"
   ]
  },
  {
   "cell_type": "code",
   "execution_count": null,
   "id": "61200dd4",
   "metadata": {},
   "outputs": [],
   "source": []
  }
 ],
 "metadata": {
  "kernelspec": {
   "display_name": "Python 3 (ipykernel)",
   "language": "python",
   "name": "python3"
  },
  "language_info": {
   "codemirror_mode": {
    "name": "ipython",
    "version": 3
   },
   "file_extension": ".py",
   "mimetype": "text/x-python",
   "name": "python",
   "nbconvert_exporter": "python",
   "pygments_lexer": "ipython3",
   "version": "3.10.4"
  },
  "latex_envs": {
   "LaTeX_envs_menu_present": true,
   "autoclose": false,
   "autocomplete": true,
   "bibliofile": "biblio.bib",
   "cite_by": "apalike",
   "current_citInitial": 1,
   "eqLabelWithNumbers": true,
   "eqNumInitial": 1,
   "hotkeys": {
    "equation": "Ctrl-E",
    "itemize": "Ctrl-I"
   },
   "labels_anchors": false,
   "latex_user_defs": false,
   "report_style_numbering": false,
   "user_envs_cfg": false
  },
  "toc": {
   "base_numbering": 1,
   "nav_menu": {},
   "number_sections": true,
   "sideBar": true,
   "skip_h1_title": false,
   "title_cell": "Table of Contents",
   "title_sidebar": "Contents",
   "toc_cell": false,
   "toc_position": {
    "height": "calc(100% - 180px)",
    "left": "10px",
    "top": "150px",
    "width": "550.4px"
   },
   "toc_section_display": true,
   "toc_window_display": true
  },
  "varInspector": {
   "cols": {
    "lenName": 16,
    "lenType": 16,
    "lenVar": 40
   },
   "kernels_config": {
    "python": {
     "delete_cmd_postfix": "",
     "delete_cmd_prefix": "del ",
     "library": "var_list.py",
     "varRefreshCmd": "print(var_dic_list())"
    },
    "r": {
     "delete_cmd_postfix": ") ",
     "delete_cmd_prefix": "rm(",
     "library": "var_list.r",
     "varRefreshCmd": "cat(var_dic_list()) "
    }
   },
   "types_to_exclude": [
    "module",
    "function",
    "builtin_function_or_method",
    "instance",
    "_Feature"
   ],
   "window_display": false
  }
 },
 "nbformat": 4,
 "nbformat_minor": 5
}
